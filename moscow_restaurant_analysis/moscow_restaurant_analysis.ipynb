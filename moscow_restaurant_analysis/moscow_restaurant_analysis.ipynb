{
 "cells": [
  {
   "cell_type": "markdown",
   "id": "cdf8e1b4",
   "metadata": {},
   "source": [
    "<div style=\"border:solid green 3px; padding: 20px\">\n",
    "\t\t\t\t\t\t\t\t\t\t\t\t\t\t\t\t\t\t\t\t\t\t\t\n",
    "<b>Привет, !</b>\n",
    "\t\t\t\t\t\t\t\t\t\t\t\t\t\t\t\t\t\t\t\t\t\n",
    "Меня зовут Сороколетов Илья и я буду проверять твой проект. \n",
    "\t\t\t\t\t\t\t\t\t\t\t\t\t\t\t\t\t\t\t\t\t\n",
    "Предлагаю общаться на «**ты**», но если тебе будет комфортнее общаться на «**вы**», то сообщи об этом в комментариях)\n",
    "\t\t\t\t\t\t\t\t\t\t\t\t\t\t\t\t\t\t\t\t\t\n",
    "\t\t\t\t\t\t\t\t\t\t\t\t\t\t\t\t\t\t\t\t\t\n",
    "Для твоего удобства, я буду выделять свои комментарии следующим образом:\n",
    "\t\t\t\t\t\t\t\t\t\t\t\t\t\t\t\t\t\t\t\t\t\n",
    "<div class=\"alert alert-danger\">\n",
    "<b>❌ Комментарий ревьюера v1:</b> Самые важные замечания. Они указывают на ключевые моменты, которые влияют на конечный результат проекта. </div>\n",
    "\t\t\t\t\t\t\t\t\t\t\t\t\t\t\t\t\t\t\t\t\t\n",
    "<div class=\"alert alert-warning\">\n",
    "<b>⚠️ Комментарий ревьюера v1:</b> Советы или замечания, которые помогут сделать твою работу лучше, но необязательны к выполнению.\n",
    "\t\t\t\t\t\t\t\t\t\t\t\t\t\t\t\t\t\t\t\t\t\n",
    "</div>\n",
    "\t\t\t\t\t\t\t\t\t\t\t\t\t\t\t\t\t\t\t\t\t\n",
    "<div class=\"alert alert-success\">\n",
    "<b>✔️ Комментарий ревьюера v1:</b> Так я выделяю все остальные комментарии.</div>\n",
    "\t\t\t\t\t\t\t\t\t\t\t\t\t\t\t\t\t\t\t\t\t\n",
    "\t\t\t\t\t\t\t\t\t\t\t\t\t\t\t\t\t\t\t\t\t\n",
    "Пометками <b>v1-v2-v3-...</b> я буду отмечать версию проверки. Так ты сможешь быстро найти мои новые комментарии.\n",
    "\t\t\t\t\t\t\t\t\t\t\t\t\t\t\t\t\t\t\t\t\t\n",
    "Давай работать над проектом в диалоге: если ты что-то меняешь в проекте по моим рекомендациям — пиши об этом. Выбери для своих комментариев какой-то заметный цвет, так мне будет легче отследить изменения, например вот так:\n",
    "\t\t\t\t\t\t\t\t\t\t\t\t\t\t\t\t\t\t\t\t\t    \n",
    "<div class=\"alert alert-info\">\n",
    "<b>Комментарий студента:</b>\n",
    "<br>\n",
    "</div>\n",
    "\t\t\t\t\t\t\t\t\t\t\t\t\t\t\t\t\t\t\t\t\t\n",
    "<b>Пожалуйста, не перемещай, не изменяй и не удаляй мои комментарии.</b> Если ты оставляешь свои комментарии, то делай это под моими, чтобы сообщения были расположены в хронологическом порядке. Всё это поможет выполнить повторную проверку твоего проекта быстрее. \n",
    "\t\t\t\t\t\t\t\t\t\t\t\t\t\t\t\t\t\t\t\t\t\n",
    "Перед отправкой работы я рекомендую нажимать Kernel -> Restart & Run All. Это перезапустит ядро и по очереди выполнит все ячейки. Так ты сможешь проверить, что всё работает корректно. Кнопка Kernel находится в панели сверху\n",
    "\t\t\t\t\t\t\t\t\t\t\t\t\t\t\t\t\t\t\t\t\t\n",
    "Обязательно задавай вопросы если они возникнут, а я перехожу к проверке)\n",
    "\t\t\t\t\t\t\t\t\t\t\t\t\t\t\t\t\t\t\t\t\t\n",
    "P.S. На всякий случай, я оставлю пустой шаблон для твоих комментариев ниже. Кликни два раза на мой комментарий, скопируй последние четыре строчки кода и вставляй их в пустую ячейку там, где ты хочешь оставить комментарий. Не забудь только перед этим сменить тип ячейки на Markdown. Быстро это можно сделать так: кликнуть на ячейку - нажать ESC - нажать M. \n",
    "\t\t\t\t\t\t\t\t\t\t\t\t\t\t\t\t\t\t\t\t\t    \n",
    "\t\t\t\t\t\t\t\t\t\t\t\t\t\t\t\t\t\t\t\t\t    \n",
    "<div class=\"alert alert-info\">\n",
    "<b>Комментарий студента:</b>\n",
    "<br>Привет! Приятно познакомиться 🙂\n",
    "</div>"
   ]
  },
  {
   "cell_type": "markdown",
   "id": "d623b6ab",
   "metadata": {},
   "source": [
    "<div class=\"alert alert-success\">\n",
    "<b>✔️ Комментарий ревьюера v2:</b> \n",
    "<br>Привет, взаимно! 👋 \n",
    "<br>Иду смотреть правки)\n",
    "</div>"
   ]
  },
  {
   "cell_type": "markdown",
   "id": "e06910dd",
   "metadata": {
    "id": "e06910dd"
   },
   "source": [
    "# Исследовательский анализ рынка общественного питания Москвы\n",
    "\n",
    "- Автор: Петрова Татьяна\n",
    "- Дата: 23.02.25"
   ]
  },
  {
   "cell_type": "markdown",
   "id": "4149134c",
   "metadata": {
    "id": "4149134c"
   },
   "source": [
    "### Цели и задачи проекта\n",
    "\n",
    "**Цель:** Провести исследовательский анализ данных рынка общественного питания Москвы, чтобы помочь в выборе подходящего места.\n",
    "\n",
    "**Задачи:**\n",
    "1. Загрузить данные и познакомиться с их содержимым.\n",
    "2. Провести предобработку данных.\n",
    "3. Провести исследовательский анализ данных.\n",
    "4. Сформулировать выводы по проведённому анализу."
   ]
  },
  {
   "cell_type": "markdown",
   "id": "728986ea",
   "metadata": {
    "id": "728986ea"
   },
   "source": [
    "### Описание данных\n",
    "\n",
    "Для анализа поступили данные о заведениях общественного питания Москвы. Данные состоят из двух датасетов:\n",
    "\n",
    "- `rest_info.csv` — содержит информацию о заведениях общественного питания;\n",
    "- `rest_price.csv` — содержит информацию о среднем чеке в заведениях общественного питания.\n",
    "\n",
    "### Описание датасета `rest_info.csv`\n",
    "\n",
    "- `id` — идентификатор заведения;\n",
    "- `name` — название заведения;\n",
    "- `address` — адрес заведения;\n",
    "- `district` — административный район, в котором находится заведение;\n",
    "- `category` — категория заведения;\n",
    "- `hours` — график работы;\n",
    "- `rating` — рейтинг заведения;\n",
    "- `chain` — сетевое заведение или нет;\n",
    "- `seats` — количество посадочных мест.\n",
    "\n",
    "### Описание датасета `rest_price.csv`\n",
    "\n",
    "- `id` — идентификатор заведения;\n",
    "- `price` — категория цен в заведении;\n",
    "- `avg_bill` — средний чек;\n",
    "- `middle_avg_bill` — число с оценкой среднего чека, которое указано только для значений из столбца `avg_bill`;\n",
    "- `middle_coffee_cup` — число с оценкой одной чашки капучино, которое указано только для значений из столбца `avg_bill`."
   ]
  },
  {
   "cell_type": "markdown",
   "id": "4fecaf95",
   "metadata": {
    "id": "4fecaf95"
   },
   "source": [
    "### Структура проекта\n",
    "\n",
    "1. Загрузка данных и знакомство с ними.\n",
    "2. Предобработка данных.\n",
    "3. Исследовательский анализ данных.\n",
    "4. Итоговые выводы.\n",
    "\n",
    "---"
   ]
  },
  {
   "cell_type": "markdown",
   "id": "b71c40c3",
   "metadata": {},
   "source": [
    "<div class=\"alert alert-success\">\n",
    "<b>✔️ Комментарий ревьюера v1:</b> \n",
    "<br>Молодец, что добавляешь описание задачи. Это поможет тебе быстро вспомнить о чем проект, если спустя время ты решишь к нему вернуться)\n",
    "</div>"
   ]
  },
  {
   "cell_type": "markdown",
   "id": "6f7d21d6",
   "metadata": {
    "id": "6f7d21d6"
   },
   "source": [
    "## 1. Загрузка данных и знакомство с ними\n",
    "\n",
    "Начнём с загрузки библиотек и датасетов `/datasets/rest_info.csv` и `/datasets/rest_price.csv`. Будем использовать pandas и библиотеки визуализации данных matplotlib и seaborn, а также phik для построения матрицы корреляции. Данные датасетов сохраним в двух переменных: `info_df` и `price_df`."
   ]
  },
  {
   "cell_type": "code",
   "execution_count": 1,
   "id": "582d3261",
   "metadata": {},
   "outputs": [
    {
     "name": "stdout",
     "output_type": "stream",
     "text": [
      "Requirement already satisfied: phik in /opt/conda/lib/python3.9/site-packages (0.12.4)\n",
      "Requirement already satisfied: numpy>=1.18.0 in /opt/conda/lib/python3.9/site-packages (from phik) (1.21.1)\n",
      "Requirement already satisfied: joblib>=0.14.1 in /opt/conda/lib/python3.9/site-packages (from phik) (1.1.0)\n",
      "Requirement already satisfied: matplotlib>=2.2.3 in /opt/conda/lib/python3.9/site-packages (from phik) (3.3.4)\n",
      "Requirement already satisfied: pandas>=0.25.1 in /opt/conda/lib/python3.9/site-packages (from phik) (1.2.4)\n",
      "Requirement already satisfied: scipy>=1.5.2 in /opt/conda/lib/python3.9/site-packages (from phik) (1.9.1)\n",
      "Requirement already satisfied: python-dateutil>=2.1 in /opt/conda/lib/python3.9/site-packages (from matplotlib>=2.2.3->phik) (2.8.1)\n",
      "Requirement already satisfied: pillow>=6.2.0 in /opt/conda/lib/python3.9/site-packages (from matplotlib>=2.2.3->phik) (8.4.0)\n",
      "Requirement already satisfied: kiwisolver>=1.0.1 in /opt/conda/lib/python3.9/site-packages (from matplotlib>=2.2.3->phik) (1.4.4)\n",
      "Requirement already satisfied: pyparsing!=2.0.4,!=2.1.2,!=2.1.6,>=2.0.3 in /opt/conda/lib/python3.9/site-packages (from matplotlib>=2.2.3->phik) (2.4.7)\n",
      "Requirement already satisfied: cycler>=0.10 in /opt/conda/lib/python3.9/site-packages (from matplotlib>=2.2.3->phik) (0.11.0)\n",
      "Requirement already satisfied: pytz>=2017.3 in /opt/conda/lib/python3.9/site-packages (from pandas>=0.25.1->phik) (2021.1)\n",
      "Requirement already satisfied: six>=1.5 in /opt/conda/lib/python3.9/site-packages (from python-dateutil>=2.1->matplotlib>=2.2.3->phik) (1.16.0)\n"
     ]
    }
   ],
   "source": [
    "#Устанавливаем библиотеку phik\n",
    "!pip install phik"
   ]
  },
  {
   "cell_type": "code",
   "execution_count": 2,
   "id": "05faf34b",
   "metadata": {
    "id": "05faf34b"
   },
   "outputs": [],
   "source": [
    "# Импортируем библиотеки\n",
    "import pandas as pd\n",
    "\n",
    "# Загружаем библиотеки для визуализации данных\n",
    "import matplotlib.pyplot as plt\n",
    "import seaborn as sns\n",
    "\n",
    "# Загружаем библиотеку для расчёта коэффициента корреляции phi_k\n",
    "from phik import phik_matrix"
   ]
  },
  {
   "cell_type": "markdown",
   "id": "7cfcb8f0",
   "metadata": {},
   "source": [
    "<div class=\"alert alert-success\">\n",
    "<b>✔️ Комментарий ревьюера v1:</b> \n",
    "<br>Ты правильно делаешь, что импортируешь все библиотеки отдельно в первой ячейке. Это правило хорошего тона, которое позволит твоим коллегам сразу увидеть все необходимые библиотеки для работы с твоим файлом.\n",
    "</div>"
   ]
  },
  {
   "cell_type": "code",
   "execution_count": 3,
   "id": "ce87c1db",
   "metadata": {
    "id": "ce87c1db"
   },
   "outputs": [],
   "source": [
    "# Выгружаем данные в переменные info_df и price_df\n",
    "info_df = pd.read_csv('https://code.s3.yandex.net/datasets/rest_info.csv')\n",
    "price_df = pd.read_csv('https://code.s3.yandex.net/datasets/rest_price.csv')"
   ]
  },
  {
   "cell_type": "markdown",
   "id": "18b5dfff",
   "metadata": {
    "id": "18b5dfff"
   },
   "source": [
    "Познакомимся с данными датасета rest_info.csv — выведем первые строки методом head(), а информацию о датафрейме методом info():"
   ]
  },
  {
   "cell_type": "code",
   "execution_count": 4,
   "id": "f68a7419",
   "metadata": {
    "id": "f68a7419"
   },
   "outputs": [
    {
     "data": {
      "text/html": [
       "<div>\n",
       "<style scoped>\n",
       "    .dataframe tbody tr th:only-of-type {\n",
       "        vertical-align: middle;\n",
       "    }\n",
       "\n",
       "    .dataframe tbody tr th {\n",
       "        vertical-align: top;\n",
       "    }\n",
       "\n",
       "    .dataframe thead th {\n",
       "        text-align: right;\n",
       "    }\n",
       "</style>\n",
       "<table border=\"1\" class=\"dataframe\">\n",
       "  <thead>\n",
       "    <tr style=\"text-align: right;\">\n",
       "      <th></th>\n",
       "      <th>id</th>\n",
       "      <th>name</th>\n",
       "      <th>category</th>\n",
       "      <th>address</th>\n",
       "      <th>district</th>\n",
       "      <th>hours</th>\n",
       "      <th>rating</th>\n",
       "      <th>chain</th>\n",
       "      <th>seats</th>\n",
       "    </tr>\n",
       "  </thead>\n",
       "  <tbody>\n",
       "    <tr>\n",
       "      <th>0</th>\n",
       "      <td>0c3e3439a8c64ea5bf6ecd6ca6ae19f0</td>\n",
       "      <td>WoWфли</td>\n",
       "      <td>кафе</td>\n",
       "      <td>Москва, улица Дыбенко, 7/1</td>\n",
       "      <td>Северный административный округ</td>\n",
       "      <td>ежедневно, 10:00–22:00</td>\n",
       "      <td>5.0</td>\n",
       "      <td>0</td>\n",
       "      <td>NaN</td>\n",
       "    </tr>\n",
       "    <tr>\n",
       "      <th>1</th>\n",
       "      <td>045780ada3474c57a2112e505d74b633</td>\n",
       "      <td>Четыре комнаты</td>\n",
       "      <td>ресторан</td>\n",
       "      <td>Москва, улица Дыбенко, 36, корп. 1</td>\n",
       "      <td>Северный административный округ</td>\n",
       "      <td>ежедневно, 10:00–22:00</td>\n",
       "      <td>4.5</td>\n",
       "      <td>0</td>\n",
       "      <td>4.0</td>\n",
       "    </tr>\n",
       "    <tr>\n",
       "      <th>2</th>\n",
       "      <td>1070b6b59144425896c65889347fcff6</td>\n",
       "      <td>Хазри</td>\n",
       "      <td>кафе</td>\n",
       "      <td>Москва, Клязьминская улица, 15</td>\n",
       "      <td>Северный административный округ</td>\n",
       "      <td>пн-чт 11:00–02:00; пт,сб 11:00–05:00; вс 11:00...</td>\n",
       "      <td>4.6</td>\n",
       "      <td>0</td>\n",
       "      <td>45.0</td>\n",
       "    </tr>\n",
       "    <tr>\n",
       "      <th>3</th>\n",
       "      <td>03ac7cd772104f65b58b349dc59f03ee</td>\n",
       "      <td>Dormouse Coffee Shop</td>\n",
       "      <td>кофейня</td>\n",
       "      <td>Москва, улица Маршала Федоренко, 12</td>\n",
       "      <td>Северный административный округ</td>\n",
       "      <td>ежедневно, 09:00–22:00</td>\n",
       "      <td>5.0</td>\n",
       "      <td>0</td>\n",
       "      <td>NaN</td>\n",
       "    </tr>\n",
       "    <tr>\n",
       "      <th>4</th>\n",
       "      <td>a163aada139c4c7f87b0b1c0b466a50f</td>\n",
       "      <td>Иль Марко</td>\n",
       "      <td>пиццерия</td>\n",
       "      <td>Москва, Правобережная улица, 1Б</td>\n",
       "      <td>Северный административный округ</td>\n",
       "      <td>ежедневно, 10:00–22:00</td>\n",
       "      <td>5.0</td>\n",
       "      <td>1</td>\n",
       "      <td>148.0</td>\n",
       "    </tr>\n",
       "  </tbody>\n",
       "</table>\n",
       "</div>"
      ],
      "text/plain": [
       "                                 id                  name  category  \\\n",
       "0  0c3e3439a8c64ea5bf6ecd6ca6ae19f0                WoWфли      кафе   \n",
       "1  045780ada3474c57a2112e505d74b633        Четыре комнаты  ресторан   \n",
       "2  1070b6b59144425896c65889347fcff6                 Хазри      кафе   \n",
       "3  03ac7cd772104f65b58b349dc59f03ee  Dormouse Coffee Shop   кофейня   \n",
       "4  a163aada139c4c7f87b0b1c0b466a50f             Иль Марко  пиццерия   \n",
       "\n",
       "                               address                         district  \\\n",
       "0           Москва, улица Дыбенко, 7/1  Северный административный округ   \n",
       "1   Москва, улица Дыбенко, 36, корп. 1  Северный административный округ   \n",
       "2       Москва, Клязьминская улица, 15  Северный административный округ   \n",
       "3  Москва, улица Маршала Федоренко, 12  Северный административный округ   \n",
       "4      Москва, Правобережная улица, 1Б  Северный административный округ   \n",
       "\n",
       "                                               hours  rating  chain  seats  \n",
       "0                             ежедневно, 10:00–22:00     5.0      0    NaN  \n",
       "1                             ежедневно, 10:00–22:00     4.5      0    4.0  \n",
       "2  пн-чт 11:00–02:00; пт,сб 11:00–05:00; вс 11:00...     4.6      0   45.0  \n",
       "3                             ежедневно, 09:00–22:00     5.0      0    NaN  \n",
       "4                             ежедневно, 10:00–22:00     5.0      1  148.0  "
      ]
     },
     "execution_count": 4,
     "metadata": {},
     "output_type": "execute_result"
    }
   ],
   "source": [
    "# Выводим первые строки датафрейма на экран\n",
    "info_df.head()"
   ]
  },
  {
   "cell_type": "code",
   "execution_count": 5,
   "id": "dd415c80",
   "metadata": {
    "id": "dd415c80"
   },
   "outputs": [
    {
     "name": "stdout",
     "output_type": "stream",
     "text": [
      "<class 'pandas.core.frame.DataFrame'>\n",
      "RangeIndex: 8406 entries, 0 to 8405\n",
      "Data columns (total 9 columns):\n",
      " #   Column    Non-Null Count  Dtype  \n",
      "---  ------    --------------  -----  \n",
      " 0   id        8406 non-null   object \n",
      " 1   name      8406 non-null   object \n",
      " 2   category  8406 non-null   object \n",
      " 3   address   8406 non-null   object \n",
      " 4   district  8406 non-null   object \n",
      " 5   hours     7870 non-null   object \n",
      " 6   rating    8406 non-null   float64\n",
      " 7   chain     8406 non-null   int64  \n",
      " 8   seats     4795 non-null   float64\n",
      "dtypes: float64(2), int64(1), object(6)\n",
      "memory usage: 591.2+ KB\n"
     ]
    }
   ],
   "source": [
    "# Выводим информацию о датафрейме\n",
    "info_df.info()"
   ]
  },
  {
   "cell_type": "markdown",
   "id": "2c614a62",
   "metadata": {
    "id": "2c614a62"
   },
   "source": [
    "### Промежуточный вывод\n",
    "\n",
    "Датасет `rest_info.csv` содержит 9 столбцов и 8406 строк, в которыз представлена информация о заведениях общественного питания.\n",
    "\n",
    "После первичного анализа данных можно сделать следующие выводы:\n",
    "- Названия стобцов представленны корректно.\n",
    "- Большинство данных представлены типом `object`, такие данные представленны корректно. Столбцы `rating` и `seats` содержат значения типа `float64`. Столбец `chain` содержит значения типа `int64`. Для трех числовых стобцов можно понизить разрядность для оптимизации затрат памяти.\n",
    "- Нужно поменять тип данных у столбца `seats` с `float` на `int`.\n",
    "- Прропуски содержатся в столбцах `hours` и `seats`. Однако следует проверить и другие столбцы: в них могут встречаться значения-индикаторы, которые будут говорить об отсутствии данных.\n",
    "- Судя по первому знакомству с данными, значения в столбцах соответствуют своему описанию.\n",
    "\n",
    "Теперь познакомимся с данными датасета `rest_price.csv`."
   ]
  },
  {
   "cell_type": "code",
   "execution_count": 6,
   "id": "3593b7d5",
   "metadata": {
    "id": "3593b7d5"
   },
   "outputs": [
    {
     "data": {
      "text/html": [
       "<div>\n",
       "<style scoped>\n",
       "    .dataframe tbody tr th:only-of-type {\n",
       "        vertical-align: middle;\n",
       "    }\n",
       "\n",
       "    .dataframe tbody tr th {\n",
       "        vertical-align: top;\n",
       "    }\n",
       "\n",
       "    .dataframe thead th {\n",
       "        text-align: right;\n",
       "    }\n",
       "</style>\n",
       "<table border=\"1\" class=\"dataframe\">\n",
       "  <thead>\n",
       "    <tr style=\"text-align: right;\">\n",
       "      <th></th>\n",
       "      <th>id</th>\n",
       "      <th>price</th>\n",
       "      <th>avg_bill</th>\n",
       "      <th>middle_avg_bill</th>\n",
       "      <th>middle_coffee_cup</th>\n",
       "    </tr>\n",
       "  </thead>\n",
       "  <tbody>\n",
       "    <tr>\n",
       "      <th>0</th>\n",
       "      <td>045780ada3474c57a2112e505d74b633</td>\n",
       "      <td>выше среднего</td>\n",
       "      <td>Средний счёт:1500–1600 ₽</td>\n",
       "      <td>1550.0</td>\n",
       "      <td>NaN</td>\n",
       "    </tr>\n",
       "    <tr>\n",
       "      <th>1</th>\n",
       "      <td>1070b6b59144425896c65889347fcff6</td>\n",
       "      <td>средние</td>\n",
       "      <td>Средний счёт:от 1000 ₽</td>\n",
       "      <td>1000.0</td>\n",
       "      <td>NaN</td>\n",
       "    </tr>\n",
       "    <tr>\n",
       "      <th>2</th>\n",
       "      <td>03ac7cd772104f65b58b349dc59f03ee</td>\n",
       "      <td>NaN</td>\n",
       "      <td>Цена чашки капучино:155–185 ₽</td>\n",
       "      <td>NaN</td>\n",
       "      <td>170.0</td>\n",
       "    </tr>\n",
       "    <tr>\n",
       "      <th>3</th>\n",
       "      <td>a163aada139c4c7f87b0b1c0b466a50f</td>\n",
       "      <td>средние</td>\n",
       "      <td>Средний счёт:400–600 ₽</td>\n",
       "      <td>500.0</td>\n",
       "      <td>NaN</td>\n",
       "    </tr>\n",
       "    <tr>\n",
       "      <th>4</th>\n",
       "      <td>8a343546b24e4a499ad96eb7d0797a8a</td>\n",
       "      <td>средние</td>\n",
       "      <td>NaN</td>\n",
       "      <td>NaN</td>\n",
       "      <td>NaN</td>\n",
       "    </tr>\n",
       "  </tbody>\n",
       "</table>\n",
       "</div>"
      ],
      "text/plain": [
       "                                 id          price  \\\n",
       "0  045780ada3474c57a2112e505d74b633  выше среднего   \n",
       "1  1070b6b59144425896c65889347fcff6        средние   \n",
       "2  03ac7cd772104f65b58b349dc59f03ee            NaN   \n",
       "3  a163aada139c4c7f87b0b1c0b466a50f        средние   \n",
       "4  8a343546b24e4a499ad96eb7d0797a8a        средние   \n",
       "\n",
       "                        avg_bill  middle_avg_bill  middle_coffee_cup  \n",
       "0       Средний счёт:1500–1600 ₽           1550.0                NaN  \n",
       "1         Средний счёт:от 1000 ₽           1000.0                NaN  \n",
       "2  Цена чашки капучино:155–185 ₽              NaN              170.0  \n",
       "3         Средний счёт:400–600 ₽            500.0                NaN  \n",
       "4                            NaN              NaN                NaN  "
      ]
     },
     "execution_count": 6,
     "metadata": {},
     "output_type": "execute_result"
    }
   ],
   "source": [
    "# Выводим первые строки датафрейма на экран\n",
    "price_df.head()"
   ]
  },
  {
   "cell_type": "code",
   "execution_count": 7,
   "id": "c2cc7f38",
   "metadata": {
    "id": "c2cc7f38"
   },
   "outputs": [
    {
     "name": "stdout",
     "output_type": "stream",
     "text": [
      "<class 'pandas.core.frame.DataFrame'>\n",
      "RangeIndex: 4058 entries, 0 to 4057\n",
      "Data columns (total 5 columns):\n",
      " #   Column             Non-Null Count  Dtype  \n",
      "---  ------             --------------  -----  \n",
      " 0   id                 4058 non-null   object \n",
      " 1   price              3315 non-null   object \n",
      " 2   avg_bill           3816 non-null   object \n",
      " 3   middle_avg_bill    3149 non-null   float64\n",
      " 4   middle_coffee_cup  535 non-null    float64\n",
      "dtypes: float64(2), object(3)\n",
      "memory usage: 158.6+ KB\n"
     ]
    }
   ],
   "source": [
    "# Выводим информацию о датафрейме\n",
    "price_df.info()"
   ]
  },
  {
   "cell_type": "markdown",
   "id": "0e11c136",
   "metadata": {
    "id": "84e2bdab"
   },
   "source": [
    "### Промежуточный вывод\n",
    "\n",
    "Датасет `rest_price.csv` содержит 5 столбцов и 4058 сторок, в которых представлена информация о среднем чеке в заведениях общественного питания. По аналогии с предыдущем датасетом можно отметить, что: \n",
    "- Названия столбцов представлены корректно.\n",
    "- Типы данных соответсвуют содержимому. Тип данных для столбцов `middle_avg_bill` `middle_coffee_cup` можно оптимизировать с понижением разрядности. \n",
    "- Пропуски содержаться во всех столбцах кроме `id`. \n",
    "- Значения в столбцах соответствуют описанию.\n",
    "\n",
    "---"
   ]
  },
  {
   "cell_type": "markdown",
   "id": "651e54e4",
   "metadata": {},
   "source": [
    "<div class=\"alert alert-success\">\n",
    "<b>✔️ Комментарий ревьюера v1:</b> \n",
    "<br>Первичный анализ данных выполнен верно. Ты используешь подходящие способы для анализа и делаешь верные выводы. \n",
    "</div>"
   ]
  },
  {
   "cell_type": "markdown",
   "id": "8a8d1491",
   "metadata": {
    "id": "8a8d1491"
   },
   "source": [
    "### Подготовка единого датафрейма\n",
    "\n",
    "- Объедините данные двух датасетов в один, с которым вы и продолжите работу."
   ]
  },
  {
   "cell_type": "code",
   "execution_count": 8,
   "id": "3408e303",
   "metadata": {
    "id": "3408e303"
   },
   "outputs": [],
   "source": [
    "# Объединяем датасеты левым соединением по столбцу id\n",
    "df = pd.merge(info_df, price_df, on = 'id', how = 'left')"
   ]
  },
  {
   "cell_type": "code",
   "execution_count": 9,
   "id": "5695950b",
   "metadata": {
    "id": "5695950b",
    "scrolled": true
   },
   "outputs": [
    {
     "name": "stdout",
     "output_type": "stream",
     "text": [
      "<class 'pandas.core.frame.DataFrame'>\n",
      "Int64Index: 8406 entries, 0 to 8405\n",
      "Data columns (total 13 columns):\n",
      " #   Column             Non-Null Count  Dtype  \n",
      "---  ------             --------------  -----  \n",
      " 0   id                 8406 non-null   object \n",
      " 1   name               8406 non-null   object \n",
      " 2   category           8406 non-null   object \n",
      " 3   address            8406 non-null   object \n",
      " 4   district           8406 non-null   object \n",
      " 5   hours              7870 non-null   object \n",
      " 6   rating             8406 non-null   float64\n",
      " 7   chain              8406 non-null   int64  \n",
      " 8   seats              4795 non-null   float64\n",
      " 9   price              3315 non-null   object \n",
      " 10  avg_bill           3816 non-null   object \n",
      " 11  middle_avg_bill    3149 non-null   float64\n",
      " 12  middle_coffee_cup  535 non-null    float64\n",
      "dtypes: float64(4), int64(1), object(8)\n",
      "memory usage: 919.4+ KB\n"
     ]
    }
   ],
   "source": [
    "# Выводим информацию\n",
    "df.info()"
   ]
  },
  {
   "cell_type": "markdown",
   "id": "5d95bc65",
   "metadata": {},
   "source": [
    "<div class=\"alert alert-success\">\n",
    "<b>✔️ Комментарий ревьюера v1:</b> \n",
    "<br>Молодец, что проверяешь корректность объединения датафреймов. Важно ничего не потерять, иначе мы можем получить некорректные результаты дальше\n",
    "</div>"
   ]
  },
  {
   "cell_type": "markdown",
   "id": "956e82e2",
   "metadata": {
    "id": "956e82e2"
   },
   "source": [
    "## 2. Предобработка данных\n",
    "\n",
    "Подготовим данные к исследовательскому анализу:"
   ]
  },
  {
   "cell_type": "markdown",
   "id": "4b7ee469",
   "metadata": {
    "id": "4b7ee469"
   },
   "source": [
    "- Изучите пропущенные значения в данных: посчитайте их количество в каждом столбце датафрейме, изучите данные с пропущенными значениями и предположите гипотезы их появления. Проведите обработку пропущенных значений: вы можете заменить пропуски на определённое значение, удалить строки с пропусками или оставить их как есть."
   ]
  },
  {
   "cell_type": "markdown",
   "id": "136a4a93",
   "metadata": {},
   "source": [
    "При первичном анализе мы обнаружили пропуски в нескольких стобцах. Узнаем абсолюное и относительное количество пропусков в этих столбцах."
   ]
  },
  {
   "cell_type": "code",
   "execution_count": 10,
   "id": "3d8840ca",
   "metadata": {
    "id": "3d8840ca"
   },
   "outputs": [
    {
     "data": {
      "text/plain": [
       "id                      0\n",
       "name                    0\n",
       "category                0\n",
       "address                 0\n",
       "district                0\n",
       "hours                 536\n",
       "rating                  0\n",
       "chain                   0\n",
       "seats                3611\n",
       "price                5091\n",
       "avg_bill             4590\n",
       "middle_avg_bill      5257\n",
       "middle_coffee_cup    7871\n",
       "dtype: int64"
      ]
     },
     "execution_count": 10,
     "metadata": {},
     "output_type": "execute_result"
    }
   ],
   "source": [
    "# Применяем метод isna() к датафрейму\n",
    "df.isna().sum()"
   ]
  },
  {
   "cell_type": "code",
   "execution_count": 11,
   "id": "efbc2073",
   "metadata": {},
   "outputs": [
    {
     "data": {
      "text/plain": [
       "id                    0.00\n",
       "name                  0.00\n",
       "category              0.00\n",
       "address               0.00\n",
       "district              0.00\n",
       "hours                 6.38\n",
       "rating                0.00\n",
       "chain                 0.00\n",
       "seats                42.96\n",
       "price                60.56\n",
       "avg_bill             54.60\n",
       "middle_avg_bill      62.54\n",
       "middle_coffee_cup    93.64\n",
       "dtype: float64"
      ]
     },
     "execution_count": 11,
     "metadata": {},
     "output_type": "execute_result"
    }
   ],
   "source": [
    "# Подсчитываем долю строк с пропусками\n",
    "round(df.isna().mean() * 100, 2)"
   ]
  },
  {
   "cell_type": "markdown",
   "id": "8e20056c",
   "metadata": {},
   "source": [
    "<div class=\"alert alert-warning\">\n",
    "<b>⚠️ Комментарий ревьюера v1:</b> \n",
    "<br>Ещё можно посмотреть долю пропущенных значений следующим способом\n",
    "    \n",
    "    df.isna().mean()\n",
    "</div>\n",
    "\n",
    "<div class=\"alert alert-info\"> <b>Комментарии студента:</b> Спасибо, исправила.</div>"
   ]
  },
  {
   "cell_type": "markdown",
   "id": "15f02c6c",
   "metadata": {
    "id": "d9e7c358"
   },
   "source": [
    "В нескольких столбцах содержатся пропуски, таких как:\n",
    "- `hours` - 6.38%\n",
    "- `seats` - 42.96%\n",
    "- `price` - 60.56%\n",
    "- `avg_bill` - 54.60%\n",
    "- `middle_avg_bill` - 62.54%\n",
    "- `middle_coffee_cup` - 93.64%\n",
    "\n",
    "Это больщой процент пропусков. Необходимо обработать пропущенные значения, а именно - заменить значения. Самый оптимальный вариант заменить значениями-индикаторами, например, `-1`\n",
    "\n",
    "Пропуски в датасете могут возникнуть по разным причинам:\n",
    "\n",
    "- Проблемы с источниками данных. Некоторые источники данных могкт предоставлять неполную информацию. Если данные собираются из множества источников, то возможны несостыковки в структуре или отсутсвие некотрых полей.\n",
    "- Технические сбои. \n",
    "- Человеческий фактор. \n",
    "- Сезонность или временные изменения. Например, некотрые заведения меняют график работы в зависимости от сезона или вовсе не работать.\n",
    "- Так же заведения могут работать только на доставку и не иметь посадочных мест, что может объснить пропуски в соответсвующем столбце."
   ]
  },
  {
   "cell_type": "code",
   "execution_count": 12,
   "id": "462a6c16",
   "metadata": {},
   "outputs": [],
   "source": [
    "for column in ['hours', 'seats', 'price', 'avg_bill', 'middle_avg_bill', 'middle_coffee_cup']:\n",
    "    df[column].fillna('-1', inplace = True)"
   ]
  },
  {
   "cell_type": "markdown",
   "id": "c43b63aa",
   "metadata": {},
   "source": [
    "<div class=\"alert alert-warning\">\n",
    "<b>⚠️ Комментарий ревьюера v1:</b> \n",
    "<br>В данном случае пропуски можно вообще не заполнять. Заглушку можно использовать, но важно в дальнейшем не забыть про нее\n",
    "</div>"
   ]
  },
  {
   "cell_type": "markdown",
   "id": "9aeb1643",
   "metadata": {},
   "source": [
    "Проведем оптимизацию числовых данных.\n",
    "Для оптимизации будем использовать метод `pd.to_numeric` с аргументом `downcast='integer'` и `downcast='float'`. "
   ]
  },
  {
   "cell_type": "code",
   "execution_count": 13,
   "id": "7d528f66",
   "metadata": {},
   "outputs": [],
   "source": [
    "# Оптимизируем тип с плавающей запятой данных в датафрейме\n",
    "for column in ['rating', 'middle_avg_bill', 'middle_coffee_cup']:\n",
    "    df[column] = df[column].astype('float32')\n",
    "    df[column] = pd.to_numeric(df[column], downcast = 'float')"
   ]
  },
  {
   "cell_type": "code",
   "execution_count": 14,
   "id": "2d048e8a",
   "metadata": {},
   "outputs": [],
   "source": [
    "# Оптимизируем целочисленный тип данных в датафрейме\n",
    "for column in ['chain', 'seats']:\n",
    "    df[column] = df[column].astype('int32')\n",
    "    df[column] = pd.to_numeric(df[column], downcast = 'integer')"
   ]
  },
  {
   "cell_type": "code",
   "execution_count": 15,
   "id": "9c18af29",
   "metadata": {},
   "outputs": [
    {
     "name": "stdout",
     "output_type": "stream",
     "text": [
      "<class 'pandas.core.frame.DataFrame'>\n",
      "Int64Index: 8406 entries, 0 to 8405\n",
      "Data columns (total 13 columns):\n",
      " #   Column             Non-Null Count  Dtype  \n",
      "---  ------             --------------  -----  \n",
      " 0   id                 8406 non-null   object \n",
      " 1   name               8406 non-null   object \n",
      " 2   category           8406 non-null   object \n",
      " 3   address            8406 non-null   object \n",
      " 4   district           8406 non-null   object \n",
      " 5   hours              8406 non-null   object \n",
      " 6   rating             8406 non-null   float32\n",
      " 7   chain              8406 non-null   int8   \n",
      " 8   seats              8406 non-null   int16  \n",
      " 9   price              8406 non-null   object \n",
      " 10  avg_bill           8406 non-null   object \n",
      " 11  middle_avg_bill    8406 non-null   float32\n",
      " 12  middle_coffee_cup  8406 non-null   float32\n",
      "dtypes: float32(3), int16(1), int8(1), object(8)\n",
      "memory usage: 714.2+ KB\n"
     ]
    }
   ],
   "source": [
    "#Выводим информацию после всех действий\n",
    "df.info()"
   ]
  },
  {
   "cell_type": "markdown",
   "id": "927ee4aa",
   "metadata": {},
   "source": [
    "Типы данных были успешно оптимизированы с понижением размерности целочисленных данных."
   ]
  },
  {
   "cell_type": "markdown",
   "id": "c4d5f04d",
   "metadata": {
    "id": "c4d5f04d"
   },
   "source": [
    "- Проверьте данные на явные и неявные дубликаты, например поля с названием и адресом заведения. Для оптимизации проверки нормализуйте данные в текстовых столбцах, например с названием заведения."
   ]
  },
  {
   "cell_type": "markdown",
   "id": "dddfb00b",
   "metadata": {},
   "source": [
    "Проверим нет ли дубликатов в столбце `id`. Для этого используем метод `nunique()`."
   ]
  },
  {
   "cell_type": "code",
   "execution_count": 16,
   "id": "0769b681",
   "metadata": {
    "id": "0769b681"
   },
   "outputs": [
    {
     "data": {
      "text/plain": [
       "8406"
      ]
     },
     "execution_count": 16,
     "metadata": {},
     "output_type": "execute_result"
    }
   ],
   "source": [
    "#Проверям кол-во уникальный значений\n",
    "df['id'].nunique()"
   ]
  },
  {
   "cell_type": "markdown",
   "id": "58de5a0f",
   "metadata": {},
   "source": [
    "Количество уникальных id совпадает с количеством сток. Дубликатов по этому столбцу не обнаружено. \n",
    "\n",
    "Теперь стоит проверить какие данные содержаться в стобцах `name`, `category`, `district`, `address`"
   ]
  },
  {
   "cell_type": "code",
   "execution_count": 17,
   "id": "95b15cd0",
   "metadata": {
    "id": "95b15cd0"
   },
   "outputs": [
    {
     "data": {
      "text/plain": [
       "array(['WoWфли', 'Четыре комнаты', 'Хазри', ..., 'Миславнес', 'Самовар',\n",
       "       'Kebab Time'], dtype=object)"
      ]
     },
     "execution_count": 17,
     "metadata": {},
     "output_type": "execute_result"
    }
   ],
   "source": [
    "#Выводим уникальные значения\n",
    "df['name'].unique()"
   ]
  },
  {
   "cell_type": "code",
   "execution_count": 18,
   "id": "b52bae9a",
   "metadata": {
    "id": "b52bae9a"
   },
   "outputs": [
    {
     "data": {
      "text/plain": [
       "array(['Москва, улица Дыбенко, 7/1', 'Москва, улица Дыбенко, 36, корп. 1',\n",
       "       'Москва, Клязьминская улица, 15', ...,\n",
       "       'Москва, улица Лобачевского, 52, корп. 1',\n",
       "       'Москва, Болотниковская улица, 52, корп. 2',\n",
       "       'Москва, Чонгарский бульвар, 26А, корп. 1'], dtype=object)"
      ]
     },
     "execution_count": 18,
     "metadata": {},
     "output_type": "execute_result"
    }
   ],
   "source": [
    "#Выводим уникальные значения\n",
    "df['address'].unique()"
   ]
  },
  {
   "cell_type": "code",
   "execution_count": 19,
   "id": "dc5514c2",
   "metadata": {},
   "outputs": [
    {
     "data": {
      "text/plain": [
       "array(['Северный административный округ',\n",
       "       'Северо-Восточный административный округ',\n",
       "       'Северо-Западный административный округ',\n",
       "       'Западный административный округ',\n",
       "       'Центральный административный округ',\n",
       "       'Восточный административный округ',\n",
       "       'Юго-Восточный административный округ',\n",
       "       'Южный административный округ',\n",
       "       'Юго-Западный административный округ'], dtype=object)"
      ]
     },
     "execution_count": 19,
     "metadata": {},
     "output_type": "execute_result"
    }
   ],
   "source": [
    "#Выводим уникальные значения\n",
    "districts = df['district'].unique()\n",
    "districts"
   ]
  },
  {
   "cell_type": "code",
   "execution_count": 20,
   "id": "2bb59f45",
   "metadata": {},
   "outputs": [
    {
     "data": {
      "text/plain": [
       "array(['кафе', 'ресторан', 'кофейня', 'пиццерия', 'бар,паб',\n",
       "       'быстрое питание', 'булочная', 'столовая'], dtype=object)"
      ]
     },
     "execution_count": 20,
     "metadata": {},
     "output_type": "execute_result"
    }
   ],
   "source": [
    "#Выводим уникальные значения\n",
    "df['category'].unique()"
   ]
  },
  {
   "cell_type": "code",
   "execution_count": 21,
   "id": "0d1ff479",
   "metadata": {},
   "outputs": [
    {
     "data": {
      "text/plain": [
       "array(['ежедневно, 10:00–22:00',\n",
       "       'пн-чт 11:00–02:00; пт,сб 11:00–05:00; вс 11:00–02:00',\n",
       "       'ежедневно, 09:00–22:00', ...,\n",
       "       'пн-пт 08:30–21:30; сб,вс 09:00–21:30',\n",
       "       'пн-чт 13:00–22:00; пт,сб 13:00–22:30; вс 13:00–22:00',\n",
       "       'пн-сб 10:30–21:30'], dtype=object)"
      ]
     },
     "execution_count": 21,
     "metadata": {},
     "output_type": "execute_result"
    }
   ],
   "source": [
    "#Выводим уникальные значения\n",
    "df['hours'].unique()"
   ]
  },
  {
   "cell_type": "markdown",
   "id": "59c2dcf9",
   "metadata": {},
   "source": [
    "После изучения уникальных значений пришла к следующему выводу:\n",
    "\n",
    "- в столбцах `category` и `district` все корректно записано;\n",
    "- столбцы `name` и `address` нужно привести к нижнему регистру."
   ]
  },
  {
   "cell_type": "code",
   "execution_count": 22,
   "id": "91408f44",
   "metadata": {},
   "outputs": [],
   "source": [
    "# Приводим столбцы name и address к нижнему регистру\n",
    "for column in ['name', 'address']:\n",
    "    df[column] = df[column].str.lower()"
   ]
  },
  {
   "cell_type": "markdown",
   "id": "d713e7be",
   "metadata": {},
   "source": [
    "Теперь проверим данные на наличие явных дубликатов."
   ]
  },
  {
   "cell_type": "code",
   "execution_count": 23,
   "id": "f7370113",
   "metadata": {},
   "outputs": [
    {
     "data": {
      "text/plain": [
       "'Количество строк до удаления дубликатов: 8406'"
      ]
     },
     "execution_count": 23,
     "metadata": {},
     "output_type": "execute_result"
    }
   ],
   "source": [
    "# Сохраняем начальное кол-во строк\n",
    "total_count_ent = df.shape[0]\n",
    "f'Количество строк до удаления дубликатов: {total_count_ent}'"
   ]
  },
  {
   "cell_type": "code",
   "execution_count": 24,
   "id": "78f907a0",
   "metadata": {},
   "outputs": [
    {
     "data": {
      "text/plain": [
       "'Количество дубликов 4'"
      ]
     },
     "execution_count": 24,
     "metadata": {},
     "output_type": "execute_result"
    }
   ],
   "source": [
    "# Считаем кол-во явных дубликатов\n",
    "count_del_ent = df.duplicated(subset = ['name', 'address', 'district']).sum()\n",
    "f'Количество дубликов {count_del_ent}'"
   ]
  },
  {
   "cell_type": "code",
   "execution_count": 25,
   "id": "142dc4e6",
   "metadata": {},
   "outputs": [],
   "source": [
    "# Удаляем дубликаты\n",
    "df.drop_duplicates(subset = ['name', 'address', 'district'], inplace=True)"
   ]
  },
  {
   "cell_type": "code",
   "execution_count": 26,
   "id": "3c72cce5",
   "metadata": {},
   "outputs": [
    {
     "data": {
      "text/plain": [
       "'Процент, удаленных строк от общего кол-ва: 0.05%'"
      ]
     },
     "execution_count": 26,
     "metadata": {},
     "output_type": "execute_result"
    }
   ],
   "source": [
    "# Считаем долю\n",
    "perc_del = round((count_del_ent / total_count_ent) * 100, 2)\n",
    "f'Процент, удаленных строк от общего кол-ва: {perc_del}%'"
   ]
  },
  {
   "cell_type": "markdown",
   "id": "dc5a69ce",
   "metadata": {},
   "source": [
    "<div class=\"alert alert-success\">\n",
    "<b>✔️ Комментарий ревьюера v1:</b> \n",
    "<br>Проверка на дубликаты выполнена! \n",
    "</div>"
   ]
  },
  {
   "cell_type": "markdown",
   "id": "4c0563f2",
   "metadata": {
    "id": "4c0563f2"
   },
   "source": [
    "- Для дальнейшей работы создайте столбец `is_24_7` с обозначением того, что заведение работает ежедневно и круглосуточно, то есть 24/7:\n",
    "  - логическое значение `True` — если заведение работает ежедневно и круглосуточно;\n",
    "  - логическое значение `False` — в противоположном случае."
   ]
  },
  {
   "cell_type": "code",
   "execution_count": 27,
   "id": "d8a8a963",
   "metadata": {
    "id": "d8a8a963"
   },
   "outputs": [
    {
     "data": {
      "text/html": [
       "<div>\n",
       "<style scoped>\n",
       "    .dataframe tbody tr th:only-of-type {\n",
       "        vertical-align: middle;\n",
       "    }\n",
       "\n",
       "    .dataframe tbody tr th {\n",
       "        vertical-align: top;\n",
       "    }\n",
       "\n",
       "    .dataframe thead th {\n",
       "        text-align: right;\n",
       "    }\n",
       "</style>\n",
       "<table border=\"1\" class=\"dataframe\">\n",
       "  <thead>\n",
       "    <tr style=\"text-align: right;\">\n",
       "      <th></th>\n",
       "      <th>id</th>\n",
       "      <th>name</th>\n",
       "      <th>category</th>\n",
       "      <th>address</th>\n",
       "      <th>district</th>\n",
       "      <th>hours</th>\n",
       "      <th>rating</th>\n",
       "      <th>chain</th>\n",
       "      <th>seats</th>\n",
       "      <th>price</th>\n",
       "      <th>avg_bill</th>\n",
       "      <th>middle_avg_bill</th>\n",
       "      <th>middle_coffee_cup</th>\n",
       "      <th>is_24_7</th>\n",
       "    </tr>\n",
       "  </thead>\n",
       "  <tbody>\n",
       "    <tr>\n",
       "      <th>0</th>\n",
       "      <td>0c3e3439a8c64ea5bf6ecd6ca6ae19f0</td>\n",
       "      <td>wowфли</td>\n",
       "      <td>кафе</td>\n",
       "      <td>москва, улица дыбенко, 7/1</td>\n",
       "      <td>Северный административный округ</td>\n",
       "      <td>ежедневно, 10:00–22:00</td>\n",
       "      <td>5.0</td>\n",
       "      <td>0</td>\n",
       "      <td>-1</td>\n",
       "      <td>-1</td>\n",
       "      <td>-1</td>\n",
       "      <td>-1.0</td>\n",
       "      <td>-1.0</td>\n",
       "      <td>False</td>\n",
       "    </tr>\n",
       "    <tr>\n",
       "      <th>1</th>\n",
       "      <td>045780ada3474c57a2112e505d74b633</td>\n",
       "      <td>четыре комнаты</td>\n",
       "      <td>ресторан</td>\n",
       "      <td>москва, улица дыбенко, 36, корп. 1</td>\n",
       "      <td>Северный административный округ</td>\n",
       "      <td>ежедневно, 10:00–22:00</td>\n",
       "      <td>4.5</td>\n",
       "      <td>0</td>\n",
       "      <td>4</td>\n",
       "      <td>выше среднего</td>\n",
       "      <td>Средний счёт:1500–1600 ₽</td>\n",
       "      <td>1550.0</td>\n",
       "      <td>-1.0</td>\n",
       "      <td>False</td>\n",
       "    </tr>\n",
       "    <tr>\n",
       "      <th>2</th>\n",
       "      <td>1070b6b59144425896c65889347fcff6</td>\n",
       "      <td>хазри</td>\n",
       "      <td>кафе</td>\n",
       "      <td>москва, клязьминская улица, 15</td>\n",
       "      <td>Северный административный округ</td>\n",
       "      <td>пн-чт 11:00–02:00; пт,сб 11:00–05:00; вс 11:00...</td>\n",
       "      <td>4.6</td>\n",
       "      <td>0</td>\n",
       "      <td>45</td>\n",
       "      <td>средние</td>\n",
       "      <td>Средний счёт:от 1000 ₽</td>\n",
       "      <td>1000.0</td>\n",
       "      <td>-1.0</td>\n",
       "      <td>False</td>\n",
       "    </tr>\n",
       "    <tr>\n",
       "      <th>3</th>\n",
       "      <td>03ac7cd772104f65b58b349dc59f03ee</td>\n",
       "      <td>dormouse coffee shop</td>\n",
       "      <td>кофейня</td>\n",
       "      <td>москва, улица маршала федоренко, 12</td>\n",
       "      <td>Северный административный округ</td>\n",
       "      <td>ежедневно, 09:00–22:00</td>\n",
       "      <td>5.0</td>\n",
       "      <td>0</td>\n",
       "      <td>-1</td>\n",
       "      <td>-1</td>\n",
       "      <td>Цена чашки капучино:155–185 ₽</td>\n",
       "      <td>-1.0</td>\n",
       "      <td>170.0</td>\n",
       "      <td>False</td>\n",
       "    </tr>\n",
       "    <tr>\n",
       "      <th>4</th>\n",
       "      <td>a163aada139c4c7f87b0b1c0b466a50f</td>\n",
       "      <td>иль марко</td>\n",
       "      <td>пиццерия</td>\n",
       "      <td>москва, правобережная улица, 1б</td>\n",
       "      <td>Северный административный округ</td>\n",
       "      <td>ежедневно, 10:00–22:00</td>\n",
       "      <td>5.0</td>\n",
       "      <td>1</td>\n",
       "      <td>148</td>\n",
       "      <td>средние</td>\n",
       "      <td>Средний счёт:400–600 ₽</td>\n",
       "      <td>500.0</td>\n",
       "      <td>-1.0</td>\n",
       "      <td>False</td>\n",
       "    </tr>\n",
       "  </tbody>\n",
       "</table>\n",
       "</div>"
      ],
      "text/plain": [
       "                                 id                  name  category  \\\n",
       "0  0c3e3439a8c64ea5bf6ecd6ca6ae19f0                wowфли      кафе   \n",
       "1  045780ada3474c57a2112e505d74b633        четыре комнаты  ресторан   \n",
       "2  1070b6b59144425896c65889347fcff6                 хазри      кафе   \n",
       "3  03ac7cd772104f65b58b349dc59f03ee  dormouse coffee shop   кофейня   \n",
       "4  a163aada139c4c7f87b0b1c0b466a50f             иль марко  пиццерия   \n",
       "\n",
       "                               address                         district  \\\n",
       "0           москва, улица дыбенко, 7/1  Северный административный округ   \n",
       "1   москва, улица дыбенко, 36, корп. 1  Северный административный округ   \n",
       "2       москва, клязьминская улица, 15  Северный административный округ   \n",
       "3  москва, улица маршала федоренко, 12  Северный административный округ   \n",
       "4      москва, правобережная улица, 1б  Северный административный округ   \n",
       "\n",
       "                                               hours  rating  chain  seats  \\\n",
       "0                             ежедневно, 10:00–22:00     5.0      0     -1   \n",
       "1                             ежедневно, 10:00–22:00     4.5      0      4   \n",
       "2  пн-чт 11:00–02:00; пт,сб 11:00–05:00; вс 11:00...     4.6      0     45   \n",
       "3                             ежедневно, 09:00–22:00     5.0      0     -1   \n",
       "4                             ежедневно, 10:00–22:00     5.0      1    148   \n",
       "\n",
       "           price                       avg_bill  middle_avg_bill  \\\n",
       "0             -1                             -1             -1.0   \n",
       "1  выше среднего       Средний счёт:1500–1600 ₽           1550.0   \n",
       "2        средние         Средний счёт:от 1000 ₽           1000.0   \n",
       "3             -1  Цена чашки капучино:155–185 ₽             -1.0   \n",
       "4        средние         Средний счёт:400–600 ₽            500.0   \n",
       "\n",
       "   middle_coffee_cup  is_24_7  \n",
       "0               -1.0    False  \n",
       "1               -1.0    False  \n",
       "2               -1.0    False  \n",
       "3              170.0    False  \n",
       "4               -1.0    False  "
      ]
     },
     "execution_count": 27,
     "metadata": {},
     "output_type": "execute_result"
    }
   ],
   "source": [
    "# Создаем столбец is_24_7 с заданными условиями в переменной\n",
    "mask = (\n",
    "    df['hours'].str.contains('ежедневно', case=False, na=False) \n",
    "    & \n",
    "    df['hours'].str.contains('круглосуточно', case=False, na=False)\n",
    ")\n",
    "df['is_24_7'] = mask\n",
    "df.head()"
   ]
  },
  {
   "cell_type": "code",
   "execution_count": 28,
   "id": "42d1e685",
   "metadata": {
    "id": "42d1e685"
   },
   "outputs": [
    {
     "data": {
      "text/html": [
       "<div>\n",
       "<style scoped>\n",
       "    .dataframe tbody tr th:only-of-type {\n",
       "        vertical-align: middle;\n",
       "    }\n",
       "\n",
       "    .dataframe tbody tr th {\n",
       "        vertical-align: top;\n",
       "    }\n",
       "\n",
       "    .dataframe thead th {\n",
       "        text-align: right;\n",
       "    }\n",
       "</style>\n",
       "<table border=\"1\" class=\"dataframe\">\n",
       "  <thead>\n",
       "    <tr style=\"text-align: right;\">\n",
       "      <th></th>\n",
       "      <th>id</th>\n",
       "      <th>name</th>\n",
       "      <th>category</th>\n",
       "      <th>address</th>\n",
       "      <th>district</th>\n",
       "      <th>hours</th>\n",
       "      <th>rating</th>\n",
       "      <th>chain</th>\n",
       "      <th>seats</th>\n",
       "      <th>price</th>\n",
       "      <th>avg_bill</th>\n",
       "      <th>middle_avg_bill</th>\n",
       "      <th>middle_coffee_cup</th>\n",
       "      <th>is_24_7</th>\n",
       "    </tr>\n",
       "  </thead>\n",
       "  <tbody>\n",
       "    <tr>\n",
       "      <th>10</th>\n",
       "      <td>ac32978af97641bfacf996e7f5a50ee5</td>\n",
       "      <td>great room bar</td>\n",
       "      <td>бар,паб</td>\n",
       "      <td>москва, левобережная улица, 12</td>\n",
       "      <td>Северный административный округ</td>\n",
       "      <td>ежедневно, круглосуточно</td>\n",
       "      <td>4.5</td>\n",
       "      <td>0</td>\n",
       "      <td>102</td>\n",
       "      <td>средние</td>\n",
       "      <td>Цена бокала пива:250–350 ₽</td>\n",
       "      <td>-1.0</td>\n",
       "      <td>-1.0</td>\n",
       "      <td>True</td>\n",
       "    </tr>\n",
       "    <tr>\n",
       "      <th>17</th>\n",
       "      <td>b55465d0869648a295ad1d85ed9b5c4f</td>\n",
       "      <td>чайхана беш-бармак</td>\n",
       "      <td>ресторан</td>\n",
       "      <td>москва, ленинградское шоссе, 71б, стр. 2</td>\n",
       "      <td>Северный административный округ</td>\n",
       "      <td>ежедневно, круглосуточно</td>\n",
       "      <td>4.4</td>\n",
       "      <td>0</td>\n",
       "      <td>96</td>\n",
       "      <td>средние</td>\n",
       "      <td>Средний счёт:350–500 ₽</td>\n",
       "      <td>425.0</td>\n",
       "      <td>-1.0</td>\n",
       "      <td>True</td>\n",
       "    </tr>\n",
       "    <tr>\n",
       "      <th>19</th>\n",
       "      <td>feec6bedccae44cb877d99c13f9aa5d7</td>\n",
       "      <td>пекарня</td>\n",
       "      <td>булочная</td>\n",
       "      <td>москва, ижорский проезд, 5</td>\n",
       "      <td>Северный административный округ</td>\n",
       "      <td>ежедневно, круглосуточно</td>\n",
       "      <td>4.4</td>\n",
       "      <td>1</td>\n",
       "      <td>-1</td>\n",
       "      <td>-1</td>\n",
       "      <td>-1</td>\n",
       "      <td>-1.0</td>\n",
       "      <td>-1.0</td>\n",
       "      <td>True</td>\n",
       "    </tr>\n",
       "    <tr>\n",
       "      <th>24</th>\n",
       "      <td>0f5d22f5377340d0a81a9328e6ebdcac</td>\n",
       "      <td>drive café</td>\n",
       "      <td>кафе</td>\n",
       "      <td>москва, улица дыбенко, 9ас1</td>\n",
       "      <td>Северный административный округ</td>\n",
       "      <td>ежедневно, круглосуточно</td>\n",
       "      <td>4.0</td>\n",
       "      <td>1</td>\n",
       "      <td>-1</td>\n",
       "      <td>-1</td>\n",
       "      <td>-1</td>\n",
       "      <td>-1.0</td>\n",
       "      <td>-1.0</td>\n",
       "      <td>True</td>\n",
       "    </tr>\n",
       "    <tr>\n",
       "      <th>49</th>\n",
       "      <td>a8bbd74669074068ab44bc567022ee27</td>\n",
       "      <td>2u-ту-ю</td>\n",
       "      <td>пиццерия</td>\n",
       "      <td>москва, ижорская улица, 8а</td>\n",
       "      <td>Северный административный округ</td>\n",
       "      <td>ежедневно, круглосуточно</td>\n",
       "      <td>2.7</td>\n",
       "      <td>0</td>\n",
       "      <td>-1</td>\n",
       "      <td>-1</td>\n",
       "      <td>Средний счёт:900 ₽</td>\n",
       "      <td>900.0</td>\n",
       "      <td>-1.0</td>\n",
       "      <td>True</td>\n",
       "    </tr>\n",
       "    <tr>\n",
       "      <th>...</th>\n",
       "      <td>...</td>\n",
       "      <td>...</td>\n",
       "      <td>...</td>\n",
       "      <td>...</td>\n",
       "      <td>...</td>\n",
       "      <td>...</td>\n",
       "      <td>...</td>\n",
       "      <td>...</td>\n",
       "      <td>...</td>\n",
       "      <td>...</td>\n",
       "      <td>...</td>\n",
       "      <td>...</td>\n",
       "      <td>...</td>\n",
       "      <td>...</td>\n",
       "    </tr>\n",
       "    <tr>\n",
       "      <th>8394</th>\n",
       "      <td>03c53ed5236948179947b46b7338d18d</td>\n",
       "      <td>намангале</td>\n",
       "      <td>кафе</td>\n",
       "      <td>москва, ферганская улица, вл17-21</td>\n",
       "      <td>Юго-Восточный административный округ</td>\n",
       "      <td>ежедневно, круглосуточно</td>\n",
       "      <td>4.3</td>\n",
       "      <td>0</td>\n",
       "      <td>-1</td>\n",
       "      <td>-1</td>\n",
       "      <td>-1</td>\n",
       "      <td>-1.0</td>\n",
       "      <td>-1.0</td>\n",
       "      <td>True</td>\n",
       "    </tr>\n",
       "    <tr>\n",
       "      <th>8399</th>\n",
       "      <td>71cc394927204d45b81c3a91edb47955</td>\n",
       "      <td>пекарня, кафе-гриль</td>\n",
       "      <td>булочная</td>\n",
       "      <td>москва, болотниковская улица, 52, корп. 2</td>\n",
       "      <td>Юго-Западный административный округ</td>\n",
       "      <td>ежедневно, круглосуточно</td>\n",
       "      <td>4.2</td>\n",
       "      <td>0</td>\n",
       "      <td>50</td>\n",
       "      <td>-1</td>\n",
       "      <td>Средний счёт:50–250 ₽</td>\n",
       "      <td>150.0</td>\n",
       "      <td>-1.0</td>\n",
       "      <td>True</td>\n",
       "    </tr>\n",
       "    <tr>\n",
       "      <th>8403</th>\n",
       "      <td>62e8c64d4c89467aba608e39ef87616b</td>\n",
       "      <td>самовар</td>\n",
       "      <td>кафе</td>\n",
       "      <td>москва, люблинская улица, 112а, стр. 1</td>\n",
       "      <td>Юго-Восточный административный округ</td>\n",
       "      <td>ежедневно, круглосуточно</td>\n",
       "      <td>3.9</td>\n",
       "      <td>0</td>\n",
       "      <td>150</td>\n",
       "      <td>-1</td>\n",
       "      <td>Средний счёт:от 150 ₽</td>\n",
       "      <td>150.0</td>\n",
       "      <td>-1.0</td>\n",
       "      <td>True</td>\n",
       "    </tr>\n",
       "    <tr>\n",
       "      <th>8404</th>\n",
       "      <td>06a0db5ecd4842d48cd6350aa923e297</td>\n",
       "      <td>чайхана sabr</td>\n",
       "      <td>кафе</td>\n",
       "      <td>москва, люблинская улица, 112а, стр. 1</td>\n",
       "      <td>Юго-Восточный административный округ</td>\n",
       "      <td>ежедневно, круглосуточно</td>\n",
       "      <td>4.2</td>\n",
       "      <td>1</td>\n",
       "      <td>150</td>\n",
       "      <td>-1</td>\n",
       "      <td>-1</td>\n",
       "      <td>-1.0</td>\n",
       "      <td>-1.0</td>\n",
       "      <td>True</td>\n",
       "    </tr>\n",
       "    <tr>\n",
       "      <th>8405</th>\n",
       "      <td>9d56f8f7a7f74df1a925bc0fd2de8aae</td>\n",
       "      <td>kebab time</td>\n",
       "      <td>кафе</td>\n",
       "      <td>москва, россошанский проезд, 6</td>\n",
       "      <td>Южный административный округ</td>\n",
       "      <td>ежедневно, круглосуточно</td>\n",
       "      <td>3.9</td>\n",
       "      <td>0</td>\n",
       "      <td>12</td>\n",
       "      <td>-1</td>\n",
       "      <td>-1</td>\n",
       "      <td>-1.0</td>\n",
       "      <td>-1.0</td>\n",
       "      <td>True</td>\n",
       "    </tr>\n",
       "  </tbody>\n",
       "</table>\n",
       "<p>730 rows × 14 columns</p>\n",
       "</div>"
      ],
      "text/plain": [
       "                                    id                 name  category  \\\n",
       "10    ac32978af97641bfacf996e7f5a50ee5       great room bar   бар,паб   \n",
       "17    b55465d0869648a295ad1d85ed9b5c4f   чайхана беш-бармак  ресторан   \n",
       "19    feec6bedccae44cb877d99c13f9aa5d7              пекарня  булочная   \n",
       "24    0f5d22f5377340d0a81a9328e6ebdcac           drive café      кафе   \n",
       "49    a8bbd74669074068ab44bc567022ee27              2u-ту-ю  пиццерия   \n",
       "...                                ...                  ...       ...   \n",
       "8394  03c53ed5236948179947b46b7338d18d            намангале      кафе   \n",
       "8399  71cc394927204d45b81c3a91edb47955  пекарня, кафе-гриль  булочная   \n",
       "8403  62e8c64d4c89467aba608e39ef87616b              самовар      кафе   \n",
       "8404  06a0db5ecd4842d48cd6350aa923e297         чайхана sabr      кафе   \n",
       "8405  9d56f8f7a7f74df1a925bc0fd2de8aae           kebab time      кафе   \n",
       "\n",
       "                                        address  \\\n",
       "10               москва, левобережная улица, 12   \n",
       "17     москва, ленинградское шоссе, 71б, стр. 2   \n",
       "19                   москва, ижорский проезд, 5   \n",
       "24                  москва, улица дыбенко, 9ас1   \n",
       "49                   москва, ижорская улица, 8а   \n",
       "...                                         ...   \n",
       "8394          москва, ферганская улица, вл17-21   \n",
       "8399  москва, болотниковская улица, 52, корп. 2   \n",
       "8403     москва, люблинская улица, 112а, стр. 1   \n",
       "8404     москва, люблинская улица, 112а, стр. 1   \n",
       "8405             москва, россошанский проезд, 6   \n",
       "\n",
       "                                  district                     hours  rating  \\\n",
       "10         Северный административный округ  ежедневно, круглосуточно     4.5   \n",
       "17         Северный административный округ  ежедневно, круглосуточно     4.4   \n",
       "19         Северный административный округ  ежедневно, круглосуточно     4.4   \n",
       "24         Северный административный округ  ежедневно, круглосуточно     4.0   \n",
       "49         Северный административный округ  ежедневно, круглосуточно     2.7   \n",
       "...                                    ...                       ...     ...   \n",
       "8394  Юго-Восточный административный округ  ежедневно, круглосуточно     4.3   \n",
       "8399   Юго-Западный административный округ  ежедневно, круглосуточно     4.2   \n",
       "8403  Юго-Восточный административный округ  ежедневно, круглосуточно     3.9   \n",
       "8404  Юго-Восточный административный округ  ежедневно, круглосуточно     4.2   \n",
       "8405          Южный административный округ  ежедневно, круглосуточно     3.9   \n",
       "\n",
       "      chain  seats    price                    avg_bill  middle_avg_bill  \\\n",
       "10        0    102  средние  Цена бокала пива:250–350 ₽             -1.0   \n",
       "17        0     96  средние      Средний счёт:350–500 ₽            425.0   \n",
       "19        1     -1       -1                          -1             -1.0   \n",
       "24        1     -1       -1                          -1             -1.0   \n",
       "49        0     -1       -1          Средний счёт:900 ₽            900.0   \n",
       "...     ...    ...      ...                         ...              ...   \n",
       "8394      0     -1       -1                          -1             -1.0   \n",
       "8399      0     50       -1       Средний счёт:50–250 ₽            150.0   \n",
       "8403      0    150       -1       Средний счёт:от 150 ₽            150.0   \n",
       "8404      1    150       -1                          -1             -1.0   \n",
       "8405      0     12       -1                          -1             -1.0   \n",
       "\n",
       "      middle_coffee_cup  is_24_7  \n",
       "10                 -1.0     True  \n",
       "17                 -1.0     True  \n",
       "19                 -1.0     True  \n",
       "24                 -1.0     True  \n",
       "49                 -1.0     True  \n",
       "...                 ...      ...  \n",
       "8394               -1.0     True  \n",
       "8399               -1.0     True  \n",
       "8403               -1.0     True  \n",
       "8404               -1.0     True  \n",
       "8405               -1.0     True  \n",
       "\n",
       "[730 rows x 14 columns]"
      ]
     },
     "execution_count": 28,
     "metadata": {},
     "output_type": "execute_result"
    }
   ],
   "source": [
    "#Проверим заведения\n",
    "filtered_df = df[df[\"is_24_7\"] == True]\n",
    "filtered_df"
   ]
  },
  {
   "cell_type": "markdown",
   "id": "413d846e",
   "metadata": {},
   "source": [
    "<div class=\"alert alert-success\">\n",
    "<b>✔️ Комментарий ревьюера v1:</b> \n",
    "<br>Новый столбец создан корректно\n",
    "</div>"
   ]
  },
  {
   "cell_type": "markdown",
   "id": "c06648e0",
   "metadata": {
    "id": "61304e83"
   },
   "source": [
    "### Промежуточный вывод\n"
   ]
  },
  {
   "cell_type": "markdown",
   "id": "1d31c4af",
   "metadata": {
    "id": "4e587ce1"
   },
   "source": [
    "Изучила пропущенные значения в данных. Посчитала их количество. Заменила пропуски на значения-индикаторы, так как пропусков было очень много.\n",
    "\n",
    "Была проведена работа по нормализации типов данных. Все столбцы имеют корректный тип данных. Так же была проведена работа с явными и неявными дубликатами. Было удалено `4 дубликата`, что составляет `0,05%` от общего количества.\n",
    "\n",
    "Был создан новый столбец `is_24_7` с обозначением того, что заведение работает ежедневно и круглосуточно, то есть 24/7."
   ]
  },
  {
   "cell_type": "markdown",
   "id": "e9716f99",
   "metadata": {},
   "source": [
    "<div class=\"alert alert-success\">\n",
    "<b>✔️ Комментарий ревьюера v1:</b> \n",
    "<br>С предобработкой закончили, можно переходить к анализу!\n",
    "</div>"
   ]
  },
  {
   "cell_type": "markdown",
   "id": "6953e84c",
   "metadata": {
    "id": "6953e84c"
   },
   "source": [
    "## 3. Исследовательский анализ данных\n",
    "Проведите исследовательский анализ исходных данных.\n",
    "\n",
    "При исследовании данных используйте визуализации. Проверьте, что для каждого случая подобран оптимальный тип визуализации с корректным оформлением. У графика должен быть заголовок, понятные подписи по осям, при необходимости легенда, а его размер является оптимальным для изучения.\n",
    "\n",
    "После исследования каждого пункта оставляйте небольшой комментарий с выводом или обсуждением результата. В конце шага обобщите результаты, выделив, по вашему мнению, самые важные."
   ]
  },
  {
   "cell_type": "markdown",
   "id": "8555d840",
   "metadata": {
    "id": "8555d840"
   },
   "source": [
    "---\n",
    "\n",
    "### Задача 1\n",
    "\n",
    "Какие категории заведений представлены в данных? Исследуйте количество объектов общественного питания по каждой категории. Результат сопроводите подходящей визуализацией."
   ]
  },
  {
   "cell_type": "code",
   "execution_count": 29,
   "id": "ef2bffe9",
   "metadata": {
    "id": "ef2bffe9"
   },
   "outputs": [],
   "source": [
    "# Посчитаем количество заведений по категориям\n",
    "category_counts = df['category'].value_counts().reset_index()\n",
    "category_counts.columns = ['category', 'count']"
   ]
  },
  {
   "cell_type": "code",
   "execution_count": 30,
   "id": "71ab5e91",
   "metadata": {
    "id": "71ab5e91"
   },
   "outputs": [
    {
     "data": {
      "image/png": "[encoded data removed]",
      "text/plain": [
       "<Figure size 864x432 with 1 Axes>"
      ]
     },
     "metadata": {
      "needs_background": "light"
     },
     "output_type": "display_data"
    }
   ],
   "source": [
    "# Построим график\n",
    "plt.figure(figsize=(12, 6))\n",
    "plt.bar(category_counts['category'], category_counts['count'], color='skyblue')\n",
    "plt.title('Количество заведений по категориям', fontsize=14)\n",
    "plt.xlabel('Категория', fontsize=12)\n",
    "plt.ylabel('Количество', fontsize=12)\n",
    "plt.xticks(rotation=45, ha='right')\n",
    "plt.grid(axis='y', linestyle='--', alpha=0.7)\n",
    "plt.tight_layout()\n",
    "plt.show()"
   ]
  },
  {
   "cell_type": "markdown",
   "id": "2692bea5",
   "metadata": {},
   "source": [
    "<div class=\"alert alert-success\">\n",
    "<b>✔️ Комментарий ревьюера v1:</b> \n",
    "<br>График построен верно! Здорово, что ты подписываешь график и его оси, так проще понять что на нем изображено\n",
    "</div>"
   ]
  },
  {
   "cell_type": "markdown",
   "id": "8557aa2d",
   "metadata": {
    "id": "63360b97"
   },
   "source": [
    "Как видно на графике, лидирующие места занимают: `кафе` и `рестораны`, что указывает на их высокую востребованность.\n",
    "`Кофейни` занимают третье место.\n",
    "Рынок сконцентрирован вокруг заведений с широким ассортиментом, тогда как нишевые направления развиты слабее."
   ]
  },
  {
   "cell_type": "markdown",
   "id": "6821e1d0",
   "metadata": {
    "id": "6821e1d0"
   },
   "source": [
    "---\n",
    "\n",
    "### Задача 2\n",
    "\n",
    "Какие административные районы Москвы присутствуют в данных? Исследуйте распределение количества заведений по административным районам Москвы, а также отдельно распределение заведений каждой категории в Центральном административном округе Москвы. Результат сопроводите подходящими визуализациями."
   ]
  },
  {
   "cell_type": "code",
   "execution_count": 31,
   "id": "e62f31be",
   "metadata": {
    "id": "e62f31be"
   },
   "outputs": [],
   "source": [
    "district_counts = df['district'].value_counts().reset_index()\n",
    "district_counts.columns = ['district', 'count']"
   ]
  },
  {
   "cell_type": "code",
   "execution_count": 32,
   "id": "0a290cd1",
   "metadata": {
    "id": "0a290cd1"
   },
   "outputs": [
    {
     "data": {
      "image/png": "[encoded data removed]",
      "text/plain": [
       "<Figure size 1008x576 with 1 Axes>"
      ]
     },
     "metadata": {
      "needs_background": "light"
     },
     "output_type": "display_data"
    }
   ],
   "source": [
    "plt.figure(figsize=(14, 8))\n",
    "sns.barplot(x='count', y='district', data=district_counts, palette='pastel')\n",
    "plt.title('Топ-10 районов Москвы по количеству заведений', fontsize=14)\n",
    "plt.xlabel('Количество заведений', fontsize=12)\n",
    "plt.ylabel('Район', fontsize=12)\n",
    "plt.grid(axis='x', linestyle='--', alpha=0.7)\n",
    "plt.show()"
   ]
  },
  {
   "cell_type": "markdown",
   "id": "48086e27",
   "metadata": {
    "id": "41f1654a"
   },
   "source": [
    "Как видно на графике, ЦАО является безусловным лидером по количеству заведений. Теперь построим график распределения заведений в ЦАО."
   ]
  },
  {
   "cell_type": "code",
   "execution_count": 33,
   "id": "ee92ff63",
   "metadata": {},
   "outputs": [],
   "source": [
    "# Фильтрация данных по ЦАО\n",
    "df_central = df[df['district'].str.contains('Центральный административный округ', case=False, na=False)]\n",
    "\n",
    "# Распределение категорий в ЦАО\n",
    "central_category_counts = df_central['category'].value_counts().reset_index()\n",
    "central_category_counts.columns = ['category', 'count']"
   ]
  },
  {
   "cell_type": "code",
   "execution_count": 34,
   "id": "adafb3d4",
   "metadata": {},
   "outputs": [
    {
     "data": {
      "image/png": "[encoded data removed]",
      "text/plain": [
       "<Figure size 720x864 with 1 Axes>"
      ]
     },
     "metadata": {},
     "output_type": "display_data"
    }
   ],
   "source": [
    "plt.figure(figsize=(10, 12))\n",
    "plt.pie(central_category_counts['count'], \n",
    "        labels=central_category_counts['category'], \n",
    "        autopct='%1.1f%%', \n",
    "        startangle=90,\n",
    "        colors=sns.color_palette('pastel'))\n",
    "plt.title('Доля категорий заведений в ЦАО', fontsize=14)\n",
    "plt.axis('equal')\n",
    "plt.show()"
   ]
  },
  {
   "cell_type": "markdown",
   "id": "25121ccb",
   "metadata": {},
   "source": [
    "<div class=\"alert alert-warning\">\n",
    "<b>⚠️ Комментарий ревьюера v1:</b> \n",
    "<br>«У секторной диаграммы очень много недостатков. Во-первых, человеческий глаз не может нормально сравнить длину дуги окружности, поскольку секторы направлены в различные стороны. Во-вторых, человеческое зрение не приспособлено к сравнению углов в принципе… Наконец, невозможно эффективно оценить величину областей, особенно если они представлены в виде неравномерных секторов в круге. Не существует способа, который бы позволял сравнивать компоненты круглой фигуры так же быстро и точно, как части прямой линии или столбца»\n",
    "\n",
    "Карл Густав Карстен, 1923 год\n",
    "    \n",
    "<br>Лучше не использовать этот тип графиков, но здорово, что ты умеешь его корректно строить. \n",
    "</div>"
   ]
  },
  {
   "cell_type": "markdown",
   "id": "7c824f58",
   "metadata": {
    "id": "7c824f58"
   },
   "source": [
    "---\n",
    "\n",
    "### Задача 3\n",
    "\n",
    "Изучите соотношение сетевых и несетевых заведений в целом по всем данным и в разрезе категорий заведения. Каких заведений больше — сетевых или несетевых? Какие категории заведений чаще являются сетевыми? Исследуйте данные, ответьте на вопросы и постройте необходимые визуализации."
   ]
  },
  {
   "cell_type": "code",
   "execution_count": 35,
   "id": "ef442d1a",
   "metadata": {
    "id": "ef442d1a"
   },
   "outputs": [],
   "source": [
    "# Считаем общее количество сетевых и несетевых заведений\n",
    "chain_counts = df['chain'].value_counts().reset_index()\n",
    "chain_counts.columns = ['chain', 'count']"
   ]
  },
  {
   "cell_type": "code",
   "execution_count": 36,
   "id": "0de29fa2",
   "metadata": {
    "id": "0de29fa2"
   },
   "outputs": [
    {
     "data": {
      "image/png": "[encoded data removed]",
      "text/plain": [
       "<Figure size 576x432 with 1 Axes>"
      ]
     },
     "metadata": {},
     "output_type": "display_data"
    }
   ],
   "source": [
    "# Строим график\n",
    "plt.figure(figsize=(8, 6))\n",
    "plt.pie(chain_counts['count'], \n",
    "        labels=['Несетевые', 'Сетевые'], \n",
    "        autopct='%1.1f%%', \n",
    "        colors=['#d5defd','#d0e6bb'],\n",
    "        startangle=90)\n",
    "plt.title('Соотношение сетевых и несетевых заведений', fontsize=14)\n",
    "plt.axis('equal')\n",
    "plt.show()"
   ]
  },
  {
   "cell_type": "markdown",
   "id": "79581bbf",
   "metadata": {},
   "source": [
    "<div class=\"alert alert-success\">\n",
    "<b>✔️ Комментарий ревьюера v1:</b> \n",
    "<br>Так как у нас всего две категории, то круговая диаграмма отлично подходит для визуализации. Молодец, что добавляешь долю каждого типа заведений\n",
    "</div>"
   ]
  },
  {
   "cell_type": "code",
   "execution_count": 37,
   "id": "a139bd72",
   "metadata": {
    "id": "a139bd72"
   },
   "outputs": [
    {
     "data": {
      "image/png": "[encoded data removed]",
      "text/plain": [
       "<Figure size 864x432 with 1 Axes>"
      ]
     },
     "metadata": {
      "needs_background": "light"
     },
     "output_type": "display_data"
    }
   ],
   "source": [
    "# Считаем долю сетевых заведений в каждой категории\n",
    "category_chain = df.groupby('category')['chain'].mean().sort_values(ascending=False).reset_index()\n",
    "category_chain.columns = ['category', 'chain_ratio']\n",
    "\n",
    "# Считаем топ-10 категорий с наибольшей долей сетевых заведений\n",
    "top_chain_categories = category_chain.head(10)\n",
    "\n",
    "# Строим график\n",
    "plt.figure(figsize=(12, 6))\n",
    "sns.barplot(x='chain_ratio', y='category', data=top_chain_categories, palette='pastel')\n",
    "plt.title('Топ-10 категорий по доле сетевых заведений', fontsize=14)\n",
    "plt.xlabel('Доля сетевых заведений', fontsize=12)\n",
    "plt.ylabel('Категория', fontsize=12)\n",
    "plt.grid(axis='x', linestyle='--', alpha=0.7)\n",
    "plt.show()"
   ]
  },
  {
   "cell_type": "markdown",
   "id": "c3301ef3",
   "metadata": {},
   "source": [
    "<div class=\"alert alert-success\">\n",
    "<b>✔️ Комментарий ревьюера v1:</b> \n",
    "<br>Молодец! В данном случае посмотреть долю сетевых заведений по категориям - наилучшее решение. Так сразу видно где больше всего сетевых заведений\n",
    "</div>"
   ]
  },
  {
   "cell_type": "markdown",
   "id": "185a0536",
   "metadata": {},
   "source": [
    "Булочные и пиццерии чаще являются сетевыми, а столовые и пабы/бары в основном локальные."
   ]
  },
  {
   "cell_type": "markdown",
   "id": "5913c3e3",
   "metadata": {
    "id": "5913c3e3"
   },
   "source": [
    "---\n",
    "\n",
    "### Задача 4\n",
    "\n",
    "Исследуйте количество посадочных мест в заведениях. Встречаются ли в данных аномальные значения или выбросы? Если да, то с чем они могут быть связаны? Приведите для каждой категории заведений наиболее типичное для него количество посадочных мест. Результат сопроводите подходящими визуализациями.\n"
   ]
  },
  {
   "cell_type": "code",
   "execution_count": 38,
   "id": "d2a1da84",
   "metadata": {},
   "outputs": [],
   "source": [
    "#Отфильтруем значения индикаторы для столбца seats\n",
    "df_filtered = df[df['seats'] != -1]"
   ]
  },
  {
   "cell_type": "code",
   "execution_count": 39,
   "id": "6cb238d2",
   "metadata": {
    "id": "6cb238d2"
   },
   "outputs": [
    {
     "data": {
      "text/plain": [
       "count    4792.000000\n",
       "mean      108.361436\n",
       "std       122.841130\n",
       "min         0.000000\n",
       "25%        40.000000\n",
       "50%        75.000000\n",
       "75%       140.000000\n",
       "max      1288.000000\n",
       "Name: seats, dtype: float64"
      ]
     },
     "execution_count": 39,
     "metadata": {},
     "output_type": "execute_result"
    }
   ],
   "source": [
    "# Выведем общую статистику\n",
    "df_filtered['seats'].describe()"
   ]
  },
  {
   "cell_type": "markdown",
   "id": "5f771a3b",
   "metadata": {
    "id": "062b55d8"
   },
   "source": [
    "#### Что можно заметить:\n",
    "\n",
    "- Среднее количество мест: 108.\n",
    "- Минимальное значение: 0 (аномалия или ошибка).\n",
    "- Максимальное значение: 1288 (вероятный выброс)."
   ]
  },
  {
   "cell_type": "code",
   "execution_count": 40,
   "id": "ceadf25b",
   "metadata": {
    "id": "ceadf25b"
   },
   "outputs": [
    {
     "data": {
      "image/png": "[encoded data removed]",
      "text/plain": [
       "<Figure size 864x432 with 1 Axes>"
      ]
     },
     "metadata": {
      "needs_background": "light"
     },
     "output_type": "display_data"
    }
   ],
   "source": [
    "# Строим гарфик\n",
    "plt.figure(figsize=(12, 6))\n",
    "sns.boxplot(x=df_filtered['seats'], color='skyblue')\n",
    "plt.title('Распределение количества посадочных мест', fontsize=14)\n",
    "plt.xlabel('Количество мест', fontsize=12)\n",
    "plt.grid(axis='x', linestyle='--', alpha=0.7)\n",
    "plt.show()"
   ]
  },
  {
   "cell_type": "code",
   "execution_count": 41,
   "id": "f512c6d5",
   "metadata": {},
   "outputs": [
    {
     "name": "stdout",
     "output_type": "stream",
     "text": [
      "Выбросы начинаются с 290.0\n",
      "Количество выбросов: 318\n"
     ]
    }
   ],
   "source": [
    "# Ищем и выводим выбросы\n",
    "Q1 = df_filtered['seats'].quantile(0.25)\n",
    "Q3 = df_filtered['seats'].quantile(0.75)\n",
    "IQR = Q3 - Q1\n",
    "upper_bound = Q3 + 1.5 * IQR\n",
    "\n",
    "outliers = df_filtered[df_filtered['seats'] > upper_bound]\n",
    "print(f'Выбросы начинаются с {upper_bound}')\n",
    "print(f'Количество выбросов: {len(outliers)}')"
   ]
  },
  {
   "cell_type": "markdown",
   "id": "41fe1dab",
   "metadata": {},
   "source": [
    "#### Причины аномалий\n",
    "\n",
    "- Максимальные значения (290 - 1288 мест): крупные рестораны или банкетные залы. \n",
    "- Нулевые значения (0 мест): заведения без посадочных мест (доставка, фудтраки и тд.)."
   ]
  },
  {
   "cell_type": "code",
   "execution_count": 42,
   "id": "2bc5602a",
   "metadata": {},
   "outputs": [
    {
     "data": {
      "image/png": "[encoded data removed]",
      "text/plain": [
       "<Figure size 1008x576 with 1 Axes>"
      ]
     },
     "metadata": {
      "needs_background": "light"
     },
     "output_type": "display_data"
    }
   ],
   "source": [
    "# Группируем пр категориям\n",
    "typical_seats = df_filtered.groupby('category')['seats'].median().sort_values(ascending=False).reset_index()\n",
    "typical_seats.columns = ['category', 'median_seats']\n",
    "\n",
    "# Строим график\n",
    "plt.figure(figsize=(14, 8))\n",
    "sns.barplot(x='median_seats', y='category', data=typical_seats, palette='pastel')\n",
    "plt.title('Типичное количество мест по категориям (медиана)', fontsize=14)\n",
    "plt.xlabel('Медианное количество мест', fontsize=12)\n",
    "plt.ylabel('Категория', fontsize=12)\n",
    "plt.grid(axis='x', linestyle='--', alpha=0.7)\n",
    "plt.show()"
   ]
  },
  {
   "cell_type": "markdown",
   "id": "e21e26b9",
   "metadata": {},
   "source": [
    "<div class=\"alert alert-success\">\n",
    "<b>✔️ Комментарий ревьюера v1:</b> \n",
    "<br>Использовать медиану - верное решение\n",
    "</div>"
   ]
  },
  {
   "cell_type": "code",
   "execution_count": 43,
   "id": "2a62bc96",
   "metadata": {},
   "outputs": [
    {
     "name": "stdout",
     "output_type": "stream",
     "text": [
      "Категории с 0 мест:\n",
      "кафе               44\n",
      "кофейня            24\n",
      "ресторан           20\n",
      "быстрое питание    18\n",
      "булочная           11\n",
      "пиццерия           10\n",
      "столовая            5\n",
      "бар,паб             4\n",
      "Name: category, dtype: int64\n"
     ]
    }
   ],
   "source": [
    "# Выводим категории заведений и кол-во заведений с нулевым значением в столбцк seats\n",
    "zero_seats = df_filtered[df_filtered['seats'] == 0]\n",
    "print(\"Категории с 0 мест:\")\n",
    "print(zero_seats['category'].value_counts())"
   ]
  },
  {
   "cell_type": "markdown",
   "id": "6810d192",
   "metadata": {},
   "source": [
    "Можно отметить, что нулевые значения в столбце `seats` скорее всего связаны с ошибкой сбора данных, либо в источниках не было указано количество посадочных мест."
   ]
  },
  {
   "cell_type": "markdown",
   "id": "8ed065ea",
   "metadata": {
    "id": "8ed065ea"
   },
   "source": [
    "---\n",
    "\n",
    "### Задача 5\n",
    "\n",
    "Исследуйте рейтинг заведений. Визуализируйте распределение средних рейтингов по категориям заведений. Сильно ли различаются усреднённые рейтинги для разных типов общепита?"
   ]
  },
  {
   "cell_type": "code",
   "execution_count": 44,
   "id": "cc5206f8",
   "metadata": {
    "id": "cc5206f8"
   },
   "outputs": [
    {
     "data": {
      "image/png": "[encoded data removed]",
      "text/plain": [
       "<Figure size 1008x576 with 1 Axes>"
      ]
     },
     "metadata": {
      "needs_background": "light"
     },
     "output_type": "display_data"
    }
   ],
   "source": [
    "# Группируем по категориям и считаем средний рейтинг\n",
    "avg_rating_by_category = df.groupby('category')['rating'].mean().sort_values(ascending=False).reset_index()\n",
    "\n",
    "# Строим график\n",
    "plt.figure(figsize=(14, 8))\n",
    "sns.barplot(x='rating', y='category', data=avg_rating_by_category, palette='pastel', ci=None)\n",
    "plt.title('Средний рейтинг по категориям заведений', fontsize=14)\n",
    "plt.xlabel('Средний рейтинг', fontsize=12)\n",
    "plt.ylabel('Категория', fontsize=12)\n",
    "plt.xlim(0, 5)\n",
    "plt.grid(axis='x', linestyle='--', alpha=0.7)\n",
    "plt.show()"
   ]
  },
  {
   "cell_type": "markdown",
   "id": "baec411b",
   "metadata": {
    "id": "3e0ec5d7"
   },
   "source": [
    "Самыми высокими оценками обладают: бары/пабы, пиццерии и рестораны. Такие высокие оценки обычно связаны с атмосферой и качеством обсуживания в этих типах заведений. \n",
    "\n",
    "\n",
    "Низкие оценки у кафе, столовых и фастфуда связаны скорее всего с их форматом работы. Они больше ориентированы на скорость работы, нежели на комфорт и атмосферу.\n",
    "\n",
    "\n",
    "Также стоит проверить связь рейтинга с ценовым сегментом."
   ]
  },
  {
   "cell_type": "markdown",
   "id": "5ac9e560",
   "metadata": {},
   "source": [
    "<div class=\"alert alert-success\">\n",
    "<b>✔️ Комментарий ревьюера v1:</b> \n",
    "<br>Ты верно делаешь, что используешь среднее, а не медиану для подсчета рейтингов, так мы четче увидим разницу между категориями.\n",
    "</div>"
   ]
  },
  {
   "cell_type": "markdown",
   "id": "dd9702d9",
   "metadata": {
    "id": "dd9702d9"
   },
   "source": [
    "---\n",
    "\n",
    "### Задача 6\n",
    "\n",
    "Изучите, с какими данными показывают самую сильную корреляцию рейтинги заведений? Постройте и визуализируйте матрицу корреляции рейтинга заведения с разными данными: его категория, положение (административный район Москвы), статус сетевого заведения, количество мест, ценовая категория и признак, является ли заведения круглосуточным. Выберите самую сильную связь и проверьте её."
   ]
  },
  {
   "cell_type": "code",
   "execution_count": 45,
   "id": "1a65a84d",
   "metadata": {
    "id": "1a65a84d"
   },
   "outputs": [],
   "source": [
    "# Выбираем переменные для анализа phi_k\n",
    "variables_for_phik = ['rating', 'category', 'district', 'chain', 'seats', 'price', 'is_24_7']\n",
    "\n",
    "# Указываем интервальные столбцы\n",
    "interval_cols = ['rating', 'chain', 'seats']\n",
    "\n",
    "# Создаем матрицу phi_k\n",
    "phik_matrix = df[variables_for_phik].phik_matrix(interval_cols=interval_cols)"
   ]
  },
  {
   "cell_type": "code",
   "execution_count": 46,
   "id": "51f2fc80",
   "metadata": {},
   "outputs": [
    {
     "data": {
      "image/png": "[encoded data removed]",
      "text/plain": [
       "<Figure size 576x720 with 2 Axes>"
      ]
     },
     "metadata": {
      "needs_background": "light"
     },
     "output_type": "display_data"
    }
   ],
   "source": [
    "# Строим график\n",
    "plt.figure(figsize=(8, 10))\n",
    "sns.heatmap(phik_matrix, \n",
    "            annot=True, cmap='Blues', vmin=-1, vmax=1)\n",
    "plt.title('Корреляция рейтинга с другими признаками', fontsize=14)\n",
    "plt.show()"
   ]
  },
  {
   "cell_type": "markdown",
   "id": "7fe27a89",
   "metadata": {},
   "source": [
    "Самая сильные положительные корреляции:\n",
    "\n",
    "- Рейтинг и цена: 0,31.\n",
    "- Категория и цена: 0,33.\n",
    "- Район и количество посадочных мест: 0,28.\n",
    "\n",
    "Сейчас нам нужно рассмотреть только одну самую сильную связь: рейтинг и цена."
   ]
  },
  {
   "cell_type": "code",
   "execution_count": 47,
   "id": "ca3e0bfe",
   "metadata": {},
   "outputs": [
    {
     "name": "stdout",
     "output_type": "stream",
     "text": [
      "Было строк: 8402\n",
      "Стало строк: 3315\n",
      "Удалено строк: 5087\n"
     ]
    }
   ],
   "source": [
    "# Убираем значения индикаторы\n",
    "df_filtered_price = df[df['price'] != '-1']\n",
    "print(f\"Было строк: {len(df)}\")\n",
    "print(f\"Стало строк: {len(df_filtered_price)}\")\n",
    "print(f\"Удалено строк: {len(df) - len(df_filtered_price)}\")"
   ]
  },
  {
   "cell_type": "code",
   "execution_count": 48,
   "id": "688a3639",
   "metadata": {},
   "outputs": [
    {
     "data": {
      "image/png": "[encoded data removed]",
      "text/plain": [
       "<Figure size 864x720 with 1 Axes>"
      ]
     },
     "metadata": {
      "needs_background": "light"
     },
     "output_type": "display_data"
    }
   ],
   "source": [
    "# Строим график\n",
    "plt.figure(figsize=(12, 10))\n",
    "sns.boxplot(x='price', y='rating', data=df_filtered_price, palette='pastel')\n",
    "plt.title('Зависимость рейтинга от ценового сегмента', fontsize=14)\n",
    "plt.xlabel('Ценовой сегмент', fontsize=12)\n",
    "plt.ylabel('Рейтинг', fontsize=12)\n",
    "plt.grid(axis='y', linestyle='--', alpha=0.7)\n",
    "plt.show()"
   ]
  },
  {
   "cell_type": "markdown",
   "id": "98ee3855",
   "metadata": {},
   "source": [
    "Как видно на графике выше ценовой сегмент на прямую влияет на рейтинг заведения. Например, у заведения с высоким ценовым сегментом больше высоких оценок. "
   ]
  },
  {
   "cell_type": "markdown",
   "id": "91202201",
   "metadata": {},
   "source": [
    "<div class=\"alert alert-success\">\n",
    "<b>✔️ Комментарий ревьюера v1:</b> \n",
    "<br>Ты правильно делаешь, что изучаешь зависимость рейтинга от ценовой категории. Вывод верный\n",
    "</div>"
   ]
  },
  {
   "cell_type": "markdown",
   "id": "370de703",
   "metadata": {
    "id": "370de703"
   },
   "source": [
    "---\n",
    "\n",
    "### Задача 7\n",
    "\n",
    "Сгруппируйте данные по названиям заведений и найдите топ-15 популярных сетей в Москве. Для них посчитайте значения среднего рейтинга. Под популярностью понимается количество заведений этой сети в регионе. К какой категории заведений они относятся? Результат сопроводите подходящими визуализациями."
   ]
  },
  {
   "cell_type": "code",
   "execution_count": 49,
   "id": "5d828a9a",
   "metadata": {
    "id": "5d828a9a"
   },
   "outputs": [
    {
     "data": {
      "text/html": [
       "<div>\n",
       "<style scoped>\n",
       "    .dataframe tbody tr th:only-of-type {\n",
       "        vertical-align: middle;\n",
       "    }\n",
       "\n",
       "    .dataframe tbody tr th {\n",
       "        vertical-align: top;\n",
       "    }\n",
       "\n",
       "    .dataframe thead th {\n",
       "        text-align: right;\n",
       "    }\n",
       "</style>\n",
       "<table border=\"1\" class=\"dataframe\">\n",
       "  <thead>\n",
       "    <tr style=\"text-align: right;\">\n",
       "      <th></th>\n",
       "      <th>name</th>\n",
       "      <th>chain</th>\n",
       "      <th>count</th>\n",
       "      <th>avg_rating</th>\n",
       "    </tr>\n",
       "  </thead>\n",
       "  <tbody>\n",
       "    <tr>\n",
       "      <th>729</th>\n",
       "      <td>шоколадница</td>\n",
       "      <td>1</td>\n",
       "      <td>120</td>\n",
       "      <td>4.177500</td>\n",
       "    </tr>\n",
       "    <tr>\n",
       "      <th>335</th>\n",
       "      <td>домино'с пицца</td>\n",
       "      <td>1</td>\n",
       "      <td>76</td>\n",
       "      <td>4.171429</td>\n",
       "    </tr>\n",
       "    <tr>\n",
       "      <th>331</th>\n",
       "      <td>додо пицца</td>\n",
       "      <td>1</td>\n",
       "      <td>74</td>\n",
       "      <td>4.286487</td>\n",
       "    </tr>\n",
       "    <tr>\n",
       "      <th>146</th>\n",
       "      <td>one price coffee</td>\n",
       "      <td>1</td>\n",
       "      <td>71</td>\n",
       "      <td>4.069445</td>\n",
       "    </tr>\n",
       "    <tr>\n",
       "      <th>742</th>\n",
       "      <td>яндекс лавка</td>\n",
       "      <td>1</td>\n",
       "      <td>69</td>\n",
       "      <td>3.872464</td>\n",
       "    </tr>\n",
       "    <tr>\n",
       "      <th>58</th>\n",
       "      <td>cofix</td>\n",
       "      <td>1</td>\n",
       "      <td>65</td>\n",
       "      <td>4.075385</td>\n",
       "    </tr>\n",
       "    <tr>\n",
       "      <th>168</th>\n",
       "      <td>prime</td>\n",
       "      <td>1</td>\n",
       "      <td>50</td>\n",
       "      <td>4.116000</td>\n",
       "    </tr>\n",
       "    <tr>\n",
       "      <th>664</th>\n",
       "      <td>хинкальная</td>\n",
       "      <td>1</td>\n",
       "      <td>44</td>\n",
       "      <td>4.322727</td>\n",
       "    </tr>\n",
       "    <tr>\n",
       "      <th>409</th>\n",
       "      <td>кофепорт</td>\n",
       "      <td>1</td>\n",
       "      <td>42</td>\n",
       "      <td>4.147619</td>\n",
       "    </tr>\n",
       "    <tr>\n",
       "      <th>418</th>\n",
       "      <td>кулинарная лавка братьев караваевых</td>\n",
       "      <td>1</td>\n",
       "      <td>39</td>\n",
       "      <td>4.394872</td>\n",
       "    </tr>\n",
       "    <tr>\n",
       "      <th>628</th>\n",
       "      <td>теремок</td>\n",
       "      <td>1</td>\n",
       "      <td>38</td>\n",
       "      <td>4.123684</td>\n",
       "    </tr>\n",
       "    <tr>\n",
       "      <th>683</th>\n",
       "      <td>чайхана</td>\n",
       "      <td>1</td>\n",
       "      <td>37</td>\n",
       "      <td>3.924324</td>\n",
       "    </tr>\n",
       "    <tr>\n",
       "      <th>39</th>\n",
       "      <td>cofefest</td>\n",
       "      <td>1</td>\n",
       "      <td>32</td>\n",
       "      <td>3.984375</td>\n",
       "    </tr>\n",
       "    <tr>\n",
       "      <th>267</th>\n",
       "      <td>буханка</td>\n",
       "      <td>1</td>\n",
       "      <td>32</td>\n",
       "      <td>4.396875</td>\n",
       "    </tr>\n",
       "    <tr>\n",
       "      <th>477</th>\n",
       "      <td>му-му</td>\n",
       "      <td>1</td>\n",
       "      <td>27</td>\n",
       "      <td>4.229630</td>\n",
       "    </tr>\n",
       "  </tbody>\n",
       "</table>\n",
       "</div>"
      ],
      "text/plain": [
       "                                    name  chain  count  avg_rating\n",
       "729                          шоколадница      1    120    4.177500\n",
       "335                       домино'с пицца      1     76    4.171429\n",
       "331                           додо пицца      1     74    4.286487\n",
       "146                     one price coffee      1     71    4.069445\n",
       "742                         яндекс лавка      1     69    3.872464\n",
       "58                                 cofix      1     65    4.075385\n",
       "168                                prime      1     50    4.116000\n",
       "664                           хинкальная      1     44    4.322727\n",
       "409                             кофепорт      1     42    4.147619\n",
       "418  кулинарная лавка братьев караваевых      1     39    4.394872\n",
       "628                              теремок      1     38    4.123684\n",
       "683                              чайхана      1     37    3.924324\n",
       "39                              cofefest      1     32    3.984375\n",
       "267                              буханка      1     32    4.396875\n",
       "477                                му-му      1     27    4.229630"
      ]
     },
     "execution_count": 49,
     "metadata": {},
     "output_type": "execute_result"
    }
   ],
   "source": [
    "# Группируем данные по названию и сетевому признаку\n",
    "network_counts = df.groupby(['name', 'chain']).size().reset_index(name='count')\n",
    "# Фильтруем только для сетевых заведений\n",
    "network_counts = network_counts[network_counts['chain'] == 1]\n",
    "\n",
    "# Добавляем средний рейтинг для каждой сети\n",
    "network_ratings = df.groupby('name')['rating'].mean().reset_index(name='avg_rating')\n",
    "\n",
    "# Объединяем данные\n",
    "network_data = pd.merge(network_counts, network_ratings, on='name')\n",
    "\n",
    "# Сортируем по количеству заведений и выбираем топ-15\n",
    "top_15_networks = network_data.sort_values(by='count', ascending=False).head(15)\n",
    "top_15_networks"
   ]
  },
  {
   "cell_type": "code",
   "execution_count": 50,
   "id": "d013c598",
   "metadata": {
    "id": "d013c598"
   },
   "outputs": [
    {
     "data": {
      "image/png": "[encoded data removed]",
      "text/plain": [
       "<Figure size 1008x576 with 1 Axes>"
      ]
     },
     "metadata": {
      "needs_background": "light"
     },
     "output_type": "display_data"
    }
   ],
   "source": [
    "# Строим график\n",
    "plt.figure(figsize=(14, 8))\n",
    "sns.barplot(x='count', y='name', data=top_15_networks, palette='pastel', label='Количество заведений')\n",
    "plt.title('Топ-15 популярных сетей в Москве', fontsize=14)\n",
    "plt.xlabel('Количество заведений', fontsize=12)\n",
    "plt.ylabel('Название сети', fontsize=12)\n",
    "plt.grid(axis='x', linestyle='--', alpha=0.7)\n",
    "plt.show()"
   ]
  },
  {
   "cell_type": "code",
   "execution_count": 51,
   "id": "946d59c7",
   "metadata": {},
   "outputs": [],
   "source": [
    "#Не додумалась как добавить категории. Буду благодарна за подсказку."
   ]
  },
  {
   "cell_type": "markdown",
   "id": "1f505bc5",
   "metadata": {},
   "source": [
    "<div class=\"alert alert-warning\">\n",
    "<b>⚠️ Комментарий ревьюера v1:</b> \n",
    "<br>Не очень понимаю твою задумку. Можешь объяснить подробнее?\n",
    "    \n",
    "</div>"
   ]
  },
  {
   "cell_type": "markdown",
   "id": "3f8740fa",
   "metadata": {},
   "source": [
    "<div class=\"alert alert-danger\">\n",
    "<b>❌ Комментарий ревьюера v1:</b> \n",
    "<br>Давайте еще добавим тут график со значениями среднего рейтинга для топ15 сетевых заведений\n",
    "</div>"
   ]
  },
  {
   "cell_type": "markdown",
   "id": "9b28bc78",
   "metadata": {},
   "source": [
    "<div class=\"alert alert-success\">\n",
    "<b>✔️ Комментарий ревьюера v2:</b>\n",
    "<br>Правка выполнена 👍\n",
    "</div>"
   ]
  },
  {
   "cell_type": "code",
   "execution_count": 52,
   "id": "3d8eb288",
   "metadata": {},
   "outputs": [],
   "source": [
    "# Сортируем заведения по рейтингу\n",
    "top_15_rating = top_15_networks.sort_values(by='avg_rating', ascending=False).head(15)"
   ]
  },
  {
   "cell_type": "code",
   "execution_count": 53,
   "id": "7f8e015f",
   "metadata": {},
   "outputs": [
    {
     "data": {
      "image/png": "[encoded data removed]",
      "text/plain": [
       "<Figure size 1008x576 with 1 Axes>"
      ]
     },
     "metadata": {
      "needs_background": "light"
     },
     "output_type": "display_data"
    }
   ],
   "source": [
    "# Строим график\n",
    "plt.figure(figsize=(14, 8))\n",
    "sns.barplot(x='avg_rating', y='name', data=top_15_rating, palette='pastel', label='Количество заведений')\n",
    "plt.title('Рейтинг топ-15 заведений в Москве', fontsize=14)\n",
    "plt.xlabel('Рейтинг', fontsize=12)\n",
    "plt.ylabel('Название сети', fontsize=12)\n",
    "plt.grid(axis='x', linestyle='--', alpha=0.7)\n",
    "plt.show()"
   ]
  },
  {
   "cell_type": "markdown",
   "id": "cc6f8e79",
   "metadata": {},
   "source": [
    "Средний рейтинг у всех заведений топа почти одинаковый. Значит количество точек не влияет на рейтинг. Это скорее всего связно с корпоративными стандартами обслуживания в сетевых заведениях."
   ]
  },
  {
   "cell_type": "markdown",
   "id": "85a90a94",
   "metadata": {
    "id": "85a90a94"
   },
   "source": [
    "---\n",
    "\n",
    "### Задача 8\n",
    "\n",
    "Изучите вариацию среднего чека заведения (столбец `middle_avg_bill`) в зависимости от района Москвы. Проанализируйте цены в Центральном административном округе и других. Как удалённость от центра влияет на цены в заведениях? Результат сопроводите подходящими визуализациями.\n"
   ]
  },
  {
   "cell_type": "code",
   "execution_count": 54,
   "id": "5fb4ffc6",
   "metadata": {
    "id": "5fb4ffc6"
   },
   "outputs": [],
   "source": [
    "# Убираем значения-индикаторы из столбца middle_avg_bill\n",
    "df_fil_avg_bill = df[df['middle_avg_bill'] != -1]"
   ]
  },
  {
   "cell_type": "code",
   "execution_count": 55,
   "id": "b98066c1",
   "metadata": {
    "id": "b98066c1"
   },
   "outputs": [
    {
     "data": {
      "text/html": [
       "<div>\n",
       "<style scoped>\n",
       "    .dataframe tbody tr th:only-of-type {\n",
       "        vertical-align: middle;\n",
       "    }\n",
       "\n",
       "    .dataframe tbody tr th {\n",
       "        vertical-align: top;\n",
       "    }\n",
       "\n",
       "    .dataframe thead th {\n",
       "        text-align: right;\n",
       "    }\n",
       "</style>\n",
       "<table border=\"1\" class=\"dataframe\">\n",
       "  <thead>\n",
       "    <tr style=\"text-align: right;\">\n",
       "      <th></th>\n",
       "      <th>district</th>\n",
       "      <th>middle_avg_bill</th>\n",
       "    </tr>\n",
       "  </thead>\n",
       "  <tbody>\n",
       "    <tr>\n",
       "      <th>0</th>\n",
       "      <td>Центральный административный округ</td>\n",
       "      <td>1191.057495</td>\n",
       "    </tr>\n",
       "    <tr>\n",
       "      <th>1</th>\n",
       "      <td>Западный административный округ</td>\n",
       "      <td>1053.225464</td>\n",
       "    </tr>\n",
       "    <tr>\n",
       "      <th>2</th>\n",
       "      <td>Северный административный округ</td>\n",
       "      <td>927.959656</td>\n",
       "    </tr>\n",
       "    <tr>\n",
       "      <th>3</th>\n",
       "      <td>Южный административный округ</td>\n",
       "      <td>834.398071</td>\n",
       "    </tr>\n",
       "    <tr>\n",
       "      <th>4</th>\n",
       "      <td>Северо-Западный административный округ</td>\n",
       "      <td>822.222900</td>\n",
       "    </tr>\n",
       "    <tr>\n",
       "      <th>5</th>\n",
       "      <td>Восточный административный округ</td>\n",
       "      <td>820.626953</td>\n",
       "    </tr>\n",
       "    <tr>\n",
       "      <th>6</th>\n",
       "      <td>Юго-Западный административный округ</td>\n",
       "      <td>792.561707</td>\n",
       "    </tr>\n",
       "    <tr>\n",
       "      <th>7</th>\n",
       "      <td>Северо-Восточный административный округ</td>\n",
       "      <td>716.611267</td>\n",
       "    </tr>\n",
       "    <tr>\n",
       "      <th>8</th>\n",
       "      <td>Юго-Восточный административный округ</td>\n",
       "      <td>654.097961</td>\n",
       "    </tr>\n",
       "  </tbody>\n",
       "</table>\n",
       "</div>"
      ],
      "text/plain": [
       "                                  district  middle_avg_bill\n",
       "0       Центральный административный округ      1191.057495\n",
       "1          Западный административный округ      1053.225464\n",
       "2          Северный административный округ       927.959656\n",
       "3             Южный административный округ       834.398071\n",
       "4   Северо-Западный административный округ       822.222900\n",
       "5         Восточный административный округ       820.626953\n",
       "6      Юго-Западный административный округ       792.561707\n",
       "7  Северо-Восточный административный округ       716.611267\n",
       "8     Юго-Восточный административный округ       654.097961"
      ]
     },
     "execution_count": 55,
     "metadata": {},
     "output_type": "execute_result"
    }
   ],
   "source": [
    "# Группируем по районам\n",
    "avg_bill_by_district = df_fil_avg_bill.groupby('district')['middle_avg_bill'].mean().sort_values(ascending=False).reset_index()\n",
    "avg_bill_by_district"
   ]
  },
  {
   "cell_type": "code",
   "execution_count": 56,
   "id": "9b5e00a5",
   "metadata": {
    "id": "9b5e00a5"
   },
   "outputs": [
    {
     "data": {
      "image/png": "[encoded data removed]",
      "text/plain": [
       "<Figure size 1008x576 with 1 Axes>"
      ]
     },
     "metadata": {
      "needs_background": "light"
     },
     "output_type": "display_data"
    }
   ],
   "source": [
    "# Строим график\n",
    "plt.figure(figsize=(14, 8))\n",
    "sns.barplot(x='middle_avg_bill', y='district', data=avg_bill_by_district, palette='pastel')\n",
    "plt.title('Средний чек по районам Москвы', fontsize=14)\n",
    "plt.xlabel('Средний чек (руб.)', fontsize=12)\n",
    "plt.ylabel('Район', fontsize=12)\n",
    "plt.grid(axis='x', linestyle='--', alpha=0.7)\n",
    "plt.show()"
   ]
  },
  {
   "cell_type": "markdown",
   "id": "e57bd142",
   "metadata": {},
   "source": [
    "Как и ожидалось, что самый высокий чек `(1191.05 руб.) в ЦАО`. На втором месте по среднему чеку `ЗАО (1053.22 руб.)`. На третьем месте `САО (927.95 руб.)`"
   ]
  },
  {
   "cell_type": "markdown",
   "id": "9a7f55d5",
   "metadata": {},
   "source": [
    "<div class=\"alert alert-warning\">\n",
    "<b>⚠️ Комментарий ревьюера v1:</b> \n",
    "<br>Тут еще можно было бы добавить барплот, где для каждой категории было бы два столбца - со средней и медианной ценой. Это позволило бы сравнить цены внутри округа и округа между собой\n",
    "</div>"
   ]
  },
  {
   "cell_type": "code",
   "execution_count": 57,
   "id": "46787277",
   "metadata": {
    "scrolled": true
   },
   "outputs": [
    {
     "data": {
      "text/html": [
       "<div>\n",
       "<style scoped>\n",
       "    .dataframe tbody tr th:only-of-type {\n",
       "        vertical-align: middle;\n",
       "    }\n",
       "\n",
       "    .dataframe tbody tr th {\n",
       "        vertical-align: top;\n",
       "    }\n",
       "\n",
       "    .dataframe thead th {\n",
       "        text-align: right;\n",
       "    }\n",
       "</style>\n",
       "<table border=\"1\" class=\"dataframe\">\n",
       "  <thead>\n",
       "    <tr style=\"text-align: right;\">\n",
       "      <th></th>\n",
       "      <th>district</th>\n",
       "      <th>mean</th>\n",
       "      <th>median</th>\n",
       "    </tr>\n",
       "  </thead>\n",
       "  <tbody>\n",
       "    <tr>\n",
       "      <th>0</th>\n",
       "      <td>Восточный административный округ</td>\n",
       "      <td>820.626953</td>\n",
       "      <td>575.0</td>\n",
       "    </tr>\n",
       "    <tr>\n",
       "      <th>1</th>\n",
       "      <td>Западный административный округ</td>\n",
       "      <td>1053.225464</td>\n",
       "      <td>1000.0</td>\n",
       "    </tr>\n",
       "    <tr>\n",
       "      <th>2</th>\n",
       "      <td>Северный административный округ</td>\n",
       "      <td>927.959656</td>\n",
       "      <td>650.0</td>\n",
       "    </tr>\n",
       "    <tr>\n",
       "      <th>3</th>\n",
       "      <td>Северо-Восточный административный округ</td>\n",
       "      <td>716.611267</td>\n",
       "      <td>500.0</td>\n",
       "    </tr>\n",
       "    <tr>\n",
       "      <th>4</th>\n",
       "      <td>Северо-Западный административный округ</td>\n",
       "      <td>822.222900</td>\n",
       "      <td>700.0</td>\n",
       "    </tr>\n",
       "    <tr>\n",
       "      <th>5</th>\n",
       "      <td>Центральный административный округ</td>\n",
       "      <td>1191.057495</td>\n",
       "      <td>1000.0</td>\n",
       "    </tr>\n",
       "    <tr>\n",
       "      <th>6</th>\n",
       "      <td>Юго-Восточный административный округ</td>\n",
       "      <td>654.097961</td>\n",
       "      <td>450.0</td>\n",
       "    </tr>\n",
       "    <tr>\n",
       "      <th>7</th>\n",
       "      <td>Юго-Западный административный округ</td>\n",
       "      <td>792.561707</td>\n",
       "      <td>600.0</td>\n",
       "    </tr>\n",
       "    <tr>\n",
       "      <th>8</th>\n",
       "      <td>Южный административный округ</td>\n",
       "      <td>834.398071</td>\n",
       "      <td>500.0</td>\n",
       "    </tr>\n",
       "  </tbody>\n",
       "</table>\n",
       "</div>"
      ],
      "text/plain": [
       "                                  district         mean  median\n",
       "0         Восточный административный округ   820.626953   575.0\n",
       "1          Западный административный округ  1053.225464  1000.0\n",
       "2          Северный административный округ   927.959656   650.0\n",
       "3  Северо-Восточный административный округ   716.611267   500.0\n",
       "4   Северо-Западный административный округ   822.222900   700.0\n",
       "5       Центральный административный округ  1191.057495  1000.0\n",
       "6     Юго-Восточный административный округ   654.097961   450.0\n",
       "7      Юго-Западный административный округ   792.561707   600.0\n",
       "8             Южный административный округ   834.398071   500.0"
      ]
     },
     "execution_count": 57,
     "metadata": {},
     "output_type": "execute_result"
    }
   ],
   "source": [
    "# Групперуем по району и среднему чеку\n",
    "avg_bill_by_district_median = df_fil_avg_bill.groupby('district')['middle_avg_bill'].agg(['mean', 'median']).reset_index()\n",
    "avg_bill_by_district_median"
   ]
  },
  {
   "cell_type": "code",
   "execution_count": 58,
   "id": "3153923d",
   "metadata": {},
   "outputs": [
    {
     "data": {
      "image/png": "[encoded data removed]",
      "text/plain": [
       "<Figure size 1008x576 with 1 Axes>"
      ]
     },
     "metadata": {
      "needs_background": "light"
     },
     "output_type": "display_data"
    }
   ],
   "source": [
    "# Строим график\n",
    "plt.figure(figsize=(14, 8))\n",
    "sns.barplot(x='district', y='mean', data=avg_bill_by_district_median, color='skyblue', label='Средний чек')\n",
    "sns.barplot(x='district', y='median', data=avg_bill_by_district_median, color='#d0e6bb', label='Медианный чек')\n",
    "plt.title('Средний и медианный чек по районам Москвы', fontsize=14)\n",
    "plt.xlabel('Район', fontsize=12)\n",
    "plt.ylabel('Средний/медианный чек (руб.)', fontsize=12)\n",
    "plt.xticks(rotation=45, ha='right')\n",
    "plt.legend()\n",
    "plt.grid(axis='y', linestyle='--', alpha=0.7)\n",
    "plt.show()"
   ]
  },
  {
   "cell_type": "markdown",
   "id": "25347472",
   "metadata": {},
   "source": [
    "Как видно на графике, медианный чек у ЦАО и ЗАО одиниковый, хотя средний чек у ЦАО больше."
   ]
  },
  {
   "cell_type": "markdown",
   "id": "c150bd4f",
   "metadata": {
    "id": "c150bd4f"
   },
   "source": [
    "---\n",
    "\n",
    "### Задача 9\n",
    "\n",
    " При необходимости проведите исследования других данных и их взаимосвязи. Например, часы работы заведений или стоимость чашки кофе в зависимости от расположения или типа заведения.\n"
   ]
  },
  {
   "cell_type": "code",
   "execution_count": 59,
   "id": "5ee8b279",
   "metadata": {
    "id": "5ee8b279"
   },
   "outputs": [],
   "source": [
    "# Удаляем значения-индикаторы из столбцов price и seats\n",
    "df_filt_seats_price = df[(df['price'] != '-1') & (df['seats'] != -1)]"
   ]
  },
  {
   "cell_type": "code",
   "execution_count": 60,
   "id": "c6a666d9",
   "metadata": {
    "id": "c6a666d9"
   },
   "outputs": [
    {
     "data": {
      "text/html": [
       "<div>\n",
       "<style scoped>\n",
       "    .dataframe tbody tr th:only-of-type {\n",
       "        vertical-align: middle;\n",
       "    }\n",
       "\n",
       "    .dataframe tbody tr th {\n",
       "        vertical-align: top;\n",
       "    }\n",
       "\n",
       "    .dataframe thead th {\n",
       "        text-align: right;\n",
       "    }\n",
       "</style>\n",
       "<table border=\"1\" class=\"dataframe\">\n",
       "  <thead>\n",
       "    <tr style=\"text-align: right;\">\n",
       "      <th></th>\n",
       "      <th>district</th>\n",
       "      <th>seats</th>\n",
       "    </tr>\n",
       "  </thead>\n",
       "  <tbody>\n",
       "    <tr>\n",
       "      <th>0</th>\n",
       "      <td>Западный административный округ</td>\n",
       "      <td>150.015789</td>\n",
       "    </tr>\n",
       "    <tr>\n",
       "      <th>1</th>\n",
       "      <td>Центральный административный округ</td>\n",
       "      <td>122.182493</td>\n",
       "    </tr>\n",
       "    <tr>\n",
       "      <th>2</th>\n",
       "      <td>Северный административный округ</td>\n",
       "      <td>115.090909</td>\n",
       "    </tr>\n",
       "    <tr>\n",
       "      <th>3</th>\n",
       "      <td>Южный административный округ</td>\n",
       "      <td>107.544186</td>\n",
       "    </tr>\n",
       "    <tr>\n",
       "      <th>4</th>\n",
       "      <td>Северо-Западный административный округ</td>\n",
       "      <td>106.735849</td>\n",
       "    </tr>\n",
       "    <tr>\n",
       "      <th>5</th>\n",
       "      <td>Северо-Восточный административный округ</td>\n",
       "      <td>101.728723</td>\n",
       "    </tr>\n",
       "    <tr>\n",
       "      <th>6</th>\n",
       "      <td>Юго-Западный административный округ</td>\n",
       "      <td>83.405714</td>\n",
       "    </tr>\n",
       "    <tr>\n",
       "      <th>7</th>\n",
       "      <td>Восточный административный округ</td>\n",
       "      <td>83.013793</td>\n",
       "    </tr>\n",
       "    <tr>\n",
       "      <th>8</th>\n",
       "      <td>Юго-Восточный административный округ</td>\n",
       "      <td>81.713043</td>\n",
       "    </tr>\n",
       "  </tbody>\n",
       "</table>\n",
       "</div>"
      ],
      "text/plain": [
       "                                  district       seats\n",
       "0          Западный административный округ  150.015789\n",
       "1       Центральный административный округ  122.182493\n",
       "2          Северный административный округ  115.090909\n",
       "3             Южный административный округ  107.544186\n",
       "4   Северо-Западный административный округ  106.735849\n",
       "5  Северо-Восточный административный округ  101.728723\n",
       "6      Юго-Западный административный округ   83.405714\n",
       "7         Восточный административный округ   83.013793\n",
       "8     Юго-Восточный административный округ   81.713043"
      ]
     },
     "execution_count": 60,
     "metadata": {},
     "output_type": "execute_result"
    }
   ],
   "source": [
    "# Группируем по районам\n",
    "avg_seats_by_district = df_filt_seats_price.groupby('district')['seats'].mean().sort_values(ascending=False).reset_index()\n",
    "avg_seats_by_district"
   ]
  },
  {
   "cell_type": "code",
   "execution_count": 61,
   "id": "618096b5",
   "metadata": {
    "id": "618096b5"
   },
   "outputs": [
    {
     "data": {
      "image/png": "[encoded data removed]",
      "text/plain": [
       "<Figure size 1008x576 with 1 Axes>"
      ]
     },
     "metadata": {
      "needs_background": "light"
     },
     "output_type": "display_data"
    }
   ],
   "source": [
    "# Строим график\n",
    "plt.figure(figsize=(14, 8))\n",
    "sns.barplot(x='seats', y='district', data=avg_seats_by_district, palette='pastel')\n",
    "plt.title('Среднее количество посадочных мест по районам Москвы', fontsize=14)\n",
    "plt.xlabel('Среднее количество мест', fontsize=12)\n",
    "plt.ylabel('Район', fontsize=12)\n",
    "plt.grid(axis='x', linestyle='--', alpha=0.7)\n",
    "plt.show()"
   ]
  },
  {
   "cell_type": "markdown",
   "id": "7fd9f69e",
   "metadata": {},
   "source": [
    "ЗАО лидирует по количеству посадочных мест `(в сред. 150 мест)`. На втором месте находится ЦАО `(в сред. 122 места)`. На третьем месте САО `(в сред. 115 мест)`."
   ]
  },
  {
   "cell_type": "markdown",
   "id": "1d9310ee",
   "metadata": {},
   "source": [
    "<div class=\"alert alert-success\">\n",
    "<b>✔️ Комментарий ревьюера v1:</b> \n",
    "<br>Верный анализ👍\n",
    "</div>"
   ]
  },
  {
   "cell_type": "markdown",
   "id": "f2c54e9a",
   "metadata": {
    "id": "f2c54e9a"
   },
   "source": [
    "---\n",
    "\n",
    "### Промежуточный вывод\n",
    "\n",
    "Обобщите полученные результаты, выделив, по вашему мнению, самые важные."
   ]
  },
  {
   "cell_type": "markdown",
   "id": "10601440",
   "metadata": {
    "id": "c8869609"
   },
   "source": [
    "1. Средний чек по районам Москвы\n",
    "\n",
    "- Центральный административный округ (ЦАО) лидирует по среднему чеку. Это связано с высокой концентрацией заведений, таких как рестораны, кофейни и кафе.\n",
    "- В других округах средний чек ниже, что объясняется меньшей плотностью заведений и ориентацией на более доступные форматы (например, фастфуд, столовые).\n",
    "\n",
    "2. Количество посадочных мест по районам\n",
    "\n",
    "- ЗАО лидирует по количеству посадочных мест, ЦАО на втором месте. Мы можем сделать вывод о том, что количество посадочных мест положительно влияет на прибыль заведения."
   ]
  },
  {
   "cell_type": "markdown",
   "id": "480f3422",
   "metadata": {
    "id": "480f3422"
   },
   "source": [
    "## 4. Итоговый вывод и рекомендации\n",
    "\n",
    "По результатам проведённого исследовательского анализа данных сформулируйте итоговый вывод и рекомендации для заказчика. Старайтесь акцентировать внимание на ключевых моментах исследования.\n",
    "\n",
    "При составлении вывода придерживайтесь такой структуры:\n",
    "\n",
    "1. Общий обзор проделанной работы.\n",
    "2. Ответы на исследовательские вопросы, или главные выводы.\n",
    "3. Рекомендации на основе анализа данных."
   ]
  },
  {
   "cell_type": "code",
   "execution_count": 62,
   "id": "4975f9dc",
   "metadata": {},
   "outputs": [
    {
     "name": "stdout",
     "output_type": "stream",
     "text": [
      "<class 'pandas.core.frame.DataFrame'>\n",
      "Int64Index: 8402 entries, 0 to 8405\n",
      "Data columns (total 14 columns):\n",
      " #   Column             Non-Null Count  Dtype  \n",
      "---  ------             --------------  -----  \n",
      " 0   id                 8402 non-null   object \n",
      " 1   name               8402 non-null   object \n",
      " 2   category           8402 non-null   object \n",
      " 3   address            8402 non-null   object \n",
      " 4   district           8402 non-null   object \n",
      " 5   hours              8402 non-null   object \n",
      " 6   rating             8402 non-null   float32\n",
      " 7   chain              8402 non-null   int8   \n",
      " 8   seats              8402 non-null   int16  \n",
      " 9   price              8402 non-null   object \n",
      " 10  avg_bill           8402 non-null   object \n",
      " 11  middle_avg_bill    8402 non-null   float32\n",
      " 12  middle_coffee_cup  8402 non-null   float32\n",
      " 13  is_24_7            8402 non-null   bool   \n",
      "dtypes: bool(1), float32(3), int16(1), int8(1), object(8)\n",
      "memory usage: 722.0+ KB\n"
     ]
    }
   ],
   "source": [
    "df.info()"
   ]
  },
  {
   "cell_type": "markdown",
   "id": "c6a7a21b",
   "metadata": {},
   "source": [
    "Были загружены данные `rest_info.csv` и `rest_price.csv`, далее мы объединили их в один датасет `df`.\n",
    "\n",
    "`rest_info.csv` содержал 9 столбцов и 8406 строк, которые содержат информацио о заведениях общественного питания. \n",
    "\n",
    "`rest_price.csv` содержал 5 столбцов и 4058 строк, которые содержат информацию о среднем чеке в заведениях общественного питания.\n",
    "\n",
    "После объединения датасет `df` содержал 13 столбцов и 8406 строк. \n",
    "\n",
    "При первичном знакомстве с данными и их предобработкой получили такие результаты:\n",
    "\n",
    "- Во многих столбцах обнаружены пропуски. Доля пропусков достигала `93.64% (столбец middle_coffee_cup)`. Заменили пропуски на значение-индикатор `-1`.\n",
    "- Оптимизовали типы данных с понижением разрядности.\n",
    "- Поработали с явными и неявными дубликатами. Названия замедений и адреса привели к нижнему регистру. Также удалили явные дубликат, их было `4` штуки.\n",
    "- Создали столбец `is_24_7`, с обозначением того, что заведение работает ежедневно и круглосуточно, то есть 24/7.\n",
    "- Провели исследовательский анализ данных, который позволил ответить на поставленные вопросы и визуализировать ответы."
   ]
  },
  {
   "cell_type": "markdown",
   "id": "3f6ae7dd",
   "metadata": {},
   "source": [
    "#### Новое описание данных\n",
    "\n",
    "- `id` — идентификатор заведения;\n",
    "- `name` — название заведения;\n",
    "- `category` — категория заведения;\n",
    "- `address` — адрес заведения;\n",
    "- `district` — административный район, в котором находится заведение;\n",
    "- `hours` — график работы;\n",
    "- `rating` — рейтинг заведения;\n",
    "- `chain` — сетевое заведение или нет;\n",
    "- `seats` — количество посадочных мест;\n",
    "- `price` — категория цен в заведении;\n",
    "- `avg_bill` — средний чек;\n",
    "- `middle_avg_bill` — число с оценкой среднего чека, которое указано только для значений из столбца `avg_bill`;\n",
    "- `middle_coffee_cup` — число с оценкой одной чашки капучино, которое указано только для значений из столбца `avg_bill`;\n",
    "- `is_24_7` - столбец с обозначением того, что заведение работает ежедневно и круглосуточно."
   ]
  },
  {
   "cell_type": "markdown",
   "id": "c893fc82",
   "metadata": {},
   "source": [
    "#### Основные выводы.\n",
    "- ЦАО является лидером как по среднему чеку, также район занимает второе место по количеству посадочных мест. Это связано с высокой концентрацией премиальных и крупных заведений.\n",
    "\n",
    "- ЗАО лидирует по количеству посадочных мест, также у ЗАО и ЦАО одинаковый медианный чек.\n",
    "\n",
    "- Существует положительная связь между ценовым сегментом и рейтингом. Заведения с более высокими ценами имеют более высокие рейтинги.\n",
    "#### Для открытия нового заведения:\n",
    "\n",
    "- В ЦАО и ЗАО стоит ориентироваться на премиальные форматы с большим количеством посадочных мест.\n",
    "\n",
    "- В других районах лучше развивать более доступные и компактные форматы."
   ]
  },
  {
   "cell_type": "markdown",
   "id": "6c48220b",
   "metadata": {},
   "source": [
    "<div class=\"alert alert-danger\">\n",
    "<b>❌ Итоговый комментарий ревьюера v1:</b> \n",
    "<br>Необходимо поправить:\n",
    "<br>- добавить график со значениями среднего рейтинга для топ15 сетевых заведений\n",
    "\n",
    "<br>После всех внесённых правок не забудь поправить выводы там, где это необходимо\n",
    "</div>"
   ]
  },
  {
   "cell_type": "markdown",
   "id": "742e3445",
   "metadata": {},
   "source": [
    "<div class=\"alert alert-success\">\n",
    "<b>✔️ Итоговый комментарий ревьюера v2:</b>\n",
    "<br>Я рад был поработать над проверкой твоей работы) В качестве дополнительного материала для изучения могу порекомендовать следующие материалы:\n",
    "\n",
    "\tКнига \"Графики, которые убеждают всех\" | А. Богачев\n",
    "\n",
    "<br>Поздравляю со сдачей проекта и желаю удачи в дальнейшем обучении! 😉    \n",
    "</div>"
   ]
  }
 ],
 "metadata": {
  "ExecuteTimeLog": [
   {
    "duration": 1598,
    "start_time": "2025-02-19T12:21:53.824Z"
   },
   {
    "duration": 3726,
    "start_time": "2025-02-19T12:22:10.164Z"
   },
   {
    "duration": 75,
    "start_time": "2025-02-19T12:22:13.893Z"
   },
   {
    "duration": 2626,
    "start_time": "2025-02-19T12:23:21.819Z"
   },
   {
    "duration": 3,
    "start_time": "2025-02-19T12:23:25.417Z"
   },
   {
    "duration": 219,
    "start_time": "2025-02-19T12:26:05.273Z"
   },
   {
    "duration": 19,
    "start_time": "2025-02-19T12:27:22.193Z"
   },
   {
    "duration": 15,
    "start_time": "2025-02-19T12:27:32.525Z"
   },
   {
    "duration": 11,
    "start_time": "2025-02-19T13:14:31.892Z"
   },
   {
    "duration": 12,
    "start_time": "2025-02-19T13:14:39.878Z"
   },
   {
    "duration": 11,
    "start_time": "2025-02-19T13:37:27.117Z"
   },
   {
    "duration": 15,
    "start_time": "2025-02-19T13:37:42.574Z"
   },
   {
    "duration": 10,
    "start_time": "2025-02-19T13:38:17.075Z"
   },
   {
    "duration": 15,
    "start_time": "2025-02-19T13:38:17.884Z"
   },
   {
    "duration": 15,
    "start_time": "2025-02-19T13:50:10.686Z"
   },
   {
    "duration": 23868,
    "start_time": "2025-02-19T18:18:35.826Z"
   },
   {
    "duration": 1398,
    "start_time": "2025-02-19T18:18:59.696Z"
   },
   {
    "duration": 221,
    "start_time": "2025-02-19T18:19:01.096Z"
   },
   {
    "duration": 17,
    "start_time": "2025-02-19T18:19:01.319Z"
   },
   {
    "duration": 15,
    "start_time": "2025-02-19T18:19:01.337Z"
   },
   {
    "duration": 4,
    "start_time": "2025-02-19T18:19:03.895Z"
   },
   {
    "duration": 199,
    "start_time": "2025-02-19T18:19:05.076Z"
   },
   {
    "duration": 12,
    "start_time": "2025-02-19T18:19:06.586Z"
   },
   {
    "duration": 12,
    "start_time": "2025-02-19T18:19:07.250Z"
   },
   {
    "duration": 10,
    "start_time": "2025-02-19T18:19:08.136Z"
   },
   {
    "duration": 11,
    "start_time": "2025-02-19T18:19:08.541Z"
   },
   {
    "duration": 11,
    "start_time": "2025-02-19T18:19:10.275Z"
   },
   {
    "duration": 15,
    "start_time": "2025-02-19T18:19:10.829Z"
   },
   {
    "duration": 5,
    "start_time": "2025-02-19T18:19:11.823Z"
   },
   {
    "duration": 5,
    "start_time": "2025-02-19T18:19:12.229Z"
   },
   {
    "duration": 5,
    "start_time": "2025-02-19T18:20:42.511Z"
   },
   {
    "duration": 4,
    "start_time": "2025-02-19T18:20:42.916Z"
   },
   {
    "duration": 6,
    "start_time": "2025-02-19T18:20:43.396Z"
   },
   {
    "duration": 10,
    "start_time": "2025-02-19T18:44:21.255Z"
   },
   {
    "duration": 11,
    "start_time": "2025-02-19T18:45:04.162Z"
   },
   {
    "duration": 10,
    "start_time": "2025-02-19T18:45:25.722Z"
   },
   {
    "duration": 12,
    "start_time": "2025-02-19T20:11:08.636Z"
   },
   {
    "duration": 11,
    "start_time": "2025-02-19T20:24:39.954Z"
   },
   {
    "duration": 4,
    "start_time": "2025-02-19T20:24:40.618Z"
   },
   {
    "duration": 13,
    "start_time": "2025-02-19T20:25:23.545Z"
   },
   {
    "duration": 71,
    "start_time": "2025-02-19T20:26:38.413Z"
   },
   {
    "duration": 2,
    "start_time": "2025-02-19T20:28:12.207Z"
   },
   {
    "duration": 14,
    "start_time": "2025-02-19T20:28:14.399Z"
   },
   {
    "duration": 2351,
    "start_time": "2025-02-19T20:31:17.023Z"
   },
   {
    "duration": 1231,
    "start_time": "2025-02-19T20:31:19.386Z"
   },
   {
    "duration": 237,
    "start_time": "2025-02-19T20:31:20.619Z"
   },
   {
    "duration": 15,
    "start_time": "2025-02-19T20:31:21.971Z"
   },
   {
    "duration": 13,
    "start_time": "2025-02-19T20:31:22.599Z"
   },
   {
    "duration": 11,
    "start_time": "2025-02-19T20:31:25.591Z"
   },
   {
    "duration": 12,
    "start_time": "2025-02-19T20:31:26.180Z"
   },
   {
    "duration": 12,
    "start_time": "2025-02-19T20:31:27.731Z"
   },
   {
    "duration": 15,
    "start_time": "2025-02-19T20:31:28.100Z"
   },
   {
    "duration": 4,
    "start_time": "2025-02-19T20:31:28.950Z"
   },
   {
    "duration": 4,
    "start_time": "2025-02-19T20:31:29.356Z"
   },
   {
    "duration": 6,
    "start_time": "2025-02-19T20:31:30.943Z"
   },
   {
    "duration": 10,
    "start_time": "2025-02-19T20:31:36.846Z"
   },
   {
    "duration": 12,
    "start_time": "2025-02-19T20:31:38.249Z"
   },
   {
    "duration": 12,
    "start_time": "2025-02-19T20:31:45.739Z"
   },
   {
    "duration": 3,
    "start_time": "2025-02-19T20:31:46.403Z"
   },
   {
    "duration": 16,
    "start_time": "2025-02-19T20:31:47.474Z"
   },
   {
    "duration": 103,
    "start_time": "2025-02-19T20:36:11.954Z"
   },
   {
    "duration": 5,
    "start_time": "2025-02-19T20:36:32.824Z"
   },
   {
    "duration": 2408,
    "start_time": "2025-02-19T20:39:06.566Z"
   },
   {
    "duration": 1281,
    "start_time": "2025-02-19T20:39:08.976Z"
   },
   {
    "duration": 235,
    "start_time": "2025-02-19T20:39:10.259Z"
   },
   {
    "duration": 15,
    "start_time": "2025-02-19T20:39:10.496Z"
   },
   {
    "duration": 32,
    "start_time": "2025-02-19T20:39:10.512Z"
   },
   {
    "duration": 32,
    "start_time": "2025-02-19T20:39:10.546Z"
   },
   {
    "duration": 19,
    "start_time": "2025-02-19T20:39:10.579Z"
   },
   {
    "duration": 12,
    "start_time": "2025-02-19T20:39:12.258Z"
   },
   {
    "duration": 16,
    "start_time": "2025-02-19T20:39:17.353Z"
   },
   {
    "duration": 5,
    "start_time": "2025-02-19T20:39:21.144Z"
   },
   {
    "duration": 5,
    "start_time": "2025-02-19T20:39:21.512Z"
   },
   {
    "duration": 5,
    "start_time": "2025-02-19T20:39:21.920Z"
   },
   {
    "duration": 10,
    "start_time": "2025-02-19T20:39:29.062Z"
   },
   {
    "duration": 13,
    "start_time": "2025-02-19T20:39:29.690Z"
   },
   {
    "duration": 7,
    "start_time": "2025-02-19T20:39:33.078Z"
   },
   {
    "duration": 3,
    "start_time": "2025-02-19T20:39:35.140Z"
   },
   {
    "duration": 15,
    "start_time": "2025-02-19T20:39:35.656Z"
   },
   {
    "duration": 2392,
    "start_time": "2025-02-19T20:41:10.856Z"
   },
   {
    "duration": 1120,
    "start_time": "2025-02-19T20:41:13.251Z"
   },
   {
    "duration": 214,
    "start_time": "2025-02-19T20:41:14.374Z"
   },
   {
    "duration": 16,
    "start_time": "2025-02-19T20:41:14.590Z"
   },
   {
    "duration": 13,
    "start_time": "2025-02-19T20:41:14.608Z"
   },
   {
    "duration": 108,
    "start_time": "2025-02-19T20:41:14.623Z"
   },
   {
    "duration": 37,
    "start_time": "2025-02-19T20:41:14.732Z"
   },
   {
    "duration": 11,
    "start_time": "2025-02-19T20:41:14.771Z"
   },
   {
    "duration": 31,
    "start_time": "2025-02-19T20:41:14.784Z"
   },
   {
    "duration": 5,
    "start_time": "2025-02-19T20:41:14.817Z"
   },
   {
    "duration": 8,
    "start_time": "2025-02-19T20:41:14.823Z"
   },
   {
    "duration": 13,
    "start_time": "2025-02-19T20:41:14.833Z"
   },
   {
    "duration": 9,
    "start_time": "2025-02-19T20:41:15.732Z"
   },
   {
    "duration": 12,
    "start_time": "2025-02-19T20:41:16.360Z"
   },
   {
    "duration": 5,
    "start_time": "2025-02-19T20:41:17.616Z"
   },
   {
    "duration": 2,
    "start_time": "2025-02-19T20:41:18.099Z"
   },
   {
    "duration": 14,
    "start_time": "2025-02-19T20:41:19.020Z"
   },
   {
    "duration": 4,
    "start_time": "2025-02-19T20:41:44.931Z"
   },
   {
    "duration": 14,
    "start_time": "2025-02-19T20:41:45.669Z"
   },
   {
    "duration": 2430,
    "start_time": "2025-02-19T20:49:11.726Z"
   },
   {
    "duration": 1214,
    "start_time": "2025-02-19T20:49:14.158Z"
   },
   {
    "duration": 195,
    "start_time": "2025-02-19T20:49:15.374Z"
   },
   {
    "duration": 14,
    "start_time": "2025-02-19T20:49:15.571Z"
   },
   {
    "duration": 103,
    "start_time": "2025-02-19T20:49:15.586Z"
   },
   {
    "duration": 24,
    "start_time": "2025-02-19T20:49:15.691Z"
   },
   {
    "duration": 34,
    "start_time": "2025-02-19T20:49:15.716Z"
   },
   {
    "duration": 20,
    "start_time": "2025-02-19T20:49:15.751Z"
   },
   {
    "duration": 35,
    "start_time": "2025-02-19T20:49:15.774Z"
   },
   {
    "duration": 12,
    "start_time": "2025-02-19T20:49:17.197Z"
   },
   {
    "duration": 8,
    "start_time": "2025-02-19T20:49:17.417Z"
   },
   {
    "duration": 6,
    "start_time": "2025-02-19T20:49:17.785Z"
   },
   {
    "duration": 10,
    "start_time": "2025-02-19T20:49:19.745Z"
   },
   {
    "duration": 11,
    "start_time": "2025-02-19T20:49:20.041Z"
   },
   {
    "duration": 6,
    "start_time": "2025-02-19T20:49:23.368Z"
   },
   {
    "duration": 7,
    "start_time": "2025-02-19T20:49:24.814Z"
   },
   {
    "duration": 3,
    "start_time": "2025-02-19T20:49:25.144Z"
   },
   {
    "duration": 14,
    "start_time": "2025-02-19T20:49:26.029Z"
   },
   {
    "duration": 9,
    "start_time": "2025-02-19T20:51:15.619Z"
   },
   {
    "duration": 2,
    "start_time": "2025-02-19T20:51:16.049Z"
   },
   {
    "duration": 2,
    "start_time": "2025-02-19T20:51:16.307Z"
   },
   {
    "duration": 15,
    "start_time": "2025-02-19T20:51:16.825Z"
   },
   {
    "duration": 7,
    "start_time": "2025-02-19T20:54:39.112Z"
   },
   {
    "duration": 16,
    "start_time": "2025-02-19T20:54:42.761Z"
   },
   {
    "duration": 6,
    "start_time": "2025-02-19T20:55:47.997Z"
   },
   {
    "duration": 6,
    "start_time": "2025-02-19T20:55:48.478Z"
   },
   {
    "duration": 16,
    "start_time": "2025-02-19T20:55:49.104Z"
   },
   {
    "duration": 5,
    "start_time": "2025-02-19T20:57:44.495Z"
   },
   {
    "duration": 6,
    "start_time": "2025-02-19T20:57:44.754Z"
   },
   {
    "duration": 14,
    "start_time": "2025-02-19T20:57:45.416Z"
   },
   {
    "duration": 53,
    "start_time": "2025-02-22T14:03:23.363Z"
   },
   {
    "duration": 5388,
    "start_time": "2025-02-22T14:03:34.276Z"
   },
   {
    "duration": 1527,
    "start_time": "2025-02-22T14:03:39.667Z"
   },
   {
    "duration": 165,
    "start_time": "2025-02-22T14:03:41.196Z"
   },
   {
    "duration": 16,
    "start_time": "2025-02-22T14:03:41.364Z"
   },
   {
    "duration": 14,
    "start_time": "2025-02-22T14:03:41.382Z"
   },
   {
    "duration": 20,
    "start_time": "2025-02-22T14:03:41.398Z"
   },
   {
    "duration": 12,
    "start_time": "2025-02-22T14:03:41.420Z"
   },
   {
    "duration": 12,
    "start_time": "2025-02-22T14:03:41.434Z"
   },
   {
    "duration": 38,
    "start_time": "2025-02-22T14:03:41.448Z"
   },
   {
    "duration": 10,
    "start_time": "2025-02-22T14:03:41.488Z"
   },
   {
    "duration": 13,
    "start_time": "2025-02-22T14:03:41.500Z"
   },
   {
    "duration": 11,
    "start_time": "2025-02-22T14:03:41.515Z"
   },
   {
    "duration": 45,
    "start_time": "2025-02-22T14:03:41.528Z"
   },
   {
    "duration": 12,
    "start_time": "2025-02-22T14:03:41.575Z"
   },
   {
    "duration": 15,
    "start_time": "2025-02-22T14:03:41.589Z"
   },
   {
    "duration": 7,
    "start_time": "2025-02-22T14:03:42.626Z"
   },
   {
    "duration": 7,
    "start_time": "2025-02-22T14:06:51.718Z"
   },
   {
    "duration": 6,
    "start_time": "2025-02-22T14:16:04.122Z"
   },
   {
    "duration": 7,
    "start_time": "2025-02-22T14:18:46.641Z"
   },
   {
    "duration": 5,
    "start_time": "2025-02-22T14:19:35.059Z"
   },
   {
    "duration": 5,
    "start_time": "2025-02-22T14:20:22.242Z"
   },
   {
    "duration": 15,
    "start_time": "2025-02-22T14:25:40.238Z"
   },
   {
    "duration": 5,
    "start_time": "2025-02-22T15:26:02.773Z"
   },
   {
    "duration": 18,
    "start_time": "2025-02-22T15:27:32.762Z"
   },
   {
    "duration": 19,
    "start_time": "2025-02-22T15:27:56.830Z"
   },
   {
    "duration": 32,
    "start_time": "2025-02-22T15:28:40.096Z"
   },
   {
    "duration": 8,
    "start_time": "2025-02-22T16:09:07.151Z"
   },
   {
    "duration": 26,
    "start_time": "2025-02-22T16:09:15.273Z"
   },
   {
    "duration": 22,
    "start_time": "2025-02-22T16:10:18.468Z"
   },
   {
    "duration": 3,
    "start_time": "2025-02-22T16:18:42.214Z"
   },
   {
    "duration": 2785,
    "start_time": "2025-02-22T16:19:47.188Z"
   },
   {
    "duration": 3,
    "start_time": "2025-02-22T16:19:49.976Z"
   },
   {
    "duration": 221,
    "start_time": "2025-02-22T16:19:49.981Z"
   },
   {
    "duration": 14,
    "start_time": "2025-02-22T16:19:50.205Z"
   },
   {
    "duration": 18,
    "start_time": "2025-02-22T16:19:50.222Z"
   },
   {
    "duration": 11,
    "start_time": "2025-02-22T16:19:50.242Z"
   },
   {
    "duration": 30,
    "start_time": "2025-02-22T16:19:50.255Z"
   },
   {
    "duration": 13,
    "start_time": "2025-02-22T16:19:50.288Z"
   },
   {
    "duration": 16,
    "start_time": "2025-02-22T16:19:50.303Z"
   },
   {
    "duration": 11,
    "start_time": "2025-02-22T16:19:50.805Z"
   },
   {
    "duration": 12,
    "start_time": "2025-02-22T16:19:50.989Z"
   },
   {
    "duration": 11,
    "start_time": "2025-02-22T16:19:51.357Z"
   },
   {
    "duration": 8,
    "start_time": "2025-02-22T16:19:51.727Z"
   },
   {
    "duration": 8,
    "start_time": "2025-02-22T16:19:51.949Z"
   },
   {
    "duration": 17,
    "start_time": "2025-02-22T16:19:52.133Z"
   },
   {
    "duration": 8,
    "start_time": "2025-02-22T16:19:53.056Z"
   },
   {
    "duration": 6,
    "start_time": "2025-02-22T16:19:53.610Z"
   },
   {
    "duration": 7,
    "start_time": "2025-02-22T16:19:53.869Z"
   },
   {
    "duration": 6,
    "start_time": "2025-02-22T16:19:54.422Z"
   },
   {
    "duration": 5,
    "start_time": "2025-02-22T16:19:54.680Z"
   },
   {
    "duration": 6,
    "start_time": "2025-02-22T16:19:54.976Z"
   },
   {
    "duration": 17,
    "start_time": "2025-02-22T16:19:55.566Z"
   },
   {
    "duration": 80,
    "start_time": "2025-02-22T16:19:56.489Z"
   },
   {
    "duration": 5,
    "start_time": "2025-02-22T16:20:17.845Z"
   },
   {
    "duration": 14,
    "start_time": "2025-02-22T16:21:52.814Z"
   },
   {
    "duration": 12,
    "start_time": "2025-02-22T16:22:28.963Z"
   },
   {
    "duration": 11,
    "start_time": "2025-02-22T16:24:01.261Z"
   },
   {
    "duration": 10,
    "start_time": "2025-02-22T16:24:16.544Z"
   },
   {
    "duration": 12,
    "start_time": "2025-02-22T16:25:45.046Z"
   },
   {
    "duration": 4,
    "start_time": "2025-02-22T16:27:39.185Z"
   },
   {
    "duration": 6,
    "start_time": "2025-02-22T16:38:31.718Z"
   },
   {
    "duration": 11,
    "start_time": "2025-02-22T16:38:35.959Z"
   },
   {
    "duration": 6,
    "start_time": "2025-02-22T16:38:43.724Z"
   },
   {
    "duration": 400,
    "start_time": "2025-02-22T16:38:49.389Z"
   },
   {
    "duration": 285,
    "start_time": "2025-02-22T16:39:25.166Z"
   },
   {
    "duration": 7,
    "start_time": "2025-02-22T16:40:12.292Z"
   },
   {
    "duration": 11,
    "start_time": "2025-02-22T16:40:17.877Z"
   },
   {
    "duration": 6,
    "start_time": "2025-02-22T16:40:46.064Z"
   },
   {
    "duration": 275,
    "start_time": "2025-02-22T16:40:46.577Z"
   },
   {
    "duration": 4,
    "start_time": "2025-02-22T17:04:22.494Z"
   },
   {
    "duration": 5,
    "start_time": "2025-02-22T17:04:27.371Z"
   },
   {
    "duration": 15,
    "start_time": "2025-02-22T17:05:54.807Z"
   },
   {
    "duration": 6,
    "start_time": "2025-02-22T17:06:04.387Z"
   },
   {
    "duration": 255,
    "start_time": "2025-02-22T17:06:04.574Z"
   },
   {
    "duration": 261,
    "start_time": "2025-02-22T17:08:04.689Z"
   },
   {
    "duration": 123,
    "start_time": "2025-02-22T17:08:29.152Z"
   },
   {
    "duration": 390,
    "start_time": "2025-02-22T17:08:32.312Z"
   },
   {
    "duration": 13,
    "start_time": "2025-02-22T17:15:20.205Z"
   },
   {
    "duration": 189,
    "start_time": "2025-02-22T17:15:20.760Z"
   },
   {
    "duration": 182,
    "start_time": "2025-02-22T17:15:40.057Z"
   },
   {
    "duration": 158,
    "start_time": "2025-02-22T17:18:09.546Z"
   },
   {
    "duration": 156,
    "start_time": "2025-02-22T17:18:21.584Z"
   },
   {
    "duration": 179,
    "start_time": "2025-02-22T17:19:33.641Z"
   },
   {
    "duration": 7,
    "start_time": "2025-02-22T17:23:34.830Z"
   },
   {
    "duration": 95,
    "start_time": "2025-02-22T17:23:35.060Z"
   },
   {
    "duration": 93,
    "start_time": "2025-02-22T17:27:18.566Z"
   },
   {
    "duration": 95,
    "start_time": "2025-02-22T17:27:45.869Z"
   },
   {
    "duration": 96,
    "start_time": "2025-02-22T17:28:03.559Z"
   },
   {
    "duration": 97,
    "start_time": "2025-02-22T17:28:22.733Z"
   },
   {
    "duration": 93,
    "start_time": "2025-02-22T17:29:56.535Z"
   },
   {
    "duration": 94,
    "start_time": "2025-02-22T17:31:03.635Z"
   },
   {
    "duration": 190,
    "start_time": "2025-02-22T17:31:31.644Z"
   },
   {
    "duration": 91,
    "start_time": "2025-02-22T17:31:49.745Z"
   },
   {
    "duration": 5,
    "start_time": "2025-02-22T17:32:55.943Z"
   },
   {
    "duration": 4,
    "start_time": "2025-02-22T17:33:04.862Z"
   },
   {
    "duration": 200,
    "start_time": "2025-02-22T17:33:16.331Z"
   },
   {
    "duration": 204,
    "start_time": "2025-02-22T17:33:23.671Z"
   },
   {
    "duration": 205,
    "start_time": "2025-02-22T17:34:08.228Z"
   },
   {
    "duration": 202,
    "start_time": "2025-02-22T17:37:57.247Z"
   },
   {
    "duration": 196,
    "start_time": "2025-02-22T17:38:05.060Z"
   },
   {
    "duration": 200,
    "start_time": "2025-02-22T17:38:14.577Z"
   },
   {
    "duration": 61,
    "start_time": "2025-02-22T17:40:05.251Z"
   },
   {
    "duration": 51,
    "start_time": "2025-02-23T10:55:02.615Z"
   },
   {
    "duration": 3814,
    "start_time": "2025-02-23T10:55:17.591Z"
   },
   {
    "duration": 1578,
    "start_time": "2025-02-23T10:55:21.408Z"
   },
   {
    "duration": 224,
    "start_time": "2025-02-23T10:55:22.989Z"
   },
   {
    "duration": 15,
    "start_time": "2025-02-23T10:55:23.216Z"
   },
   {
    "duration": 14,
    "start_time": "2025-02-23T10:55:23.233Z"
   },
   {
    "duration": 10,
    "start_time": "2025-02-23T10:55:23.248Z"
   },
   {
    "duration": 11,
    "start_time": "2025-02-23T10:55:23.259Z"
   },
   {
    "duration": 27,
    "start_time": "2025-02-23T10:55:23.271Z"
   },
   {
    "duration": 15,
    "start_time": "2025-02-23T10:55:23.300Z"
   },
   {
    "duration": 9,
    "start_time": "2025-02-23T10:55:23.317Z"
   },
   {
    "duration": 15,
    "start_time": "2025-02-23T10:55:23.328Z"
   },
   {
    "duration": 18,
    "start_time": "2025-02-23T10:55:23.344Z"
   },
   {
    "duration": 8,
    "start_time": "2025-02-23T10:55:23.387Z"
   },
   {
    "duration": 7,
    "start_time": "2025-02-23T10:55:23.397Z"
   },
   {
    "duration": 14,
    "start_time": "2025-02-23T10:55:23.405Z"
   },
   {
    "duration": 17,
    "start_time": "2025-02-23T10:55:23.421Z"
   },
   {
    "duration": 5,
    "start_time": "2025-02-23T10:55:23.861Z"
   },
   {
    "duration": 6,
    "start_time": "2025-02-23T10:55:24.046Z"
   },
   {
    "duration": 4,
    "start_time": "2025-02-23T10:55:24.231Z"
   },
   {
    "duration": 5,
    "start_time": "2025-02-23T10:55:24.452Z"
   },
   {
    "duration": 5,
    "start_time": "2025-02-23T10:55:24.637Z"
   },
   {
    "duration": 14,
    "start_time": "2025-02-23T10:55:25.228Z"
   },
   {
    "duration": 4,
    "start_time": "2025-02-23T10:55:25.634Z"
   },
   {
    "duration": 12,
    "start_time": "2025-02-23T10:55:25.820Z"
   },
   {
    "duration": 11,
    "start_time": "2025-02-23T10:55:26.040Z"
   },
   {
    "duration": 4,
    "start_time": "2025-02-23T10:55:26.261Z"
   },
   {
    "duration": 31,
    "start_time": "2025-02-23T10:55:26.707Z"
   },
   {
    "duration": 23,
    "start_time": "2025-02-23T10:55:27.111Z"
   },
   {
    "duration": 7,
    "start_time": "2025-02-23T10:55:28.992Z"
   },
   {
    "duration": 388,
    "start_time": "2025-02-23T10:55:29.697Z"
   },
   {
    "duration": 6,
    "start_time": "2025-02-23T10:55:31.467Z"
   },
   {
    "duration": 265,
    "start_time": "2025-02-23T10:55:31.764Z"
   },
   {
    "duration": 12,
    "start_time": "2025-02-23T10:55:32.647Z"
   },
   {
    "duration": 200,
    "start_time": "2025-02-23T10:55:33.135Z"
   },
   {
    "duration": 6,
    "start_time": "2025-02-23T10:55:35.268Z"
   },
   {
    "duration": 104,
    "start_time": "2025-02-23T10:55:36.303Z"
   },
   {
    "duration": 216,
    "start_time": "2025-02-23T10:55:36.928Z"
   },
   {
    "duration": 13,
    "start_time": "2025-02-23T10:55:38.810Z"
   },
   {
    "duration": 5,
    "start_time": "2025-02-23T11:03:17.766Z"
   },
   {
    "duration": 24,
    "start_time": "2025-02-23T11:03:23.906Z"
   },
   {
    "duration": 9,
    "start_time": "2025-02-23T11:03:47.050Z"
   },
   {
    "duration": 129,
    "start_time": "2025-02-23T11:07:39.639Z"
   },
   {
    "duration": 213,
    "start_time": "2025-02-23T11:08:17.394Z"
   },
   {
    "duration": 9,
    "start_time": "2025-02-23T11:10:12.464Z"
   },
   {
    "duration": 8,
    "start_time": "2025-02-23T11:11:59.110Z"
   },
   {
    "duration": 9,
    "start_time": "2025-02-23T11:12:14.261Z"
   },
   {
    "duration": 8,
    "start_time": "2025-02-23T11:12:25.226Z"
   },
   {
    "duration": 11,
    "start_time": "2025-02-23T11:12:47.384Z"
   },
   {
    "duration": 58,
    "start_time": "2025-02-23T11:12:53.706Z"
   },
   {
    "duration": 64,
    "start_time": "2025-02-23T11:13:19.262Z"
   },
   {
    "duration": 7,
    "start_time": "2025-02-23T11:13:31.701Z"
   },
   {
    "duration": 7,
    "start_time": "2025-02-23T11:13:53.613Z"
   },
   {
    "duration": 8,
    "start_time": "2025-02-23T11:13:58.812Z"
   },
   {
    "duration": 11,
    "start_time": "2025-02-23T11:18:19.568Z"
   },
   {
    "duration": 10,
    "start_time": "2025-02-23T11:19:45.450Z"
   },
   {
    "duration": 219,
    "start_time": "2025-02-23T11:21:12.598Z"
   },
   {
    "duration": 222,
    "start_time": "2025-02-23T11:25:41.438Z"
   },
   {
    "duration": 6,
    "start_time": "2025-02-23T11:26:02.729Z"
   },
   {
    "duration": 6,
    "start_time": "2025-02-23T11:26:18.906Z"
   },
   {
    "duration": 218,
    "start_time": "2025-02-23T12:52:33.528Z"
   },
   {
    "duration": 200,
    "start_time": "2025-02-23T12:52:42.058Z"
   },
   {
    "duration": 1082,
    "start_time": "2025-02-23T13:25:39.597Z"
   },
   {
    "duration": 64,
    "start_time": "2025-02-23T13:25:49.370Z"
   },
   {
    "duration": 38,
    "start_time": "2025-02-23T13:26:14.229Z"
   },
   {
    "duration": 9,
    "start_time": "2025-02-23T13:30:27.296Z"
   },
   {
    "duration": 181,
    "start_time": "2025-02-23T13:30:43.866Z"
   },
   {
    "duration": 178,
    "start_time": "2025-02-23T13:32:11.735Z"
   },
   {
    "duration": 52,
    "start_time": "2025-02-23T13:32:39.602Z"
   },
   {
    "duration": 41,
    "start_time": "2025-02-23T13:33:11.986Z"
   },
   {
    "duration": 138,
    "start_time": "2025-02-23T13:33:13.613Z"
   },
   {
    "duration": 150,
    "start_time": "2025-02-23T13:33:22.568Z"
   },
   {
    "duration": 6,
    "start_time": "2025-02-23T13:34:49.614Z"
   },
   {
    "duration": 27,
    "start_time": "2025-02-23T13:34:51.335Z"
   },
   {
    "duration": 40,
    "start_time": "2025-02-23T13:35:09.337Z"
   },
   {
    "duration": 138,
    "start_time": "2025-02-23T13:35:10.036Z"
   },
   {
    "duration": 174,
    "start_time": "2025-02-23T13:35:12.655Z"
   },
   {
    "duration": 141,
    "start_time": "2025-02-23T13:35:13.136Z"
   },
   {
    "duration": 198,
    "start_time": "2025-02-23T13:39:06.010Z"
   },
   {
    "duration": 2,
    "start_time": "2025-02-23T13:39:37.063Z"
   },
   {
    "duration": 3,
    "start_time": "2025-02-23T13:39:47.517Z"
   },
   {
    "duration": 131,
    "start_time": "2025-02-23T13:39:58.482Z"
   },
   {
    "duration": 5,
    "start_time": "2025-02-23T13:40:21.257Z"
   },
   {
    "duration": 3,
    "start_time": "2025-02-23T13:40:25.648Z"
   },
   {
    "duration": 160,
    "start_time": "2025-02-23T13:40:26.240Z"
   },
   {
    "duration": 7,
    "start_time": "2025-02-23T13:41:12.476Z"
   },
   {
    "duration": 3,
    "start_time": "2025-02-23T13:41:13.547Z"
   },
   {
    "duration": 166,
    "start_time": "2025-02-23T13:41:13.884Z"
   },
   {
    "duration": 348,
    "start_time": "2025-02-23T13:42:16.886Z"
   },
   {
    "duration": 310,
    "start_time": "2025-02-23T13:43:14.724Z"
   },
   {
    "duration": 341,
    "start_time": "2025-02-23T13:43:29.763Z"
   },
   {
    "duration": 580,
    "start_time": "2025-02-23T13:44:49.713Z"
   },
   {
    "duration": 289,
    "start_time": "2025-02-23T13:46:09.650Z"
   },
   {
    "duration": 672,
    "start_time": "2025-02-23T13:46:16.905Z"
   },
   {
    "duration": 27,
    "start_time": "2025-02-23T13:46:36.015Z"
   },
   {
    "duration": 629,
    "start_time": "2025-02-23T13:46:42.551Z"
   },
   {
    "duration": 624,
    "start_time": "2025-02-23T13:47:07.164Z"
   },
   {
    "duration": 139,
    "start_time": "2025-02-23T13:59:33.191Z"
   },
   {
    "duration": 60,
    "start_time": "2025-02-23T14:00:04.237Z"
   },
   {
    "duration": 200,
    "start_time": "2025-02-23T14:00:59.671Z"
   },
   {
    "duration": 284,
    "start_time": "2025-02-23T14:01:26.255Z"
   },
   {
    "duration": 223,
    "start_time": "2025-02-23T14:01:31.745Z"
   },
   {
    "duration": 8,
    "start_time": "2025-02-23T14:03:54.892Z"
   },
   {
    "duration": 5,
    "start_time": "2025-02-23T14:04:04.828Z"
   },
   {
    "duration": 6,
    "start_time": "2025-02-23T14:04:52.036Z"
   },
   {
    "duration": 177,
    "start_time": "2025-02-23T14:04:52.519Z"
   },
   {
    "duration": 633,
    "start_time": "2025-02-23T14:04:52.996Z"
   },
   {
    "duration": 237,
    "start_time": "2025-02-23T14:04:54.885Z"
   },
   {
    "duration": 5,
    "start_time": "2025-02-23T14:04:59.135Z"
   },
   {
    "duration": 7,
    "start_time": "2025-02-23T14:07:28.523Z"
   },
   {
    "duration": 5,
    "start_time": "2025-02-23T14:08:23.001Z"
   },
   {
    "duration": 997,
    "start_time": "2025-02-23T14:09:39.692Z"
   },
   {
    "duration": 10,
    "start_time": "2025-02-23T14:11:22.696Z"
   },
   {
    "duration": 52,
    "start_time": "2025-02-23T14:11:31.920Z"
   },
   {
    "duration": 232,
    "start_time": "2025-02-23T14:11:35.993Z"
   },
   {
    "duration": 5,
    "start_time": "2025-02-23T14:11:40.459Z"
   },
   {
    "duration": 11,
    "start_time": "2025-02-23T14:13:54.816Z"
   },
   {
    "duration": 9,
    "start_time": "2025-02-23T14:14:43.348Z"
   },
   {
    "duration": 5,
    "start_time": "2025-02-23T14:14:48.126Z"
   },
   {
    "duration": 218,
    "start_time": "2025-02-23T14:14:51.912Z"
   },
   {
    "duration": 8,
    "start_time": "2025-02-23T14:16:13.324Z"
   },
   {
    "duration": 2675,
    "start_time": "2025-02-23T14:16:46.928Z"
   },
   {
    "duration": 1305,
    "start_time": "2025-02-23T14:16:49.606Z"
   },
   {
    "duration": 201,
    "start_time": "2025-02-23T14:16:50.913Z"
   },
   {
    "duration": 17,
    "start_time": "2025-02-23T14:16:51.116Z"
   },
   {
    "duration": 43,
    "start_time": "2025-02-23T14:16:51.135Z"
   },
   {
    "duration": 13,
    "start_time": "2025-02-23T14:16:51.180Z"
   },
   {
    "duration": 30,
    "start_time": "2025-02-23T14:16:51.194Z"
   },
   {
    "duration": 20,
    "start_time": "2025-02-23T14:16:52.473Z"
   },
   {
    "duration": 22,
    "start_time": "2025-02-23T14:16:52.767Z"
   },
   {
    "duration": 16,
    "start_time": "2025-02-23T14:16:55.649Z"
   },
   {
    "duration": 19,
    "start_time": "2025-02-23T14:16:58.013Z"
   },
   {
    "duration": 15,
    "start_time": "2025-02-23T14:16:58.680Z"
   },
   {
    "duration": 7,
    "start_time": "2025-02-23T14:16:59.049Z"
   },
   {
    "duration": 8,
    "start_time": "2025-02-23T14:16:59.233Z"
   },
   {
    "duration": 15,
    "start_time": "2025-02-23T14:16:59.414Z"
   },
   {
    "duration": 6,
    "start_time": "2025-02-23T14:17:00.117Z"
   },
   {
    "duration": 8,
    "start_time": "2025-02-23T14:17:00.491Z"
   },
   {
    "duration": 14,
    "start_time": "2025-02-23T14:17:00.673Z"
   },
   {
    "duration": 6,
    "start_time": "2025-02-23T14:17:00.856Z"
   },
   {
    "duration": 5,
    "start_time": "2025-02-23T14:17:01.006Z"
   },
   {
    "duration": 6,
    "start_time": "2025-02-23T14:17:01.193Z"
   },
   {
    "duration": 15,
    "start_time": "2025-02-23T14:17:01.521Z"
   },
   {
    "duration": 4,
    "start_time": "2025-02-23T14:17:01.854Z"
   },
   {
    "duration": 12,
    "start_time": "2025-02-23T14:17:02.039Z"
   },
   {
    "duration": 13,
    "start_time": "2025-02-23T14:17:02.188Z"
   },
   {
    "duration": 6,
    "start_time": "2025-02-23T14:17:02.372Z"
   },
   {
    "duration": 29,
    "start_time": "2025-02-23T14:17:02.740Z"
   },
   {
    "duration": 28,
    "start_time": "2025-02-23T14:17:02.926Z"
   },
   {
    "duration": 6,
    "start_time": "2025-02-23T14:17:03.812Z"
   },
   {
    "duration": 322,
    "start_time": "2025-02-23T14:17:03.997Z"
   },
   {
    "duration": 7,
    "start_time": "2025-02-23T14:17:04.551Z"
   },
   {
    "duration": 260,
    "start_time": "2025-02-23T14:17:04.888Z"
   },
   {
    "duration": 12,
    "start_time": "2025-02-23T14:17:05.327Z"
   },
   {
    "duration": 207,
    "start_time": "2025-02-23T14:17:05.511Z"
   },
   {
    "duration": 9,
    "start_time": "2025-02-23T14:17:06.179Z"
   },
   {
    "duration": 147,
    "start_time": "2025-02-23T14:17:06.436Z"
   },
   {
    "duration": 263,
    "start_time": "2025-02-23T14:17:06.768Z"
   },
   {
    "duration": 7,
    "start_time": "2025-02-23T14:17:09.650Z"
   },
   {
    "duration": 11,
    "start_time": "2025-02-23T14:17:09.798Z"
   },
   {
    "duration": 145,
    "start_time": "2025-02-23T14:17:10.180Z"
   },
   {
    "duration": 9,
    "start_time": "2025-02-23T14:17:10.395Z"
   },
   {
    "duration": 226,
    "start_time": "2025-02-23T14:17:10.796Z"
   },
   {
    "duration": 7,
    "start_time": "2025-02-23T14:17:11.024Z"
   },
   {
    "duration": 303,
    "start_time": "2025-02-23T14:17:11.829Z"
   },
   {
    "duration": 8,
    "start_time": "2025-02-23T14:17:12.937Z"
   },
   {
    "duration": 153,
    "start_time": "2025-02-23T14:17:25.582Z"
   },
   {
    "duration": 649,
    "start_time": "2025-02-23T14:17:27.207Z"
   },
   {
    "duration": 236,
    "start_time": "2025-02-23T14:19:52.309Z"
   },
   {
    "duration": 701,
    "start_time": "2025-02-23T14:19:52.944Z"
   },
   {
    "duration": 222,
    "start_time": "2025-02-23T14:21:12.031Z"
   },
   {
    "duration": 264,
    "start_time": "2025-02-23T14:21:51.028Z"
   },
   {
    "duration": 248,
    "start_time": "2025-02-23T14:22:00.916Z"
   },
   {
    "duration": 3,
    "start_time": "2025-02-23T14:27:42.093Z"
   },
   {
    "duration": 7,
    "start_time": "2025-02-23T14:28:54.127Z"
   },
   {
    "duration": 217,
    "start_time": "2025-02-23T14:29:05.011Z"
   },
   {
    "duration": 233,
    "start_time": "2025-02-23T14:33:10.305Z"
   },
   {
    "duration": 216,
    "start_time": "2025-02-23T14:33:34.438Z"
   },
   {
    "duration": 5,
    "start_time": "2025-02-23T14:49:21.908Z"
   },
   {
    "duration": 3,
    "start_time": "2025-02-23T14:49:29.108Z"
   },
   {
    "duration": 9,
    "start_time": "2025-02-23T14:49:34.764Z"
   },
   {
    "duration": 121,
    "start_time": "2025-02-23T14:53:29.043Z"
   },
   {
    "duration": 15,
    "start_time": "2025-02-23T14:54:33.772Z"
   },
   {
    "duration": 12,
    "start_time": "2025-02-23T14:54:44.248Z"
   },
   {
    "duration": 13,
    "start_time": "2025-02-23T14:56:07.622Z"
   },
   {
    "duration": 14,
    "start_time": "2025-02-23T14:56:16.446Z"
   },
   {
    "duration": 12,
    "start_time": "2025-02-23T14:56:31.838Z"
   },
   {
    "duration": 63,
    "start_time": "2025-02-23T15:03:46.128Z"
   },
   {
    "duration": 21,
    "start_time": "2025-02-23T15:03:51.148Z"
   },
   {
    "duration": 22,
    "start_time": "2025-02-23T15:04:37.341Z"
   },
   {
    "duration": 142,
    "start_time": "2025-02-23T15:06:53.057Z"
   },
   {
    "duration": 55,
    "start_time": "2025-02-23T15:12:09.305Z"
   },
   {
    "duration": 30,
    "start_time": "2025-02-23T15:12:15.813Z"
   },
   {
    "duration": 30,
    "start_time": "2025-02-23T15:12:45.538Z"
   },
   {
    "duration": 28,
    "start_time": "2025-02-23T15:12:59.511Z"
   },
   {
    "duration": 31,
    "start_time": "2025-02-23T15:13:39.967Z"
   },
   {
    "duration": 42,
    "start_time": "2025-02-23T15:13:47.993Z"
   },
   {
    "duration": 25,
    "start_time": "2025-02-23T15:14:00.687Z"
   },
   {
    "duration": 34,
    "start_time": "2025-02-23T15:14:42.833Z"
   },
   {
    "duration": 28,
    "start_time": "2025-02-23T15:15:03.930Z"
   },
   {
    "duration": 29,
    "start_time": "2025-02-23T15:15:29.167Z"
   },
   {
    "duration": 32,
    "start_time": "2025-02-23T15:15:41.059Z"
   },
   {
    "duration": 33,
    "start_time": "2025-02-23T15:16:24.691Z"
   },
   {
    "duration": 26,
    "start_time": "2025-02-23T15:16:36.410Z"
   },
   {
    "duration": 318,
    "start_time": "2025-02-23T15:23:38.484Z"
   },
   {
    "duration": 296,
    "start_time": "2025-02-23T15:24:18.235Z"
   },
   {
    "duration": 25,
    "start_time": "2025-02-23T15:24:21.061Z"
   },
   {
    "duration": 330,
    "start_time": "2025-02-23T15:24:46.840Z"
   },
   {
    "duration": 326,
    "start_time": "2025-02-23T15:24:52.048Z"
   },
   {
    "duration": 253,
    "start_time": "2025-02-23T15:25:18.258Z"
   },
   {
    "duration": 257,
    "start_time": "2025-02-23T15:25:36.050Z"
   },
   {
    "duration": 269,
    "start_time": "2025-02-23T15:25:47.213Z"
   },
   {
    "duration": 284,
    "start_time": "2025-02-23T15:25:57.821Z"
   },
   {
    "duration": 161,
    "start_time": "2025-02-23T15:27:04.619Z"
   },
   {
    "duration": 1113,
    "start_time": "2025-02-23T15:27:46.505Z"
   },
   {
    "duration": 277,
    "start_time": "2025-02-23T15:28:05.770Z"
   },
   {
    "duration": 1156,
    "start_time": "2025-02-23T15:28:09.529Z"
   },
   {
    "duration": 156,
    "start_time": "2025-02-23T15:28:13.256Z"
   },
   {
    "duration": 3,
    "start_time": "2025-02-23T15:29:53.337Z"
   },
   {
    "duration": 13,
    "start_time": "2025-02-23T15:32:26.144Z"
   },
   {
    "duration": 3,
    "start_time": "2025-02-23T15:32:34.042Z"
   },
   {
    "duration": 10,
    "start_time": "2025-02-23T15:32:40.582Z"
   },
   {
    "duration": 6,
    "start_time": "2025-02-23T15:33:26.097Z"
   },
   {
    "duration": 11,
    "start_time": "2025-02-23T15:37:27.098Z"
   },
   {
    "duration": 247,
    "start_time": "2025-02-23T15:40:35.761Z"
   },
   {
    "duration": 239,
    "start_time": "2025-02-23T15:40:43.920Z"
   },
   {
    "duration": 8,
    "start_time": "2025-02-23T15:53:33.075Z"
   },
   {
    "duration": 7,
    "start_time": "2025-02-23T15:53:58.283Z"
   },
   {
    "duration": 6,
    "start_time": "2025-02-23T15:54:04.388Z"
   },
   {
    "duration": 11,
    "start_time": "2025-02-23T15:55:39.710Z"
   },
   {
    "duration": 260,
    "start_time": "2025-02-23T15:56:00.832Z"
   },
   {
    "duration": 255,
    "start_time": "2025-02-23T15:56:10.822Z"
   },
   {
    "duration": 8,
    "start_time": "2025-02-23T16:21:12.084Z"
   },
   {
    "duration": 8,
    "start_time": "2025-02-23T16:21:30.984Z"
   },
   {
    "duration": 96,
    "start_time": "2025-02-23T16:21:41.408Z"
   },
   {
    "duration": 8,
    "start_time": "2025-02-23T16:21:57.684Z"
   },
   {
    "duration": 64,
    "start_time": "2025-02-23T16:46:24.956Z"
   },
   {
    "duration": 14,
    "start_time": "2025-02-23T16:52:17.805Z"
   },
   {
    "duration": 17,
    "start_time": "2025-02-23T17:08:43.075Z"
   },
   {
    "duration": 48,
    "start_time": "2025-02-23T18:56:25.282Z"
   },
   {
    "duration": 2705,
    "start_time": "2025-02-23T18:56:33.105Z"
   },
   {
    "duration": 1461,
    "start_time": "2025-02-23T18:56:35.813Z"
   },
   {
    "duration": 197,
    "start_time": "2025-02-23T18:56:37.277Z"
   },
   {
    "duration": 17,
    "start_time": "2025-02-23T18:56:37.477Z"
   },
   {
    "duration": 17,
    "start_time": "2025-02-23T18:56:37.496Z"
   },
   {
    "duration": 13,
    "start_time": "2025-02-23T18:56:37.514Z"
   },
   {
    "duration": 13,
    "start_time": "2025-02-23T18:56:37.529Z"
   },
   {
    "duration": 21,
    "start_time": "2025-02-23T18:56:37.560Z"
   },
   {
    "duration": 28,
    "start_time": "2025-02-23T18:56:37.582Z"
   },
   {
    "duration": 11,
    "start_time": "2025-02-23T18:56:37.612Z"
   },
   {
    "duration": 13,
    "start_time": "2025-02-23T18:56:37.625Z"
   },
   {
    "duration": 29,
    "start_time": "2025-02-23T18:56:37.640Z"
   },
   {
    "duration": 9,
    "start_time": "2025-02-23T18:56:37.671Z"
   },
   {
    "duration": 7,
    "start_time": "2025-02-23T18:56:37.683Z"
   },
   {
    "duration": 14,
    "start_time": "2025-02-23T18:56:37.691Z"
   },
   {
    "duration": 7,
    "start_time": "2025-02-23T18:56:37.707Z"
   },
   {
    "duration": 23,
    "start_time": "2025-02-23T18:56:37.715Z"
   },
   {
    "duration": 24,
    "start_time": "2025-02-23T18:56:37.740Z"
   },
   {
    "duration": 9,
    "start_time": "2025-02-23T18:56:37.766Z"
   },
   {
    "duration": 37,
    "start_time": "2025-02-23T18:56:37.777Z"
   },
   {
    "duration": 6,
    "start_time": "2025-02-23T18:56:37.816Z"
   },
   {
    "duration": 17,
    "start_time": "2025-02-23T18:56:37.824Z"
   },
   {
    "duration": 5,
    "start_time": "2025-02-23T18:56:37.842Z"
   },
   {
    "duration": 24,
    "start_time": "2025-02-23T18:56:37.848Z"
   },
   {
    "duration": 14,
    "start_time": "2025-02-23T18:56:37.875Z"
   },
   {
    "duration": 5,
    "start_time": "2025-02-23T18:56:37.891Z"
   },
   {
    "duration": 36,
    "start_time": "2025-02-23T18:56:37.898Z"
   },
   {
    "duration": 26,
    "start_time": "2025-02-23T18:56:37.936Z"
   },
   {
    "duration": 30,
    "start_time": "2025-02-23T18:56:37.963Z"
   },
   {
    "duration": 6,
    "start_time": "2025-02-23T18:56:37.995Z"
   },
   {
    "duration": 342,
    "start_time": "2025-02-23T18:56:38.003Z"
   },
   {
    "duration": 14,
    "start_time": "2025-02-23T18:56:38.347Z"
   },
   {
    "duration": 272,
    "start_time": "2025-02-23T18:56:38.363Z"
   },
   {
    "duration": 11,
    "start_time": "2025-02-23T18:56:38.637Z"
   },
   {
    "duration": 179,
    "start_time": "2025-02-23T18:56:38.662Z"
   },
   {
    "duration": 5,
    "start_time": "2025-02-23T18:56:38.843Z"
   },
   {
    "duration": 114,
    "start_time": "2025-02-23T18:56:38.862Z"
   },
   {
    "duration": 228,
    "start_time": "2025-02-23T18:56:38.979Z"
   },
   {
    "duration": 6,
    "start_time": "2025-02-23T18:56:39.208Z"
   },
   {
    "duration": 10,
    "start_time": "2025-02-23T18:56:39.215Z"
   },
   {
    "duration": 160,
    "start_time": "2025-02-23T18:56:39.230Z"
   },
   {
    "duration": 9,
    "start_time": "2025-02-23T18:56:39.392Z"
   },
   {
    "duration": 234,
    "start_time": "2025-02-23T18:56:39.403Z"
   },
   {
    "duration": 7,
    "start_time": "2025-02-23T18:56:39.639Z"
   },
   {
    "duration": 308,
    "start_time": "2025-02-23T18:56:39.648Z"
   },
   {
    "duration": 217,
    "start_time": "2025-02-23T18:56:39.958Z"
   },
   {
    "duration": 650,
    "start_time": "2025-02-23T18:56:40.178Z"
   },
   {
    "duration": 7,
    "start_time": "2025-02-23T18:56:40.829Z"
   },
   {
    "duration": 245,
    "start_time": "2025-02-23T18:56:40.838Z"
   },
   {
    "duration": 24,
    "start_time": "2025-02-23T18:56:41.084Z"
   },
   {
    "duration": 297,
    "start_time": "2025-02-23T18:56:41.110Z"
   },
   {
    "duration": 2,
    "start_time": "2025-02-23T18:56:41.410Z"
   },
   {
    "duration": 18,
    "start_time": "2025-02-23T18:56:41.414Z"
   },
   {
    "duration": 17,
    "start_time": "2025-02-23T18:56:41.434Z"
   },
   {
    "duration": 283,
    "start_time": "2025-02-23T18:56:41.453Z"
   },
   {
    "duration": 5,
    "start_time": "2025-02-23T18:56:41.738Z"
   },
   {
    "duration": 31,
    "start_time": "2025-02-23T18:56:41.744Z"
   },
   {
    "duration": 271,
    "start_time": "2025-02-23T18:56:41.778Z"
   },
   {
    "duration": 25,
    "start_time": "2025-02-23T18:56:42.050Z"
   },
   {
    "duration": 3317,
    "start_time": "2025-02-24T11:49:33.311Z"
   },
   {
    "duration": 1337,
    "start_time": "2025-02-24T11:49:36.630Z"
   },
   {
    "duration": 374,
    "start_time": "2025-02-24T11:49:37.969Z"
   },
   {
    "duration": 14,
    "start_time": "2025-02-24T11:49:38.344Z"
   },
   {
    "duration": 15,
    "start_time": "2025-02-24T11:49:38.360Z"
   },
   {
    "duration": 8,
    "start_time": "2025-02-24T11:49:38.377Z"
   },
   {
    "duration": 14,
    "start_time": "2025-02-24T11:49:38.386Z"
   },
   {
    "duration": 10,
    "start_time": "2025-02-24T11:49:38.402Z"
   },
   {
    "duration": 22,
    "start_time": "2025-02-24T11:49:38.413Z"
   },
   {
    "duration": 11,
    "start_time": "2025-02-24T11:50:17.635Z"
   },
   {
    "duration": 12,
    "start_time": "2025-02-24T11:50:25.857Z"
   },
   {
    "duration": 11,
    "start_time": "2025-02-24T11:50:42.222Z"
   },
   {
    "duration": 102,
    "start_time": "2025-02-24T11:55:40.130Z"
   },
   {
    "duration": 2392,
    "start_time": "2025-02-24T11:56:06.830Z"
   },
   {
    "duration": 1133,
    "start_time": "2025-02-24T11:56:09.224Z"
   },
   {
    "duration": 168,
    "start_time": "2025-02-24T11:56:10.359Z"
   },
   {
    "duration": 18,
    "start_time": "2025-02-24T11:56:10.530Z"
   },
   {
    "duration": 15,
    "start_time": "2025-02-24T11:56:10.550Z"
   },
   {
    "duration": 11,
    "start_time": "2025-02-24T11:56:10.567Z"
   },
   {
    "duration": 40,
    "start_time": "2025-02-24T11:56:10.580Z"
   },
   {
    "duration": 12,
    "start_time": "2025-02-24T11:56:10.622Z"
   },
   {
    "duration": 16,
    "start_time": "2025-02-24T11:56:10.636Z"
   },
   {
    "duration": 12,
    "start_time": "2025-02-24T11:56:10.655Z"
   },
   {
    "duration": 50,
    "start_time": "2025-02-24T11:56:10.669Z"
   },
   {
    "duration": 11,
    "start_time": "2025-02-24T11:56:11.091Z"
   },
   {
    "duration": 8,
    "start_time": "2025-02-24T11:56:14.990Z"
   },
   {
    "duration": 10,
    "start_time": "2025-02-24T11:56:15.209Z"
   },
   {
    "duration": 16,
    "start_time": "2025-02-24T11:56:15.431Z"
   },
   {
    "duration": 7,
    "start_time": "2025-02-24T11:56:16.167Z"
   },
   {
    "duration": 7,
    "start_time": "2025-02-24T11:56:16.536Z"
   },
   {
    "duration": 7,
    "start_time": "2025-02-24T11:56:16.722Z"
   },
   {
    "duration": 5,
    "start_time": "2025-02-24T11:56:16.869Z"
   },
   {
    "duration": 4,
    "start_time": "2025-02-24T11:56:17.054Z"
   },
   {
    "duration": 5,
    "start_time": "2025-02-24T11:56:17.202Z"
   },
   {
    "duration": 14,
    "start_time": "2025-02-24T11:56:17.569Z"
   },
   {
    "duration": 4,
    "start_time": "2025-02-24T11:56:17.939Z"
   },
   {
    "duration": 13,
    "start_time": "2025-02-24T11:56:18.141Z"
   },
   {
    "duration": 11,
    "start_time": "2025-02-24T11:56:18.344Z"
   },
   {
    "duration": 4,
    "start_time": "2025-02-24T11:56:18.528Z"
   },
   {
    "duration": 28,
    "start_time": "2025-02-24T11:56:19.082Z"
   },
   {
    "duration": 21,
    "start_time": "2025-02-24T11:56:19.264Z"
   },
   {
    "duration": 7,
    "start_time": "2025-02-24T11:56:20.520Z"
   },
   {
    "duration": 278,
    "start_time": "2025-02-24T11:56:20.703Z"
   },
   {
    "duration": 5,
    "start_time": "2025-02-24T11:56:21.478Z"
   },
   {
    "duration": 230,
    "start_time": "2025-02-24T11:56:21.699Z"
   },
   {
    "duration": 11,
    "start_time": "2025-02-24T11:56:22.143Z"
   },
   {
    "duration": 163,
    "start_time": "2025-02-24T11:56:22.589Z"
   },
   {
    "duration": 5,
    "start_time": "2025-02-24T11:56:24.543Z"
   },
   {
    "duration": 84,
    "start_time": "2025-02-24T11:56:24.834Z"
   },
   {
    "duration": 183,
    "start_time": "2025-02-24T11:56:25.685Z"
   },
   {
    "duration": 6,
    "start_time": "2025-02-24T11:56:27.729Z"
   },
   {
    "duration": 8,
    "start_time": "2025-02-24T11:56:28.043Z"
   },
   {
    "duration": 149,
    "start_time": "2025-02-24T11:56:28.816Z"
   },
   {
    "duration": 9,
    "start_time": "2025-02-24T11:56:29.740Z"
   },
   {
    "duration": 197,
    "start_time": "2025-02-24T11:56:30.558Z"
   },
   {
    "duration": 6,
    "start_time": "2025-02-24T11:56:33.174Z"
   },
   {
    "duration": 262,
    "start_time": "2025-02-24T11:56:34.281Z"
   },
   {
    "duration": 177,
    "start_time": "2025-02-24T11:56:41.942Z"
   },
   {
    "duration": 564,
    "start_time": "2025-02-24T11:56:42.348Z"
   },
   {
    "duration": 9,
    "start_time": "2025-02-24T11:56:43.048Z"
   },
   {
    "duration": 211,
    "start_time": "2025-02-24T11:56:43.382Z"
   },
   {
    "duration": 24,
    "start_time": "2025-02-24T11:57:03.575Z"
   },
   {
    "duration": 252,
    "start_time": "2025-02-24T11:57:04.166Z"
   },
   {
    "duration": 2,
    "start_time": "2025-02-24T11:57:05.531Z"
   },
   {
    "duration": 240,
    "start_time": "2025-02-24T12:02:54.863Z"
   },
   {
    "duration": 8,
    "start_time": "2025-02-24T12:05:08.494Z"
   },
   {
    "duration": 29,
    "start_time": "2025-02-24T12:05:41.307Z"
   },
   {
    "duration": 128,
    "start_time": "2025-02-24T12:07:22.105Z"
   },
   {
    "duration": 60,
    "start_time": "2025-02-24T12:07:55.754Z"
   },
   {
    "duration": 31,
    "start_time": "2025-02-24T12:08:04.384Z"
   },
   {
    "duration": 63,
    "start_time": "2025-02-24T12:08:13.026Z"
   },
   {
    "duration": 37,
    "start_time": "2025-02-24T12:09:34.673Z"
   },
   {
    "duration": 25,
    "start_time": "2025-02-24T12:09:51.526Z"
   },
   {
    "duration": 32,
    "start_time": "2025-02-24T12:09:57.429Z"
   },
   {
    "duration": 43,
    "start_time": "2025-02-24T12:13:03.982Z"
   },
   {
    "duration": 30,
    "start_time": "2025-02-24T12:13:36.961Z"
   },
   {
    "duration": 47,
    "start_time": "2025-02-24T12:13:45.609Z"
   },
   {
    "duration": 51,
    "start_time": "2025-02-24T12:13:58.907Z"
   },
   {
    "duration": 47,
    "start_time": "2025-02-24T12:14:07.121Z"
   },
   {
    "duration": 30,
    "start_time": "2025-02-24T12:14:42.978Z"
   },
   {
    "duration": 4,
    "start_time": "2025-02-24T12:24:25.558Z"
   },
   {
    "duration": 256,
    "start_time": "2025-02-24T12:25:12.305Z"
   },
   {
    "duration": 4,
    "start_time": "2025-02-24T12:25:46.955Z"
   },
   {
    "duration": 239,
    "start_time": "2025-02-24T12:25:48.363Z"
   },
   {
    "duration": 15,
    "start_time": "2025-02-24T12:26:52.235Z"
   },
   {
    "duration": 5,
    "start_time": "2025-02-24T12:27:01.231Z"
   },
   {
    "duration": 242,
    "start_time": "2025-02-24T12:27:01.675Z"
   },
   {
    "duration": 3,
    "start_time": "2025-02-24T12:28:46.706Z"
   },
   {
    "duration": 3,
    "start_time": "2025-02-24T12:31:45.526Z"
   },
   {
    "duration": 206,
    "start_time": "2025-02-24T12:31:45.858Z"
   },
   {
    "duration": 371,
    "start_time": "2025-02-24T12:31:54.455Z"
   },
   {
    "duration": 10,
    "start_time": "2025-02-24T12:46:46.774Z"
   },
   {
    "duration": 5,
    "start_time": "2025-02-24T12:46:56.844Z"
   },
   {
    "duration": 11,
    "start_time": "2025-02-24T12:46:57.213Z"
   },
   {
    "duration": 242,
    "start_time": "2025-02-24T12:46:58.210Z"
   },
   {
    "duration": 11,
    "start_time": "2025-02-24T12:47:02.150Z"
   },
   {
    "duration": 12,
    "start_time": "2025-02-24T12:52:17.726Z"
   },
   {
    "duration": 6,
    "start_time": "2025-02-24T12:52:40.663Z"
   },
   {
    "duration": 12,
    "start_time": "2025-02-24T12:59:14.175Z"
   },
   {
    "duration": 349,
    "start_time": "2025-02-24T13:03:03.383Z"
   },
   {
    "duration": 24,
    "start_time": "2025-02-24T13:04:17.941Z"
   },
   {
    "duration": 21,
    "start_time": "2025-02-24T13:04:42.150Z"
   },
   {
    "duration": 214,
    "start_time": "2025-02-24T13:14:06.364Z"
   },
   {
    "duration": 66,
    "start_time": "2025-02-24T13:16:32.696Z"
   },
   {
    "duration": 314,
    "start_time": "2025-02-24T13:16:44.200Z"
   },
   {
    "duration": 314,
    "start_time": "2025-02-24T13:20:15.631Z"
   },
   {
    "duration": 312,
    "start_time": "2025-02-24T13:20:56.549Z"
   },
   {
    "duration": 2678,
    "start_time": "2025-02-24T17:39:51.556Z"
   },
   {
    "duration": 2202,
    "start_time": "2025-02-24T17:39:54.236Z"
   },
   {
    "duration": 276,
    "start_time": "2025-02-24T17:39:56.439Z"
   },
   {
    "duration": 58,
    "start_time": "2025-02-24T17:39:56.716Z"
   },
   {
    "duration": 31,
    "start_time": "2025-02-24T17:39:56.776Z"
   },
   {
    "duration": 62,
    "start_time": "2025-02-24T17:39:56.809Z"
   },
   {
    "duration": 11,
    "start_time": "2025-02-24T17:39:56.873Z"
   },
   {
    "duration": 12,
    "start_time": "2025-02-24T17:39:56.886Z"
   },
   {
    "duration": 76,
    "start_time": "2025-02-24T17:39:56.899Z"
   },
   {
    "duration": 10,
    "start_time": "2025-02-24T17:39:56.977Z"
   },
   {
    "duration": 14,
    "start_time": "2025-02-24T17:39:56.988Z"
   },
   {
    "duration": 75,
    "start_time": "2025-02-24T17:39:57.003Z"
   },
   {
    "duration": 7,
    "start_time": "2025-02-24T17:39:57.080Z"
   },
   {
    "duration": 10,
    "start_time": "2025-02-24T17:39:57.090Z"
   },
   {
    "duration": 77,
    "start_time": "2025-02-24T17:39:57.101Z"
   },
   {
    "duration": 8,
    "start_time": "2025-02-24T17:39:57.180Z"
   },
   {
    "duration": 7,
    "start_time": "2025-02-24T17:39:57.189Z"
   },
   {
    "duration": 6,
    "start_time": "2025-02-24T17:39:57.198Z"
   },
   {
    "duration": 5,
    "start_time": "2025-02-24T17:39:57.270Z"
   },
   {
    "duration": 8,
    "start_time": "2025-02-24T17:39:57.277Z"
   },
   {
    "duration": 6,
    "start_time": "2025-02-24T17:39:57.287Z"
   },
   {
    "duration": 76,
    "start_time": "2025-02-24T17:39:57.294Z"
   },
   {
    "duration": 99,
    "start_time": "2025-02-24T17:39:57.372Z"
   },
   {
    "duration": 18,
    "start_time": "2025-02-24T17:39:57.472Z"
   },
   {
    "duration": 11,
    "start_time": "2025-02-24T17:39:57.492Z"
   },
   {
    "duration": 4,
    "start_time": "2025-02-24T17:39:57.504Z"
   },
   {
    "duration": 30,
    "start_time": "2025-02-24T17:39:57.569Z"
   },
   {
    "duration": 91,
    "start_time": "2025-02-24T17:39:57.601Z"
   },
   {
    "duration": 6,
    "start_time": "2025-02-24T17:39:57.694Z"
   },
   {
    "duration": 510,
    "start_time": "2025-02-24T17:39:57.702Z"
   },
   {
    "duration": 6,
    "start_time": "2025-02-24T17:39:58.270Z"
   },
   {
    "duration": 531,
    "start_time": "2025-02-24T17:39:58.278Z"
   },
   {
    "duration": 63,
    "start_time": "2025-02-24T17:39:58.811Z"
   },
   {
    "duration": 394,
    "start_time": "2025-02-24T17:39:58.876Z"
   },
   {
    "duration": 5,
    "start_time": "2025-02-24T17:39:59.272Z"
   },
   {
    "duration": 202,
    "start_time": "2025-02-24T17:39:59.279Z"
   },
   {
    "duration": 490,
    "start_time": "2025-02-24T17:39:59.483Z"
   },
   {
    "duration": 5,
    "start_time": "2025-02-24T17:39:59.975Z"
   },
   {
    "duration": 7,
    "start_time": "2025-02-24T17:39:59.982Z"
   },
   {
    "duration": 319,
    "start_time": "2025-02-24T17:39:59.991Z"
   },
   {
    "duration": 61,
    "start_time": "2025-02-24T17:40:00.316Z"
   },
   {
    "duration": 400,
    "start_time": "2025-02-24T17:40:00.379Z"
   },
   {
    "duration": 6,
    "start_time": "2025-02-24T17:40:00.780Z"
   },
   {
    "duration": 710,
    "start_time": "2025-02-24T17:40:00.788Z"
   },
   {
    "duration": 400,
    "start_time": "2025-02-24T17:40:01.500Z"
   },
   {
    "duration": 1192,
    "start_time": "2025-02-24T17:40:01.902Z"
   },
   {
    "duration": 8,
    "start_time": "2025-02-24T17:40:03.096Z"
   },
   {
    "duration": 234,
    "start_time": "2025-02-24T17:40:03.106Z"
   },
   {
    "duration": 55,
    "start_time": "2025-02-24T17:40:03.343Z"
   },
   {
    "duration": 334,
    "start_time": "2025-02-24T17:40:03.400Z"
   },
   {
    "duration": 3,
    "start_time": "2025-02-24T17:40:03.736Z"
   },
   {
    "duration": 22,
    "start_time": "2025-02-24T17:40:03.740Z"
   },
   {
    "duration": 288,
    "start_time": "2025-02-24T17:40:03.763Z"
   },
   {
    "duration": 5,
    "start_time": "2025-02-24T17:40:04.053Z"
   },
   {
    "duration": 34,
    "start_time": "2025-02-24T17:40:04.060Z"
   },
   {
    "duration": 268,
    "start_time": "2025-02-24T17:40:04.096Z"
   },
   {
    "duration": 14,
    "start_time": "2025-02-24T17:40:04.370Z"
   },
   {
    "duration": 369,
    "start_time": "2025-02-24T17:40:04.386Z"
   },
   {
    "duration": 15,
    "start_time": "2025-02-24T17:40:04.758Z"
   },
   {
    "duration": 59,
    "start_time": "2025-02-24T17:40:04.774Z"
   },
   {
    "duration": 277,
    "start_time": "2025-02-24T17:40:04.834Z"
   },
   {
    "duration": 13,
    "start_time": "2025-02-24T17:40:05.113Z"
   }
  ],
  "colab": {
   "provenance": []
  },
  "kernelspec": {
   "display_name": "Python 3 (ipykernel)",
   "language": "python",
   "name": "python3"
  },
  "language_info": {
   "codemirror_mode": {
    "name": "ipython",
    "version": 3
   },
   "file_extension": ".py",
   "mimetype": "text/x-python",
   "name": "python",
   "nbconvert_exporter": "python",
   "pygments_lexer": "ipython3",
   "version": "3.9.5"
  },
  "toc": {
   "base_numbering": 1,
   "nav_menu": {},
   "number_sections": false,
   "sideBar": true,
   "skip_h1_title": true,
   "title_cell": "Table of Contents",
   "title_sidebar": "Contents",
   "toc_cell": false,
   "toc_position": {},
   "toc_section_display": true,
   "toc_window_display": false
  }
 },
 "nbformat": 4,
 "nbformat_minor": 5
}
