{
 "cells": [
  {
   "cell_type": "markdown",
   "metadata": {},
   "source": [
    "<div style=\"border:solid green 2px; padding: 20px\">\n",
    "    \n",
    "<b>Татьяна, привет!</b> Мы рады тебя видеть на территории код-ревьюеров 😎. Ты проделала большую работу над проектом, но давай познакомимся и сделаем его еще лучше! У нас тут своя атмосфера и несколько правил:\n",
    "\n",
    "\n",
    "1. Меня зовут Александр Матвеевский. Я работаю код-ревьюером, моя основная цель — не указать на совершенные тобою ошибки, а поделиться своим опытом и помочь тебе стать дата-специалистом.\n",
    "2. Общаемся на ты.\n",
    "3. Если хочешь написать, спросить - не нужно стесняться. Только выбери свой цвет для комментария.  \n",
    "4. Это учебный проект, тут можно не бояться сделать ошибку.  \n",
    "5. У нас с тобой 6 попыток для сдачи проекта.  \n",
    "6. Let's Go!\n",
    "\n",
    "---\n",
    "\n",
    "Я буду красить комментарии цветом, пожалуйста, не удаляй их:\n",
    "\n",
    "<div class=\"alert alert-block alert-danger\">✍\n",
    "    \n",
    "\n",
    "__Комментарий от ревьюера №1__\n",
    "\n",
    "Такой комментарий нужно исправить обязательно, он критически влияет на удачное выполнение проекта.\n",
    "</div>\n",
    "    \n",
    "---\n",
    "\n",
    "<div class=\"alert alert-block alert-warning\">📝\n",
    "    \n",
    "\n",
    "__Комментарий от ревьюера №1__\n",
    "\n",
    "\n",
    "Такой комментарий является рекомендацией или советом. Можешь использовать их на своё усмотрение.\n",
    "</div>\n",
    "\n",
    "---\n",
    "\n",
    "<div class=\"alert alert-block alert-success\">✔️\n",
    "    \n",
    "\n",
    "__Комментарий от ревьюера №1__\n",
    "\n",
    "Такой комментарий  говорит о том, что было сделано что-то качественное и правильное =)\n",
    "</div>\n",
    "    \n",
    "---\n",
    "    \n",
    "Предлагаю работать над проектом в диалоге: если ты что-то меняешь в проекте или отвечаешь на мои комментарии — пиши об этом. Мне будет легче отследить изменения, если ты выделишь свои комментарии:   \n",
    "    \n",
    "<div class=\"alert alert-info\"> <b>Комментарии студента:</b> Например, вот так.</div>\n",
    "    \n",
    "Всё это поможет выполнить повторную проверку твоего проекта оперативнее. Если будут какие-нибудь вопросы по моим комментариям, пиши, будем разбираться вместе :)    \n",
    "    \n",
    "---"
   ]
  },
  {
   "cell_type": "markdown",
   "metadata": {
    "id": "LMuaGIE3lGcr"
   },
   "source": [
    "# Проект: Исследовательский анализ данных Яндекс.Афиша и проверка гипотезы в Python \n",
    "- Автор: Петрова Татьяна\n",
    "- Дата: 21.05.2025"
   ]
  },
  {
   "cell_type": "markdown",
   "metadata": {},
   "source": [
    "## Цели и задачи проекта\n",
    "\n",
    "**Цель:** провести исследовательский анализ данных, чтобы выявить инсайты об изменении пользовательских предпочтений и популярности событий осенью 2024 года, а также проверить гипотезы о разнице в поведении пользователей с мобильными и стационарными устройствами.\n",
    "\n",
    "**Задачи**\n",
    "1. Загрузить данные и познакомиться с их содержимым.\n",
    "2. Предобработать данные и подготовить их к исследованию.\n",
    "3. Провести исследовательский анализ данных.\n",
    "4. Провести статистический анализ данных.\n",
    "5. Сформулировать выводы по проведённому анализу."
   ]
  },
  {
   "cell_type": "markdown",
   "metadata": {},
   "source": []
  },
  {
   "cell_type": "markdown",
   "metadata": {},
   "source": [
    "## Описание данных\n",
    "\n",
    "### Описание датасета `final_tickets_orders_df.csv`\n",
    "`final_tickets_orders_df.csv` - содержит информацию обо всех заказах билетов, совершённых с двух типов устройств — мобильных и стационарных.\n",
    "- `order_id` - уникальный идентификатор заказа.\n",
    "- `user_id` - уникальный идентификатор пользователя.\n",
    "- `created_dt_msk` - дата создания заказа (московское время).\n",
    "- `created_ts_msk` - дата и время создания заказа (московское время).\n",
    "- `event_id` - идентификатор мероприятия.\n",
    "- `cinema_circuit` -  сеть кинотеатров. Если не применимо, то здесь будет значение `'нет'`.\n",
    "- `age_limit` - возрастное ограничение мероприятия.\n",
    "- `currency_code` - валюта оплаты.\n",
    "- `device_type_canonical` - ип устройства, с которого был оформлен заказ.\n",
    "- `revenue` - выручка от заказа.\n",
    "- `service_name` - название билетного оператора.\n",
    "- `tickets_count` - количество купленных билетов.\n",
    "- `total` - общая сумма заказа.\n",
    "- `days_since_prev` - количество дней с предыдущей покупки для каждого пользователя.\n",
    "\n",
    "### Описание датасета `final_tickets_events_df`\n",
    "`final_tickets_events_df` - содержит информацию о событиях, включая город и регион события, а также информацию о площадке проведения мероприятия.\n",
    "- `event_id` -  уникальный идентификатор мероприятия.\n",
    "- `event_name` - название мероприятия.\n",
    "- `event_type_description` - описание типа мероприятия.\n",
    "- `event_type_main` - основной тип мероприятия.\n",
    "- `organizers` - организаторы мероприятия.\n",
    "- `region_name` - название региона.\n",
    "- `city_name` - название города.\n",
    "- `venue_id` - уникальный идентификатор площадки.\n",
    "- `venue_name` - название площадки.\n",
    "- `venue_address` - адрес площадки.\n",
    "\n",
    "### Описание датасета `final_tickets_tenge_df.csv`\n",
    "Анализ данных в предыдущей части проекта показал, что выручка от заказов представлена в двух валютах — российских рублях и казахстанских тенге. Для удобства решения было бы корректно привести данные к одной валюте, например к российским рублям.\n",
    "`final_tickets_tenge_df.csv` - содержит информацию о курсе тенге к российскому рублю за 2024 год.\n",
    "- `nominal` - номинал (100 тенге).\n",
    "- `data` - дата.\n",
    "- `curs` - курс тенге к рублю.\n",
    "- `cdx` - обозначение валюты (`kzt`)."
   ]
  },
  {
   "cell_type": "markdown",
   "metadata": {},
   "source": [
    "## Содержимое проекта\n",
    "\n",
    "- Цели и задачи проекта.\n",
    "- Описание данных.\n",
    "- Загрузка данных и знакомство с ними.\n",
    "- Предобработка данных и подготовка их к исследованию.\n",
    "- Исследовательский анализ данных.\n",
    "- Статистический анализ данных.\n",
    "- Общий вывод и рекомендации."
   ]
  },
  {
   "cell_type": "markdown",
   "metadata": {},
   "source": []
  },
  {
   "cell_type": "markdown",
   "metadata": {},
   "source": [
    "## Загрузка данных и знакомство с ними\n",
    "\n",
    "Теперь загрузим необходимые библиотеки и позкакомимся с данными. На данном этапе я буду оценивать объем данных, их корректность и соответствие описанию."
   ]
  },
  {
   "cell_type": "code",
   "execution_count": 1,
   "metadata": {},
   "outputs": [],
   "source": [
    "# импортирем pandas \n",
    "import pandas as pd\n",
    "\n",
    "# импортирем numpy \n",
    "import numpy as np\n",
    "\n",
    "# импортирем matplotlib \n",
    "import matplotlib.pyplot as plt\n",
    "\n",
    "# импортирем seaborn \n",
    "import seaborn as sns\n",
    "\n",
    "# импортирем stats \n",
    "import scipy.stats as stats\n",
    "\n",
    "# импортирем mannwhitneyu \n",
    "from scipy.stats import mannwhitneyu"
   ]
  },
  {
   "cell_type": "markdown",
   "metadata": {},
   "source": [
    "<div class=\"alert alert-block alert-success\">✔️\n",
    "    \n",
    "\n",
    "__Комментарий от ревьюера №1__\n",
    "\n",
    "Хорошо, необходимые модули загружены"
   ]
  },
  {
   "cell_type": "markdown",
   "metadata": {},
   "source": []
  },
  {
   "cell_type": "code",
   "execution_count": 2,
   "metadata": {},
   "outputs": [],
   "source": [
    "# загружаем данные\n",
    "orders_df = pd.read_csv('https://code.s3.yandex.net/datasets/final_tickets_orders_df.csv')\n",
    "events_df = pd.read_csv('https://code.s3.yandex.net/datasets/final_tickets_events_df.csv')\n",
    "tenge_df = pd.read_csv('https://code.s3.yandex.net/datasets/final_tickets_tenge_df.csv')"
   ]
  },
  {
   "cell_type": "code",
   "execution_count": 3,
   "metadata": {
    "scrolled": false
   },
   "outputs": [
    {
     "name": "stdout",
     "output_type": "stream",
     "text": [
      "<class 'pandas.core.frame.DataFrame'>\n",
      "RangeIndex: 290849 entries, 0 to 290848\n",
      "Data columns (total 14 columns):\n",
      " #   Column                 Non-Null Count   Dtype  \n",
      "---  ------                 --------------   -----  \n",
      " 0   order_id               290849 non-null  int64  \n",
      " 1   user_id                290849 non-null  object \n",
      " 2   created_dt_msk         290849 non-null  object \n",
      " 3   created_ts_msk         290849 non-null  object \n",
      " 4   event_id               290849 non-null  int64  \n",
      " 5   cinema_circuit         290849 non-null  object \n",
      " 6   age_limit              290849 non-null  int64  \n",
      " 7   currency_code          290849 non-null  object \n",
      " 8   device_type_canonical  290849 non-null  object \n",
      " 9   revenue                290849 non-null  float64\n",
      " 10  service_name           290849 non-null  object \n",
      " 11  tickets_count          290849 non-null  int64  \n",
      " 12  total                  290849 non-null  float64\n",
      " 13  days_since_prev        268909 non-null  float64\n",
      "dtypes: float64(3), int64(4), object(7)\n",
      "memory usage: 31.1+ MB\n"
     ]
    },
    {
     "data": {
      "text/plain": [
       "None"
      ]
     },
     "metadata": {},
     "output_type": "display_data"
    },
    {
     "data": {
      "text/html": [
       "<div>\n",
       "<style scoped>\n",
       "    .dataframe tbody tr th:only-of-type {\n",
       "        vertical-align: middle;\n",
       "    }\n",
       "\n",
       "    .dataframe tbody tr th {\n",
       "        vertical-align: top;\n",
       "    }\n",
       "\n",
       "    .dataframe thead th {\n",
       "        text-align: right;\n",
       "    }\n",
       "</style>\n",
       "<table border=\"1\" class=\"dataframe\">\n",
       "  <thead>\n",
       "    <tr style=\"text-align: right;\">\n",
       "      <th></th>\n",
       "      <th>order_id</th>\n",
       "      <th>user_id</th>\n",
       "      <th>created_dt_msk</th>\n",
       "      <th>created_ts_msk</th>\n",
       "      <th>event_id</th>\n",
       "      <th>cinema_circuit</th>\n",
       "      <th>age_limit</th>\n",
       "      <th>currency_code</th>\n",
       "      <th>device_type_canonical</th>\n",
       "      <th>revenue</th>\n",
       "      <th>service_name</th>\n",
       "      <th>tickets_count</th>\n",
       "      <th>total</th>\n",
       "      <th>days_since_prev</th>\n",
       "    </tr>\n",
       "  </thead>\n",
       "  <tbody>\n",
       "    <tr>\n",
       "      <th>0</th>\n",
       "      <td>4359165</td>\n",
       "      <td>0002849b70a3ce2</td>\n",
       "      <td>2024-08-20</td>\n",
       "      <td>2024-08-20 16:08:03</td>\n",
       "      <td>169230</td>\n",
       "      <td>нет</td>\n",
       "      <td>16</td>\n",
       "      <td>rub</td>\n",
       "      <td>mobile</td>\n",
       "      <td>1521.94</td>\n",
       "      <td>Край билетов</td>\n",
       "      <td>4</td>\n",
       "      <td>10870.99</td>\n",
       "      <td>NaN</td>\n",
       "    </tr>\n",
       "    <tr>\n",
       "      <th>1</th>\n",
       "      <td>7965605</td>\n",
       "      <td>0005ca5e93f2cf4</td>\n",
       "      <td>2024-07-23</td>\n",
       "      <td>2024-07-23 18:36:24</td>\n",
       "      <td>237325</td>\n",
       "      <td>нет</td>\n",
       "      <td>0</td>\n",
       "      <td>rub</td>\n",
       "      <td>mobile</td>\n",
       "      <td>289.45</td>\n",
       "      <td>Мой билет</td>\n",
       "      <td>2</td>\n",
       "      <td>2067.51</td>\n",
       "      <td>NaN</td>\n",
       "    </tr>\n",
       "    <tr>\n",
       "      <th>2</th>\n",
       "      <td>7292370</td>\n",
       "      <td>0005ca5e93f2cf4</td>\n",
       "      <td>2024-10-06</td>\n",
       "      <td>2024-10-06 13:56:02</td>\n",
       "      <td>578454</td>\n",
       "      <td>нет</td>\n",
       "      <td>0</td>\n",
       "      <td>rub</td>\n",
       "      <td>mobile</td>\n",
       "      <td>1258.57</td>\n",
       "      <td>За билетом!</td>\n",
       "      <td>4</td>\n",
       "      <td>13984.16</td>\n",
       "      <td>75.0</td>\n",
       "    </tr>\n",
       "    <tr>\n",
       "      <th>3</th>\n",
       "      <td>1139875</td>\n",
       "      <td>000898990054619</td>\n",
       "      <td>2024-07-13</td>\n",
       "      <td>2024-07-13 19:40:48</td>\n",
       "      <td>387271</td>\n",
       "      <td>нет</td>\n",
       "      <td>0</td>\n",
       "      <td>rub</td>\n",
       "      <td>mobile</td>\n",
       "      <td>8.49</td>\n",
       "      <td>Лови билет!</td>\n",
       "      <td>2</td>\n",
       "      <td>212.28</td>\n",
       "      <td>NaN</td>\n",
       "    </tr>\n",
       "    <tr>\n",
       "      <th>4</th>\n",
       "      <td>972400</td>\n",
       "      <td>000898990054619</td>\n",
       "      <td>2024-10-04</td>\n",
       "      <td>2024-10-04 22:33:15</td>\n",
       "      <td>509453</td>\n",
       "      <td>нет</td>\n",
       "      <td>18</td>\n",
       "      <td>rub</td>\n",
       "      <td>mobile</td>\n",
       "      <td>1390.41</td>\n",
       "      <td>Билеты без проблем</td>\n",
       "      <td>3</td>\n",
       "      <td>10695.43</td>\n",
       "      <td>83.0</td>\n",
       "    </tr>\n",
       "  </tbody>\n",
       "</table>\n",
       "</div>"
      ],
      "text/plain": [
       "   order_id          user_id created_dt_msk       created_ts_msk  event_id  \\\n",
       "0   4359165  0002849b70a3ce2     2024-08-20  2024-08-20 16:08:03    169230   \n",
       "1   7965605  0005ca5e93f2cf4     2024-07-23  2024-07-23 18:36:24    237325   \n",
       "2   7292370  0005ca5e93f2cf4     2024-10-06  2024-10-06 13:56:02    578454   \n",
       "3   1139875  000898990054619     2024-07-13  2024-07-13 19:40:48    387271   \n",
       "4    972400  000898990054619     2024-10-04  2024-10-04 22:33:15    509453   \n",
       "\n",
       "  cinema_circuit  age_limit currency_code device_type_canonical  revenue  \\\n",
       "0            нет         16           rub                mobile  1521.94   \n",
       "1            нет          0           rub                mobile   289.45   \n",
       "2            нет          0           rub                mobile  1258.57   \n",
       "3            нет          0           rub                mobile     8.49   \n",
       "4            нет         18           rub                mobile  1390.41   \n",
       "\n",
       "         service_name  tickets_count     total  days_since_prev  \n",
       "0        Край билетов              4  10870.99              NaN  \n",
       "1           Мой билет              2   2067.51              NaN  \n",
       "2         За билетом!              4  13984.16             75.0  \n",
       "3         Лови билет!              2    212.28              NaN  \n",
       "4  Билеты без проблем              3  10695.43             83.0  "
      ]
     },
     "metadata": {},
     "output_type": "display_data"
    }
   ],
   "source": [
    "#выводим первые 5 строк и информацию orders_df\n",
    "display(orders_df.info())\n",
    "display(orders_df.head())"
   ]
  },
  {
   "cell_type": "code",
   "execution_count": 4,
   "metadata": {},
   "outputs": [
    {
     "name": "stdout",
     "output_type": "stream",
     "text": [
      "Доля пропусков в столбце days_since_prev - 7.54\n"
     ]
    }
   ],
   "source": [
    "orders_df_nan = round(orders_df['days_since_prev'].isna().mean() * 100, 2)\n",
    "print(f'Доля пропусков в столбце days_since_prev - {orders_df_nan}')"
   ]
  },
  {
   "cell_type": "markdown",
   "metadata": {},
   "source": [
    "Датафрейм `orders_df` содержит **290849** строк и **14** столбцов. \n",
    "\n",
    "После первичного анализа данных можно сделать следующие выводы:\n",
    "- Названия представленны корретно и хорошо описывают данные. \n",
    "- Пропусти содержатся в стобце `days_since_prev`. Их доля **7.54%**. можно заменить на 0 или на значения-индикаторы. Это будет зависеть от задач.\n",
    "- Столбцы `created_dt_msk` и `created_ts_msk` представлены типом `object`, их нужно привести к типу `datetime`.\n",
    "- У числовых столбцов стоит понизить разрядность для оптимизации.\n"
   ]
  },
  {
   "cell_type": "code",
   "execution_count": 5,
   "metadata": {},
   "outputs": [
    {
     "name": "stdout",
     "output_type": "stream",
     "text": [
      "<class 'pandas.core.frame.DataFrame'>\n",
      "RangeIndex: 22427 entries, 0 to 22426\n",
      "Data columns (total 11 columns):\n",
      " #   Column                  Non-Null Count  Dtype \n",
      "---  ------                  --------------  ----- \n",
      " 0   event_id                22427 non-null  int64 \n",
      " 1   event_name              22427 non-null  object\n",
      " 2   event_type_description  22427 non-null  object\n",
      " 3   event_type_main         22427 non-null  object\n",
      " 4   organizers              22427 non-null  object\n",
      " 5   region_name             22427 non-null  object\n",
      " 6   city_name               22427 non-null  object\n",
      " 7   city_id                 22427 non-null  int64 \n",
      " 8   venue_id                22427 non-null  int64 \n",
      " 9   venue_name              22427 non-null  object\n",
      " 10  venue_address           22427 non-null  object\n",
      "dtypes: int64(3), object(8)\n",
      "memory usage: 1.9+ MB\n"
     ]
    },
    {
     "data": {
      "text/plain": [
       "None"
      ]
     },
     "metadata": {},
     "output_type": "display_data"
    },
    {
     "data": {
      "text/html": [
       "<div>\n",
       "<style scoped>\n",
       "    .dataframe tbody tr th:only-of-type {\n",
       "        vertical-align: middle;\n",
       "    }\n",
       "\n",
       "    .dataframe tbody tr th {\n",
       "        vertical-align: top;\n",
       "    }\n",
       "\n",
       "    .dataframe thead th {\n",
       "        text-align: right;\n",
       "    }\n",
       "</style>\n",
       "<table border=\"1\" class=\"dataframe\">\n",
       "  <thead>\n",
       "    <tr style=\"text-align: right;\">\n",
       "      <th></th>\n",
       "      <th>event_id</th>\n",
       "      <th>event_name</th>\n",
       "      <th>event_type_description</th>\n",
       "      <th>event_type_main</th>\n",
       "      <th>organizers</th>\n",
       "      <th>region_name</th>\n",
       "      <th>city_name</th>\n",
       "      <th>city_id</th>\n",
       "      <th>venue_id</th>\n",
       "      <th>venue_name</th>\n",
       "      <th>venue_address</th>\n",
       "    </tr>\n",
       "  </thead>\n",
       "  <tbody>\n",
       "    <tr>\n",
       "      <th>0</th>\n",
       "      <td>4436</td>\n",
       "      <td>e4f26fba-da77-4c61-928a-6c3e434d793f</td>\n",
       "      <td>спектакль</td>\n",
       "      <td>театр</td>\n",
       "      <td>№4893</td>\n",
       "      <td>Североярская область</td>\n",
       "      <td>Озёрск</td>\n",
       "      <td>2</td>\n",
       "      <td>1600</td>\n",
       "      <td>Кладбище искусств \"Проблема\" и партнеры</td>\n",
       "      <td>наб. Загородная, д. 785</td>\n",
       "    </tr>\n",
       "    <tr>\n",
       "      <th>1</th>\n",
       "      <td>5785</td>\n",
       "      <td>5cc08a60-fdea-4186-9bb2-bffc3603fb77</td>\n",
       "      <td>спектакль</td>\n",
       "      <td>театр</td>\n",
       "      <td>№1931</td>\n",
       "      <td>Светополянский округ</td>\n",
       "      <td>Глиноград</td>\n",
       "      <td>54</td>\n",
       "      <td>2196</td>\n",
       "      <td>Лекции по искусству \"Свет\" Групп</td>\n",
       "      <td>ул. Ягодная, д. 942</td>\n",
       "    </tr>\n",
       "    <tr>\n",
       "      <th>2</th>\n",
       "      <td>8817</td>\n",
       "      <td>8e379a89-3a10-4811-ba06-ec22ebebe989</td>\n",
       "      <td>спектакль</td>\n",
       "      <td>театр</td>\n",
       "      <td>№4896</td>\n",
       "      <td>Североярская область</td>\n",
       "      <td>Озёрск</td>\n",
       "      <td>2</td>\n",
       "      <td>4043</td>\n",
       "      <td>Кинокомитет \"Золотая\" Инк</td>\n",
       "      <td>ш. Коммуны, д. 92 стр. 6</td>\n",
       "    </tr>\n",
       "    <tr>\n",
       "      <th>3</th>\n",
       "      <td>8849</td>\n",
       "      <td>682e3129-6a32-4952-9d8a-ef7f60d4c247</td>\n",
       "      <td>спектакль</td>\n",
       "      <td>театр</td>\n",
       "      <td>№4960</td>\n",
       "      <td>Каменевский регион</td>\n",
       "      <td>Глиногорск</td>\n",
       "      <td>213</td>\n",
       "      <td>1987</td>\n",
       "      <td>Выставка ремесел \"Свет\" Лтд</td>\n",
       "      <td>пер. Набережный, д. 35</td>\n",
       "    </tr>\n",
       "    <tr>\n",
       "      <th>4</th>\n",
       "      <td>8850</td>\n",
       "      <td>d6e99176-c77f-4af0-9222-07c571f6c624</td>\n",
       "      <td>спектакль</td>\n",
       "      <td>театр</td>\n",
       "      <td>№4770</td>\n",
       "      <td>Лесодальний край</td>\n",
       "      <td>Родниковец</td>\n",
       "      <td>55</td>\n",
       "      <td>4230</td>\n",
       "      <td>Фестивальный проект \"Листья\" Групп</td>\n",
       "      <td>пер. Проезжий, д. 9</td>\n",
       "    </tr>\n",
       "  </tbody>\n",
       "</table>\n",
       "</div>"
      ],
      "text/plain": [
       "   event_id                            event_name event_type_description  \\\n",
       "0      4436  e4f26fba-da77-4c61-928a-6c3e434d793f              спектакль   \n",
       "1      5785  5cc08a60-fdea-4186-9bb2-bffc3603fb77              спектакль   \n",
       "2      8817  8e379a89-3a10-4811-ba06-ec22ebebe989              спектакль   \n",
       "3      8849  682e3129-6a32-4952-9d8a-ef7f60d4c247              спектакль   \n",
       "4      8850  d6e99176-c77f-4af0-9222-07c571f6c624              спектакль   \n",
       "\n",
       "  event_type_main organizers           region_name   city_name  city_id  \\\n",
       "0           театр      №4893  Североярская область      Озёрск        2   \n",
       "1           театр      №1931  Светополянский округ   Глиноград       54   \n",
       "2           театр      №4896  Североярская область      Озёрск        2   \n",
       "3           театр      №4960    Каменевский регион  Глиногорск      213   \n",
       "4           театр      №4770      Лесодальний край  Родниковец       55   \n",
       "\n",
       "   venue_id                               venue_name             venue_address  \n",
       "0      1600  Кладбище искусств \"Проблема\" и партнеры   наб. Загородная, д. 785  \n",
       "1      2196         Лекции по искусству \"Свет\" Групп       ул. Ягодная, д. 942  \n",
       "2      4043                Кинокомитет \"Золотая\" Инк  ш. Коммуны, д. 92 стр. 6  \n",
       "3      1987              Выставка ремесел \"Свет\" Лтд    пер. Набережный, д. 35  \n",
       "4      4230       Фестивальный проект \"Листья\" Групп       пер. Проезжий, д. 9  "
      ]
     },
     "metadata": {},
     "output_type": "display_data"
    }
   ],
   "source": [
    "#выводим первые 5 строк и информацию events_df\n",
    "display(events_df.info())\n",
    "display(events_df.head())"
   ]
  },
  {
   "cell_type": "markdown",
   "metadata": {},
   "source": [
    "Датафрейм `events_df` содержит **22427** строк и **11** столбцов. \n",
    "\n",
    "После первичного анализа данных можно сделать следующие выводы:\n",
    "- Названия представленны корретно и хорошо описывают данные.\n",
    "- Пропусков в данных нет.\n",
    "- В стобце `organizers` можно удалить **№** и привести к `int`.\n",
    "- У числовых столбцов стоит понизить разрядность для оптимизации."
   ]
  },
  {
   "cell_type": "code",
   "execution_count": 6,
   "metadata": {},
   "outputs": [
    {
     "name": "stdout",
     "output_type": "stream",
     "text": [
      "<class 'pandas.core.frame.DataFrame'>\n",
      "RangeIndex: 357 entries, 0 to 356\n",
      "Data columns (total 4 columns):\n",
      " #   Column   Non-Null Count  Dtype  \n",
      "---  ------   --------------  -----  \n",
      " 0   data     357 non-null    object \n",
      " 1   nominal  357 non-null    int64  \n",
      " 2   curs     357 non-null    float64\n",
      " 3   cdx      357 non-null    object \n",
      "dtypes: float64(1), int64(1), object(2)\n",
      "memory usage: 11.3+ KB\n"
     ]
    },
    {
     "data": {
      "text/plain": [
       "None"
      ]
     },
     "metadata": {},
     "output_type": "display_data"
    },
    {
     "data": {
      "text/html": [
       "<div>\n",
       "<style scoped>\n",
       "    .dataframe tbody tr th:only-of-type {\n",
       "        vertical-align: middle;\n",
       "    }\n",
       "\n",
       "    .dataframe tbody tr th {\n",
       "        vertical-align: top;\n",
       "    }\n",
       "\n",
       "    .dataframe thead th {\n",
       "        text-align: right;\n",
       "    }\n",
       "</style>\n",
       "<table border=\"1\" class=\"dataframe\">\n",
       "  <thead>\n",
       "    <tr style=\"text-align: right;\">\n",
       "      <th></th>\n",
       "      <th>data</th>\n",
       "      <th>nominal</th>\n",
       "      <th>curs</th>\n",
       "      <th>cdx</th>\n",
       "    </tr>\n",
       "  </thead>\n",
       "  <tbody>\n",
       "    <tr>\n",
       "      <th>0</th>\n",
       "      <td>2024-01-10</td>\n",
       "      <td>100</td>\n",
       "      <td>19.9391</td>\n",
       "      <td>kzt</td>\n",
       "    </tr>\n",
       "    <tr>\n",
       "      <th>1</th>\n",
       "      <td>2024-01-11</td>\n",
       "      <td>100</td>\n",
       "      <td>19.7255</td>\n",
       "      <td>kzt</td>\n",
       "    </tr>\n",
       "    <tr>\n",
       "      <th>2</th>\n",
       "      <td>2024-01-12</td>\n",
       "      <td>100</td>\n",
       "      <td>19.5839</td>\n",
       "      <td>kzt</td>\n",
       "    </tr>\n",
       "    <tr>\n",
       "      <th>3</th>\n",
       "      <td>2024-01-13</td>\n",
       "      <td>100</td>\n",
       "      <td>19.4501</td>\n",
       "      <td>kzt</td>\n",
       "    </tr>\n",
       "    <tr>\n",
       "      <th>4</th>\n",
       "      <td>2024-01-14</td>\n",
       "      <td>100</td>\n",
       "      <td>19.4501</td>\n",
       "      <td>kzt</td>\n",
       "    </tr>\n",
       "  </tbody>\n",
       "</table>\n",
       "</div>"
      ],
      "text/plain": [
       "         data  nominal     curs  cdx\n",
       "0  2024-01-10      100  19.9391  kzt\n",
       "1  2024-01-11      100  19.7255  kzt\n",
       "2  2024-01-12      100  19.5839  kzt\n",
       "3  2024-01-13      100  19.4501  kzt\n",
       "4  2024-01-14      100  19.4501  kzt"
      ]
     },
     "metadata": {},
     "output_type": "display_data"
    }
   ],
   "source": [
    "#выводим первые 5 строк и информацию tenge_df\n",
    "display(tenge_df.info())\n",
    "display(tenge_df.head())"
   ]
  },
  {
   "cell_type": "markdown",
   "metadata": {},
   "source": [
    "Датафрейм `tenge_df` содержит **357** строк и **4** столбца. \n",
    "\n",
    "После первичного анализа данных можно сделать следующие выводы:\n",
    "- Названия представленны корретно и хорошо описывают данные. \n",
    "- Пропусков в данных нет.\n",
    "- Столбец `data` представлен типом `object`, его нужно привести к типу `datetime`.\n",
    "- У числовых столбцов стоит понизить разрядность для оптимизации."
   ]
  },
  {
   "cell_type": "markdown",
   "metadata": {},
   "source": [
    "<div class=\"alert alert-block alert-success\">✔️\n",
    "    \n",
    "\n",
    "__Комментарий от ревьюера №1__\n",
    "\n",
    "По итогу первичного знакомства с данными верно отмечено, что за данные, какого они качества, есть ли пропуски/типы данных, которые нужно скорректировать."
   ]
  },
  {
   "cell_type": "markdown",
   "metadata": {},
   "source": [
    "## Предобработка данных и подготовка их к исследованию\n",
    "Теперь проведем предобработку данных."
   ]
  },
  {
   "cell_type": "markdown",
   "metadata": {},
   "source": [
    "Напишем некоторорые функции, которые пригодятся нам позже для предобработки."
   ]
  },
  {
   "cell_type": "code",
   "execution_count": 7,
   "metadata": {},
   "outputs": [],
   "source": [
    "# пишем функцию, которая будет менять тип на datetime\n",
    "def convert_to_datetime(df, columns):\n",
    "    for col in columns:\n",
    "        if col in df.columns:\n",
    "            df[col] = pd.to_datetime(df[col], errors='coerce')\n",
    "    return df"
   ]
  },
  {
   "cell_type": "code",
   "execution_count": 8,
   "metadata": {},
   "outputs": [],
   "source": [
    "# пишем функцию, которая будет уменьшать разрядность int\n",
    "def downcast_int(df, columns):\n",
    "    for col in columns:\n",
    "        if col in df.columns:\n",
    "            df[col] = pd.to_numeric(df[col], downcast = 'integer')\n",
    "    return df"
   ]
  },
  {
   "cell_type": "code",
   "execution_count": 9,
   "metadata": {},
   "outputs": [],
   "source": [
    "# пишем функцию, которая будет уменьшать разрядность float\n",
    "def downcast_float(df, columns):\n",
    "    for col in columns:\n",
    "        if col in df.columns:\n",
    "            df[col] = pd.to_numeric(df[col], downcast = 'float')\n",
    "    return df"
   ]
  },
  {
   "cell_type": "markdown",
   "metadata": {},
   "source": [
    "Для упрощения работы мы объединим все данные в один датафрейм. Для этого необходимо привести столбцы с датой к типу `datetime`. Для этого воспользуемся функцией, которую мы писали ранее."
   ]
  },
  {
   "cell_type": "code",
   "execution_count": 10,
   "metadata": {},
   "outputs": [],
   "source": [
    "# меняем тип на datetime\n",
    "orders_df = convert_to_datetime(orders_df, columns = ['created_ts_msk', 'created_dt_msk'])\n",
    "tenge_df = convert_to_datetime(tenge_df, columns = ['data'])"
   ]
  },
  {
   "cell_type": "code",
   "execution_count": 11,
   "metadata": {},
   "outputs": [],
   "source": [
    "# объединяем orders_df и tenge_df\n",
    "merged = pd.merge(orders_df, tenge_df, left_on = 'created_dt_msk', right_on='data', how='left')"
   ]
  },
  {
   "cell_type": "code",
   "execution_count": 12,
   "metadata": {},
   "outputs": [],
   "source": [
    "# объединяем merged и events_df\n",
    "merged_df = pd.merge(merged, events_df, on = 'event_id', how='inner')"
   ]
  },
  {
   "cell_type": "markdown",
   "metadata": {},
   "source": [
    "Мы объединили и проверили данные. Мы использовали `inner` при втором объединение по причине того, что в `events_df` были удалены данные о мероприятиях с типом **фильм**. И при **левом** соединении были бы пропуски в итоговом датафрейме.\n",
    "\n",
    "Далее мы будем работать с этим датафреймом."
   ]
  },
  {
   "cell_type": "code",
   "execution_count": 13,
   "metadata": {},
   "outputs": [],
   "source": [
    "# удаляем № из данных столбца organizers\n",
    "merged_df['organizers'] = merged_df['organizers'].str.replace(r'№', '', regex=True)"
   ]
  },
  {
   "cell_type": "code",
   "execution_count": 14,
   "metadata": {},
   "outputs": [],
   "source": [
    "merged_df['days_since_prev'].fillna('0', inplace=True)\n",
    "merged_df['days_since_prev'] = merged_df['days_since_prev'].astype('int64')"
   ]
  },
  {
   "cell_type": "code",
   "execution_count": 15,
   "metadata": {},
   "outputs": [
    {
     "name": "stdout",
     "output_type": "stream",
     "text": [
      "<class 'pandas.core.frame.DataFrame'>\n",
      "Int64Index: 290611 entries, 0 to 290610\n",
      "Data columns (total 28 columns):\n",
      " #   Column                  Non-Null Count   Dtype         \n",
      "---  ------                  --------------   -----         \n",
      " 0   order_id                290611 non-null  int64         \n",
      " 1   user_id                 290611 non-null  object        \n",
      " 2   created_dt_msk          290611 non-null  datetime64[ns]\n",
      " 3   created_ts_msk          290611 non-null  datetime64[ns]\n",
      " 4   event_id                290611 non-null  int64         \n",
      " 5   cinema_circuit          290611 non-null  object        \n",
      " 6   age_limit               290611 non-null  int64         \n",
      " 7   currency_code           290611 non-null  object        \n",
      " 8   device_type_canonical   290611 non-null  object        \n",
      " 9   revenue                 290611 non-null  float64       \n",
      " 10  service_name            290611 non-null  object        \n",
      " 11  tickets_count           290611 non-null  int64         \n",
      " 12  total                   290611 non-null  float64       \n",
      " 13  days_since_prev         290611 non-null  int64         \n",
      " 14  data                    290611 non-null  datetime64[ns]\n",
      " 15  nominal                 290611 non-null  int64         \n",
      " 16  curs                    290611 non-null  float64       \n",
      " 17  cdx                     290611 non-null  object        \n",
      " 18  event_name              290611 non-null  object        \n",
      " 19  event_type_description  290611 non-null  object        \n",
      " 20  event_type_main         290611 non-null  object        \n",
      " 21  organizers              290611 non-null  object        \n",
      " 22  region_name             290611 non-null  object        \n",
      " 23  city_name               290611 non-null  object        \n",
      " 24  city_id                 290611 non-null  int64         \n",
      " 25  venue_id                290611 non-null  int64         \n",
      " 26  venue_name              290611 non-null  object        \n",
      " 27  venue_address           290611 non-null  object        \n",
      "dtypes: datetime64[ns](3), float64(3), int64(8), object(14)\n",
      "memory usage: 64.3+ MB\n"
     ]
    }
   ],
   "source": [
    "# выводим обновленную информацию\n",
    "merged_df.info()"
   ]
  },
  {
   "cell_type": "markdown",
   "metadata": {},
   "source": [
    "Теперь проверим уникальные значения в категориальных столбцах."
   ]
  },
  {
   "cell_type": "code",
   "execution_count": 16,
   "metadata": {
    "scrolled": false
   },
   "outputs": [
    {
     "name": "stdout",
     "output_type": "stream",
     "text": [
      "\n",
      "--- device_type_canonical ---\n",
      "Уникальных значений: 2\n",
      "['mobile' 'desktop']\n",
      "\n",
      "--- cinema_circuit ---\n",
      "Уникальных значений: 6\n",
      "['нет' 'Другое' 'КиноСити' 'Киномакс' 'Москино' 'ЦентрФильм']\n",
      "\n",
      "--- currency_code ---\n",
      "Уникальных значений: 2\n",
      "['rub' 'kzt']\n",
      "\n",
      "--- service_name ---\n",
      "Уникальных значений: 36\n",
      "['Край билетов' 'Мой билет' 'За билетом!' 'Лови билет!'\n",
      " 'Билеты без проблем' 'Билеты в руки' 'Облачко' 'Дом культуры'\n",
      " 'Весь в билетах' 'Лучшие билеты' 'Прачечная' 'Выступления.ру' 'Мир касс'\n",
      " 'Тебе билет!' 'Быстробилет' 'Яблоко' 'Show_ticket'\n",
      " 'Городской дом культуры' 'Билет по телефону' 'Crazy ticket!' 'Росбилет'\n",
      " 'Шоу начинается!' 'Цвет и билет' 'Быстрый кассир' 'Восьмёрка' 'Телебилет'\n",
      " 'Реестр' 'КарандашРУ' 'Радио ticket' 'Дырокол' 'Вперёд!' 'Кино билет'\n",
      " 'Зе Бест!' 'Тех билет' 'Лимоны' 'Билеты в интернете']\n",
      "\n",
      "--- event_type_description ---\n",
      "Уникальных значений: 20\n",
      "['спектакль' 'событие' 'цирковое шоу' 'выставка' 'шоу' 'концерт' 'спорт'\n",
      " 'мюзикл' 'фестиваль' 'ёлка' 'балет' 'спортивное мероприятие' 'опера'\n",
      " 'музыкальный спектакль' 'кукольный спектакль' 'оперетта' 'снегурочка'\n",
      " 'рок-мюзикл' 'экскурсия' 'подарок']\n",
      "\n",
      "--- event_type_main ---\n",
      "Уникальных значений: 7\n",
      "['театр' 'выставки' 'другое' 'стендап' 'концерты' 'спорт' 'ёлки']\n",
      "\n",
      "--- organizers ---\n",
      "Уникальных значений: 4293\n",
      "['3322' '4850' '1540' ... '1161' '3497' '1904']\n",
      "\n",
      "--- region_name ---\n",
      "Уникальных значений: 81\n",
      "['Каменевский регион' 'Североярская область' 'Озернинский край'\n",
      " 'Лугоградская область' 'Поленовский край' 'Широковская область'\n",
      " 'Медовская область' 'Златопольский округ' 'Малиновоярский округ'\n",
      " 'Яблоневская область' 'Ветренский регион' 'Боровлянский край'\n",
      " 'Крутоводская область' 'Ягодиновская область' 'Серебряноярский округ'\n",
      " 'Лесодальний край' 'Верхоречная область' 'Горицветская область'\n",
      " 'Речиновская область' 'Травиницкий округ' 'Сосновская область'\n",
      " 'Серебринская область' 'Травяная область' 'Каменноярский край'\n",
      " 'Солнечноземская область' 'Светополянский округ' 'Заречная область'\n",
      " 'Ручейковский край' 'Глиногорская область' 'Тепляковская область'\n",
      " 'Каменноозёрный край' 'Солнечнореченская область' 'Зоринский регион'\n",
      " 'Берёзовская область' 'Лесостепной край' 'Малиновая область'\n",
      " 'Синегорский регион' 'Луговая область' 'Шанырский регион'\n",
      " 'Каменополянский округ' 'Речицкая область' 'Горностепной регион'\n",
      " 'Речицкий регион' 'Золотоключевской край' 'Лесоярская область'\n",
      " 'Зеленоградский округ' 'Миропольская область' 'Дальнеземская область'\n",
      " 'Озернопольская область' 'Берестовский округ' 'Ключеводский округ'\n",
      " 'Нежинская область' 'Дальнезорский край' 'Вишнёвский край'\n",
      " 'Каменичская область' 'Голубевский округ' 'Тихогорская область'\n",
      " 'Крутоводский регион' 'Чистогорская область' 'Североозёрский округ'\n",
      " 'Тихолесский край' 'Кристальная область' 'Горноземский регион'\n",
      " 'Радужнопольский край' 'Белоярская область' 'Островная область'\n",
      " 'Тихореченская область' 'Кристаловская область' 'Яснопольский округ'\n",
      " 'Островогорский округ' 'Радужногорская область' 'Дубравная область'\n",
      " 'Залесский край' 'Североключевской округ' 'Верховинская область'\n",
      " 'Светолесский край' 'Сосноводолинская область' 'Верхозёрский край'\n",
      " 'Лесноярский край' 'Теплоозёрский округ' 'Лесополянская область']\n",
      "\n",
      "--- city_name ---\n",
      "Уникальных значений: 352\n",
      "['Глиногорск' 'Озёрск' 'Родниковецк' 'Кристалевск' 'Дальнозолотск'\n",
      " 'Радужнополье' 'Радужсвет' 'Кумсай' 'Верховино' 'Светополье' 'Кокжар'\n",
      " 'Каменский' 'Лесоярич' 'Никольянов' 'Речинцево' 'Лесозолотск'\n",
      " 'Дальнозерск' 'Серебрянка' 'Островецк' 'Родниковец' 'Дальнесветск'\n",
      " 'Луговаярово' 'Ягодиновка' 'Дальнополин' 'Солчелуг' 'Озёрчане'\n",
      " 'Серебровино' 'Лесоярово' 'Глинополье' 'Глиноград' 'Дальнесветин'\n",
      " 'Северополье' 'Теплоозеро' 'Горнодолинск' 'Ордакент' 'Озёрово'\n",
      " 'Луговинск' 'Лугоград' 'Златопольск' 'Крутовинск' 'Сарыжар' 'Сосновечин'\n",
      " 'Тихоярск' 'Яблонецк' 'Жаркентай' 'Широковка' 'Синеводов' 'Синеводск'\n",
      " 'Тихосветск' 'Радужанов' 'Глиногорь' 'Каменосветск' 'Родниковск'\n",
      " 'Травогород' 'Глинянск' 'Радужинск' 'Поляногорье' 'Дальнолесье'\n",
      " 'Ручейник' 'Ключеград' 'Ключеводск' 'Поленовино' 'Речичанск'\n",
      " 'Ключевополье' 'Шаныртау' 'Дальнесоснов' 'Ордасай' 'Теплоозёрск'\n",
      " 'Чистогорье' 'Ручейный' 'Островярово' 'Ягодинск' 'Поленоозёрово'\n",
      " 'Акбасты' 'Медовино' 'Каменёвка' 'Рощино' 'Солнечнёвка' 'Верхозолотск'\n",
      " 'Боровлянск' 'Лугиново' 'Сосноград' 'Радужнояр' 'Кенесар' 'Островенск'\n",
      " 'Горнополец' 'Яблоновец' 'Вишнёво' 'Ясногородин' 'Нежинск' 'Малиноворск'\n",
      " 'Леснойск' 'Озёриново' 'Островополь' 'Тихоречка' 'Поленояр' 'Ручьевино'\n",
      " 'Травяниново' 'Кристаловец' 'Буркиттау' 'Ручейковск' 'Песковино'\n",
      " 'Горнополье' 'Зоревец' 'Акбастау' 'Заречиновка' 'Сосновогорец'\n",
      " 'Лесочистка' 'Лесоводск' 'Каменевовск' 'Сарытау' 'Малиновец' 'Речевинец'\n",
      " 'Кристалинск' 'Верхоозёров' 'Травяночистск' 'Байкуль' 'Светоярчик'\n",
      " 'Зориново' 'Лесореченск' 'Водниково' 'Берестовец' 'Мироярово'\n",
      " 'Медвежанск' 'Тихолесье' 'Каменичи' 'Тихогорово' 'Лесиново'\n",
      " 'Синегориново' 'Зелёнаярово' 'Лесозерск' 'Солнечеполье' 'Солнечеводск'\n",
      " 'Лесогорич' 'Ключевогорск' 'Нивинск' 'Травогорск' 'Лесоярка' 'Шынгысай'\n",
      " 'Луговское' 'Горноставинск' 'Зоречанск' 'Ручейновинск' 'Лесодолинск'\n",
      " 'Поленовец' 'Крутово' 'Зеленополье' 'Тепляковск' 'Желкаин' 'Березиноск'\n",
      " 'Горнополянск' 'Песчанская' 'Светополь' 'Поленоград' 'Вишнёвогорск'\n",
      " 'Северогорск' 'Речное' 'Каменевск' 'Травянский' 'Глинозорь' 'Луговинец'\n",
      " 'Серебровка' 'Горяново' 'Медовецк' 'Каменозолото' 'Желтоксан' 'Ясногорец'\n",
      " 'Горицветск' 'Ясносветск' 'Сосновинск' 'Белоярск' 'Солнечейск' 'Каменояр'\n",
      " 'Зеленолесье' 'Нуртас' 'Светогория' 'Беловодск' 'Малиновинск'\n",
      " 'Серебринск' 'Ключевинск' 'Тихозорин' 'Голубино' 'Долиновка' 'Шалкартау'\n",
      " 'Миросветск' 'Травяниково' 'Ясноград' 'Светочистенск' 'Кумсары'\n",
      " 'Зеленоградовск' 'Поленосветск' 'Каменодолин' 'Вишнёводск'\n",
      " 'Северобережье' 'Светозёринск' 'Каражар' 'Горнополёк' 'Ключезолотск'\n",
      " 'Горнолуг' 'Песчанец' 'Бережанка' 'Соловьёвка' 'Крутоводск' 'Бозарык'\n",
      " 'Родничанск' 'Берёзодальн' 'Озёречин' 'Поленосвет' 'Зоревичск' 'Коксуйск'\n",
      " 'Златоречинск' 'Жетисайск' 'Байтерековск' 'Акжолтау' 'Сереброяр'\n",
      " 'Яблоневое' 'Лесинск' 'Речинск' 'Заречнинск' 'Яснополянск' 'Речиноград'\n",
      " 'Радужнаярова' 'Светозорск' 'Горнополяровск' 'Речепольск' 'Тиходеревск'\n",
      " 'Ягодиноград' 'Желтау' 'Поленовичи' 'Тулебайск' 'Златоозёрово'\n",
      " 'Кристальевка' 'Сарыбулак' 'Сосновогорск' 'Теплоград' 'Яблоневск'\n",
      " 'Реченск' 'Бурьяново' 'Островозёров' 'Солнечёвино' 'Берёзоречье'\n",
      " 'Ветеринск' 'Тихолесьевск' 'Зореполин' 'Тихоозёрск' 'Родинсветск'\n",
      " 'Медвежник' 'Ясновский' 'Заречнаярово' 'Светоярич' 'Ручейницк'\n",
      " 'Лесогорский' 'Зелёново' 'Крутоводинск' 'Яснолесье' 'Солнечелесье'\n",
      " 'Луновка' 'Мироград' 'Светлоярск' 'Североград' 'Медвежиновск' 'Сосновецк'\n",
      " 'Зеленополин' 'Каражол' 'Заречка' 'Глинореч' 'Каменевский' 'Берёзогорск'\n",
      " 'Светозолотск' 'Гореловск' 'Малиновочист' 'Островской' 'Каменогорье'\n",
      " 'Чистояр' 'Ташбулак' 'Бережанск' 'Кристалин' 'Зареченец' 'Талдысай'\n",
      " 'Ягодино' 'Синеполинск' 'Берестяград' 'Алтынсай' 'Заречийск'\n",
      " 'Берёзополье' 'Зеленополец' 'Шынартас' 'Радужновка' 'Поленолесье'\n",
      " 'Златоречье' 'Островсков' 'Тогусжол' 'Светоречин' 'Айкольск'\n",
      " 'Радужовинск' 'Айсуак' 'Заречник' 'Глинолес' 'Зелёнояр' 'Синегорск'\n",
      " 'Каменогорский' 'Полянск' 'Крутовичи' 'Глинозолото' 'Ягодинска'\n",
      " 'Верховка' 'Тепляровск' 'Реченогор' 'Озёроярск' 'Тастай' 'Светоярово'\n",
      " 'Верхозорье' 'Поляноречинск' 'Малиновецк' 'Острововск' 'Светочистка'\n",
      " 'Долиновск' 'Мирополь' 'Озёряновск' 'Златополье' 'Кристаловка'\n",
      " 'Берёзореч' 'Зеленогорье' 'Солнечеград' 'Голубевск' 'Глинополянск'\n",
      " 'Радугорь' 'Кристолесье' 'Березиногорск' 'Миролесье' 'Заречинск'\n",
      " 'Ягодиноск' 'Байсары' 'Берёзиново' 'Солнечегорск' 'Глинополин'\n",
      " 'Озёроград' 'Ягодинец' 'Алтынкала' 'Горнолесье' 'Карасуй' 'Лесополин'\n",
      " 'Дальнеград' 'Горноград' 'Березовцево' 'Берёзовка' 'Дальнозелен'\n",
      " 'Травино' 'Карасуйск' 'Кызылжол' 'Поляновск' 'Лесогорск']\n"
     ]
    }
   ],
   "source": [
    "# список категориальных столбцов\n",
    "cat_columns = [\n",
    "    'device_type_canonical', \n",
    "    'cinema_circuit', \n",
    "    'currency_code',\n",
    "    'service_name',\n",
    "    'event_type_description',\n",
    "    'event_type_main',\n",
    "    'organizers',\n",
    "    'region_name',\n",
    "    'city_name']\n",
    "\n",
    "# анализируем уникальные значения\n",
    "for col in cat_columns:\n",
    "    print(f\"\\n--- {col} ---\")\n",
    "    print(f\"Уникальных значений: {merged_df[col].nunique()}\")\n",
    "    print(merged_df[col].unique())"
   ]
  },
  {
   "cell_type": "markdown",
   "metadata": {},
   "source": [
    "<div class=\"alert alert-block alert-success\">✔️\n",
    "    \n",
    "\n",
    "__Комментарий от ревьюера №1__\n",
    "\n",
    "Отлично, что следишь за чистотой данных, проверяешь категориальные признаки на предмет аномалий и следишь за распределением данных по признакам. Так можно сразу отловить категории с небольшим количеством данных"
   ]
  },
  {
   "cell_type": "markdown",
   "metadata": {},
   "source": [
    "Мы изучили уникальные значения для категориальных столбцов. Данные корректны."
   ]
  },
  {
   "cell_type": "code",
   "execution_count": 17,
   "metadata": {
    "scrolled": false
   },
   "outputs": [
    {
     "name": "stdout",
     "output_type": "stream",
     "text": [
      "\n",
      "Статистика выручки (rub):\n",
      "count    285542.000000\n",
      "mean        548.013929\n",
      "std         871.750181\n",
      "min         -90.760000\n",
      "50%         346.630000\n",
      "90%        1276.150000\n",
      "95%        1607.100000\n",
      "99%        2570.800000\n",
      "max       81174.540000\n",
      "Name: revenue, dtype: float64\n"
     ]
    },
    {
     "data": {
      "image/png": "[encoded data removed]",
      "text/plain": [
       "<Figure size 1080x432 with 2 Axes>"
      ]
     },
     "metadata": {
      "needs_background": "light"
     },
     "output_type": "display_data"
    },
    {
     "name": "stdout",
     "output_type": "stream",
     "text": [
      "\n",
      "Статистика выручки (kzt):\n",
      "count     5069.000000\n",
      "mean      4995.206767\n",
      "std       4916.752776\n",
      "min          0.000000\n",
      "50%       3698.830000\n",
      "90%      13212.930000\n",
      "95%      13784.260000\n",
      "99%      17617.240000\n",
      "max      26425.860000\n",
      "Name: revenue, dtype: float64\n"
     ]
    },
    {
     "data": {
      "image/png": "[encoded data removed]",
      "text/plain": [
       "<Figure size 1080x432 with 2 Axes>"
      ]
     },
     "metadata": {
      "needs_background": "light"
     },
     "output_type": "display_data"
    },
    {
     "data": {
      "image/png": "[encoded data removed]",
      "text/plain": [
       "<Figure size 864x432 with 2 Axes>"
      ]
     },
     "metadata": {
      "needs_background": "light"
     },
     "output_type": "display_data"
    },
    {
     "name": "stdout",
     "output_type": "stream",
     "text": [
      "\n",
      "Сравнение данных до и после фильтрации:\n",
      "Исходное количество записей: 290611\n",
      "Отфильтровано выбросов: 2829\n",
      "Осталось записей: 287782 (99.0%)\n"
     ]
    }
   ],
   "source": [
    "# разделяем по валютам\n",
    "rub_data = merged_df[merged_df['currency_code'] == 'rub']\n",
    "kzt_data = merged_df[merged_df['currency_code'] == 'kzt']\n",
    "\n",
    "# анализ выручки\n",
    "def analyze_revenue(data, currency):\n",
    "    plt.figure(figsize=(15, 6))\n",
    "    \n",
    "    print(f\"\\nСтатистика выручки ({currency}):\")\n",
    "    print(data['revenue'].describe(percentiles=[0.5, 0.9, 0.95, 0.99]))\n",
    "    \n",
    "    plt.subplot(1, 2, 1)\n",
    "    sns.histplot(data['revenue'], bins=50, kde=True)\n",
    "    plt.title(f'Распределение выручки ({currency})')\n",
    "    \n",
    "    plt.subplot(1, 2, 2)\n",
    "    sns.boxplot(x=data['revenue'], showfliers=True)\n",
    "    plt.title(f'Ящик с усами ({currency})')\n",
    "    \n",
    "    plt.tight_layout()\n",
    "    plt.show()\n",
    "\n",
    "analyze_revenue(rub_data, 'rub')\n",
    "analyze_revenue(kzt_data, 'kzt')\n",
    "\n",
    "# фильтруем выбросы по 99 процентилю\n",
    "def filter_outliers(df):\n",
    "    threshold = df['revenue'].quantile(0.99)\n",
    "    return df[df['revenue'] <= threshold]\n",
    "\n",
    "rub_filtered = filter_outliers(rub_data)\n",
    "kzt_filtered = filter_outliers(kzt_data)\n",
    "\n",
    "# объединяем отфильтрованные данные\n",
    "filtered_df = pd.concat([rub_filtered, kzt_filtered])\n",
    "\n",
    "# анализируем количесто билетов\n",
    "plt.figure(figsize=(12, 6))\n",
    "plt.subplot(1, 2, 1)\n",
    "sns.histplot(filtered_df['tickets_count'], bins=30, kde=True)\n",
    "plt.title('Распределение количества билетов')\n",
    "\n",
    "plt.subplot(1, 2, 2)\n",
    "sns.boxplot(x=filtered_df['tickets_count'], showfliers=True)\n",
    "plt.title('Ящик с усами (билеты)')\n",
    "plt.show()\n",
    "\n",
    "# сравниваем до и после фильтрации\n",
    "print(\"\\nСравнение данных до и после фильтрации:\")\n",
    "print(f\"Исходное количество записей: {len(merged_df)}\")\n",
    "print(f\"Отфильтровано выбросов: {len(merged_df) - len(filtered_df)}\")\n",
    "print(f\"Осталось записей: {len(filtered_df)} ({len(filtered_df)/len(merged_df)*100:.1f}%)\")"
   ]
  },
  {
   "cell_type": "markdown",
   "metadata": {},
   "source": [
    "<div class=\"alert alert-block alert-warning\">📝\n",
    "    \n",
    "\n",
    "__Комментарий от ревьюера №1__\n",
    "    \n",
    "Вот тут `copy` нужен, так как мы создаём срезы из основной таблицы."
   ]
  },
  {
   "cell_type": "markdown",
   "metadata": {},
   "source": [
    "Как видно на графике - выбросы присутсвуют. Поэтому мы отобрали значения по 99-му процентилю."
   ]
  },
  {
   "cell_type": "code",
   "execution_count": 18,
   "metadata": {},
   "outputs": [
    {
     "name": "stdout",
     "output_type": "stream",
     "text": [
      "После удаления дубликотов осталось сток: 287751\n"
     ]
    }
   ],
   "source": [
    "# удаляем дубликаты\n",
    "processed_columns = filtered_df.drop(columns='order_id').columns.to_list()\n",
    "filtered_df.drop_duplicates(processed_columns, inplace=True)\n",
    "print(f\"После удаления дубликотов осталось сток: {len(filtered_df)}\")"
   ]
  },
  {
   "cell_type": "markdown",
   "metadata": {},
   "source": [
    "Мы нашли и удалили 30 дубликатов. Перейдем к созданию нескольких столбцов, которые будут необходимы для дальнейшей работы."
   ]
  },
  {
   "cell_type": "markdown",
   "metadata": {},
   "source": [
    "<div class=\"alert alert-block alert-success\">✔️\n",
    "    \n",
    "\n",
    "__Комментарий от ревьюера №1__\n",
    "\n",
    "Отлично. Неявные дубликаты обработаны"
   ]
  },
  {
   "cell_type": "markdown",
   "metadata": {},
   "source": [
    "Создадим следующие столбцы:\n",
    "- `revenue_rub` — это столбец с выручкой с заказа, приведенный к единой валюте — **российскому рублю**.\n",
    "- `one_ticket_revenue_rub` — это столбец с выручкой с продажи одного билета на мероприятие.\n",
    "- `month` — это столбец с месяцем оформления заказа в отдельный столбец.\n",
    "- `season` — это столбец с информацией о сезонности, включая такие категории, как: `лето`, `осень`, `зима`, `весна`."
   ]
  },
  {
   "cell_type": "code",
   "execution_count": 19,
   "metadata": {},
   "outputs": [],
   "source": [
    "# создаем revenue_rub\n",
    "filtered_df['revenue_rub'] = np.where(\n",
    "    filtered_df['currency_code'] == 'kzt',\n",
    "    filtered_df['revenue'] * filtered_df['curs'] / (filtered_df['nominal'] / 100),\n",
    "    filtered_df['revenue'])"
   ]
  },
  {
   "cell_type": "code",
   "execution_count": 20,
   "metadata": {},
   "outputs": [],
   "source": [
    "# создаем one_ticket_revenue_rub\n",
    "filtered_df['one_ticket_revenue_rub'] = np.where(\n",
    "    filtered_df['tickets_count'] > 0,\n",
    "    filtered_df['revenue_rub'] / filtered_df['tickets_count'], np.nan)"
   ]
  },
  {
   "cell_type": "code",
   "execution_count": 21,
   "metadata": {},
   "outputs": [],
   "source": [
    "# создаем month\n",
    "filtered_df['month'] = filtered_df['created_dt_msk'].dt.month"
   ]
  },
  {
   "cell_type": "code",
   "execution_count": 22,
   "metadata": {},
   "outputs": [],
   "source": [
    "# пишем функцию, которая определяем времена года\n",
    "def get_season(month):\n",
    "    if month in [12, 1, 2]:\n",
    "        return 'зима'\n",
    "    elif month in [3, 4, 5]:\n",
    "        return 'весна'\n",
    "    elif month in [6, 7, 8]:\n",
    "        return 'лето'\n",
    "    else:\n",
    "        return 'осень'\n",
    "\n",
    "# создаем season\n",
    "filtered_df['season'] = filtered_df['month'].apply(get_season)"
   ]
  },
  {
   "cell_type": "markdown",
   "metadata": {},
   "source": [
    "<div class=\"alert alert-block alert-success\">✔️\n",
    "    \n",
    "\n",
    "__Комментарий от ревьюера №1__\n",
    "\n",
    "Новые признаки добавлены в выборку."
   ]
  },
  {
   "cell_type": "code",
   "execution_count": 23,
   "metadata": {},
   "outputs": [],
   "source": [
    "# понижаем разрядность числовых столбцов\n",
    "filtered_df = downcast_int(filtered_df, columns = ['order_id', 'organizers', 'event_id', 'age_limit', \n",
    "                                               'tickets_count', 'nominal', 'city_id', 'venue_id', 'month', 'days_since_prev'])\n",
    "filtered_df = downcast_float(filtered_df, columns = ['revenue', 'total', \n",
    "                                                 'curs', 'revenue_rub', 'one_ticket_revenue_rub'])"
   ]
  },
  {
   "cell_type": "code",
   "execution_count": 24,
   "metadata": {},
   "outputs": [
    {
     "name": "stdout",
     "output_type": "stream",
     "text": [
      "<class 'pandas.core.frame.DataFrame'>\n",
      "Int64Index: 287751 entries, 0 to 289262\n",
      "Data columns (total 32 columns):\n",
      " #   Column                  Non-Null Count   Dtype         \n",
      "---  ------                  --------------   -----         \n",
      " 0   order_id                287751 non-null  int32         \n",
      " 1   user_id                 287751 non-null  object        \n",
      " 2   created_dt_msk          287751 non-null  datetime64[ns]\n",
      " 3   created_ts_msk          287751 non-null  datetime64[ns]\n",
      " 4   event_id                287751 non-null  int32         \n",
      " 5   cinema_circuit          287751 non-null  object        \n",
      " 6   age_limit               287751 non-null  int8          \n",
      " 7   currency_code           287751 non-null  object        \n",
      " 8   device_type_canonical   287751 non-null  object        \n",
      " 9   revenue                 287751 non-null  float32       \n",
      " 10  service_name            287751 non-null  object        \n",
      " 11  tickets_count           287751 non-null  int8          \n",
      " 12  total                   287751 non-null  float32       \n",
      " 13  days_since_prev         287751 non-null  int16         \n",
      " 14  data                    287751 non-null  datetime64[ns]\n",
      " 15  nominal                 287751 non-null  int8          \n",
      " 16  curs                    287751 non-null  float32       \n",
      " 17  cdx                     287751 non-null  object        \n",
      " 18  event_name              287751 non-null  object        \n",
      " 19  event_type_description  287751 non-null  object        \n",
      " 20  event_type_main         287751 non-null  object        \n",
      " 21  organizers              287751 non-null  int16         \n",
      " 22  region_name             287751 non-null  object        \n",
      " 23  city_name               287751 non-null  object        \n",
      " 24  city_id                 287751 non-null  int32         \n",
      " 25  venue_id                287751 non-null  int16         \n",
      " 26  venue_name              287751 non-null  object        \n",
      " 27  venue_address           287751 non-null  object        \n",
      " 28  revenue_rub             287751 non-null  float32       \n",
      " 29  one_ticket_revenue_rub  287751 non-null  float32       \n",
      " 30  month                   287751 non-null  int8          \n",
      " 31  season                  287751 non-null  object        \n",
      "dtypes: datetime64[ns](3), float32(5), int16(3), int32(3), int8(4), object(14)\n",
      "memory usage: 51.0+ MB\n"
     ]
    },
    {
     "data": {
      "text/plain": [
       "None"
      ]
     },
     "metadata": {},
     "output_type": "display_data"
    },
    {
     "data": {
      "text/html": [
       "<div>\n",
       "<style scoped>\n",
       "    .dataframe tbody tr th:only-of-type {\n",
       "        vertical-align: middle;\n",
       "    }\n",
       "\n",
       "    .dataframe tbody tr th {\n",
       "        vertical-align: top;\n",
       "    }\n",
       "\n",
       "    .dataframe thead th {\n",
       "        text-align: right;\n",
       "    }\n",
       "</style>\n",
       "<table border=\"1\" class=\"dataframe\">\n",
       "  <thead>\n",
       "    <tr style=\"text-align: right;\">\n",
       "      <th></th>\n",
       "      <th>order_id</th>\n",
       "      <th>user_id</th>\n",
       "      <th>created_dt_msk</th>\n",
       "      <th>created_ts_msk</th>\n",
       "      <th>event_id</th>\n",
       "      <th>cinema_circuit</th>\n",
       "      <th>age_limit</th>\n",
       "      <th>currency_code</th>\n",
       "      <th>device_type_canonical</th>\n",
       "      <th>revenue</th>\n",
       "      <th>...</th>\n",
       "      <th>region_name</th>\n",
       "      <th>city_name</th>\n",
       "      <th>city_id</th>\n",
       "      <th>venue_id</th>\n",
       "      <th>venue_name</th>\n",
       "      <th>venue_address</th>\n",
       "      <th>revenue_rub</th>\n",
       "      <th>one_ticket_revenue_rub</th>\n",
       "      <th>month</th>\n",
       "      <th>season</th>\n",
       "    </tr>\n",
       "  </thead>\n",
       "  <tbody>\n",
       "    <tr>\n",
       "      <th>0</th>\n",
       "      <td>4359165</td>\n",
       "      <td>0002849b70a3ce2</td>\n",
       "      <td>2024-08-20</td>\n",
       "      <td>2024-08-20 16:08:03</td>\n",
       "      <td>169230</td>\n",
       "      <td>нет</td>\n",
       "      <td>16</td>\n",
       "      <td>rub</td>\n",
       "      <td>mobile</td>\n",
       "      <td>1521.939941</td>\n",
       "      <td>...</td>\n",
       "      <td>Каменевский регион</td>\n",
       "      <td>Глиногорск</td>\n",
       "      <td>213</td>\n",
       "      <td>3972</td>\n",
       "      <td>Сценический центр \"Деталь\" Групп</td>\n",
       "      <td>алл. Машиностроителей, д. 19 стр. 6</td>\n",
       "      <td>1521.939941</td>\n",
       "      <td>380.484985</td>\n",
       "      <td>8</td>\n",
       "      <td>лето</td>\n",
       "    </tr>\n",
       "    <tr>\n",
       "      <th>1</th>\n",
       "      <td>7431164</td>\n",
       "      <td>024dc5236465850</td>\n",
       "      <td>2024-07-23</td>\n",
       "      <td>2024-07-23 20:52:02</td>\n",
       "      <td>169230</td>\n",
       "      <td>нет</td>\n",
       "      <td>16</td>\n",
       "      <td>rub</td>\n",
       "      <td>mobile</td>\n",
       "      <td>1902.420044</td>\n",
       "      <td>...</td>\n",
       "      <td>Каменевский регион</td>\n",
       "      <td>Глиногорск</td>\n",
       "      <td>213</td>\n",
       "      <td>3972</td>\n",
       "      <td>Сценический центр \"Деталь\" Групп</td>\n",
       "      <td>алл. Машиностроителей, д. 19 стр. 6</td>\n",
       "      <td>1902.420044</td>\n",
       "      <td>380.484009</td>\n",
       "      <td>7</td>\n",
       "      <td>лето</td>\n",
       "    </tr>\n",
       "    <tr>\n",
       "      <th>2</th>\n",
       "      <td>7431106</td>\n",
       "      <td>024dc5236465850</td>\n",
       "      <td>2024-07-23</td>\n",
       "      <td>2024-07-23 20:54:19</td>\n",
       "      <td>169230</td>\n",
       "      <td>нет</td>\n",
       "      <td>16</td>\n",
       "      <td>rub</td>\n",
       "      <td>mobile</td>\n",
       "      <td>1141.449951</td>\n",
       "      <td>...</td>\n",
       "      <td>Каменевский регион</td>\n",
       "      <td>Глиногорск</td>\n",
       "      <td>213</td>\n",
       "      <td>3972</td>\n",
       "      <td>Сценический центр \"Деталь\" Групп</td>\n",
       "      <td>алл. Машиностроителей, д. 19 стр. 6</td>\n",
       "      <td>1141.449951</td>\n",
       "      <td>380.483337</td>\n",
       "      <td>7</td>\n",
       "      <td>лето</td>\n",
       "    </tr>\n",
       "    <tr>\n",
       "      <th>3</th>\n",
       "      <td>7431135</td>\n",
       "      <td>024dc5236465850</td>\n",
       "      <td>2024-07-23</td>\n",
       "      <td>2024-07-23 20:59:44</td>\n",
       "      <td>169230</td>\n",
       "      <td>нет</td>\n",
       "      <td>16</td>\n",
       "      <td>rub</td>\n",
       "      <td>mobile</td>\n",
       "      <td>1902.420044</td>\n",
       "      <td>...</td>\n",
       "      <td>Каменевский регион</td>\n",
       "      <td>Глиногорск</td>\n",
       "      <td>213</td>\n",
       "      <td>3972</td>\n",
       "      <td>Сценический центр \"Деталь\" Групп</td>\n",
       "      <td>алл. Машиностроителей, д. 19 стр. 6</td>\n",
       "      <td>1902.420044</td>\n",
       "      <td>380.484009</td>\n",
       "      <td>7</td>\n",
       "      <td>лето</td>\n",
       "    </tr>\n",
       "    <tr>\n",
       "      <th>4</th>\n",
       "      <td>7431048</td>\n",
       "      <td>024dc5236465850</td>\n",
       "      <td>2024-07-23</td>\n",
       "      <td>2024-07-23 21:02:08</td>\n",
       "      <td>169230</td>\n",
       "      <td>нет</td>\n",
       "      <td>16</td>\n",
       "      <td>rub</td>\n",
       "      <td>mobile</td>\n",
       "      <td>1521.939941</td>\n",
       "      <td>...</td>\n",
       "      <td>Каменевский регион</td>\n",
       "      <td>Глиногорск</td>\n",
       "      <td>213</td>\n",
       "      <td>3972</td>\n",
       "      <td>Сценический центр \"Деталь\" Групп</td>\n",
       "      <td>алл. Машиностроителей, д. 19 стр. 6</td>\n",
       "      <td>1521.939941</td>\n",
       "      <td>380.484985</td>\n",
       "      <td>7</td>\n",
       "      <td>лето</td>\n",
       "    </tr>\n",
       "  </tbody>\n",
       "</table>\n",
       "<p>5 rows × 32 columns</p>\n",
       "</div>"
      ],
      "text/plain": [
       "   order_id          user_id created_dt_msk      created_ts_msk  event_id  \\\n",
       "0   4359165  0002849b70a3ce2     2024-08-20 2024-08-20 16:08:03    169230   \n",
       "1   7431164  024dc5236465850     2024-07-23 2024-07-23 20:52:02    169230   \n",
       "2   7431106  024dc5236465850     2024-07-23 2024-07-23 20:54:19    169230   \n",
       "3   7431135  024dc5236465850     2024-07-23 2024-07-23 20:59:44    169230   \n",
       "4   7431048  024dc5236465850     2024-07-23 2024-07-23 21:02:08    169230   \n",
       "\n",
       "  cinema_circuit  age_limit currency_code device_type_canonical      revenue  \\\n",
       "0            нет         16           rub                mobile  1521.939941   \n",
       "1            нет         16           rub                mobile  1902.420044   \n",
       "2            нет         16           rub                mobile  1141.449951   \n",
       "3            нет         16           rub                mobile  1902.420044   \n",
       "4            нет         16           rub                mobile  1521.939941   \n",
       "\n",
       "   ...         region_name   city_name  city_id  venue_id  \\\n",
       "0  ...  Каменевский регион  Глиногорск      213      3972   \n",
       "1  ...  Каменевский регион  Глиногорск      213      3972   \n",
       "2  ...  Каменевский регион  Глиногорск      213      3972   \n",
       "3  ...  Каменевский регион  Глиногорск      213      3972   \n",
       "4  ...  Каменевский регион  Глиногорск      213      3972   \n",
       "\n",
       "                         venue_name                        venue_address  \\\n",
       "0  Сценический центр \"Деталь\" Групп  алл. Машиностроителей, д. 19 стр. 6   \n",
       "1  Сценический центр \"Деталь\" Групп  алл. Машиностроителей, д. 19 стр. 6   \n",
       "2  Сценический центр \"Деталь\" Групп  алл. Машиностроителей, д. 19 стр. 6   \n",
       "3  Сценический центр \"Деталь\" Групп  алл. Машиностроителей, д. 19 стр. 6   \n",
       "4  Сценический центр \"Деталь\" Групп  алл. Машиностроителей, д. 19 стр. 6   \n",
       "\n",
       "   revenue_rub one_ticket_revenue_rub month season  \n",
       "0  1521.939941             380.484985     8   лето  \n",
       "1  1902.420044             380.484009     7   лето  \n",
       "2  1141.449951             380.483337     7   лето  \n",
       "3  1902.420044             380.484009     7   лето  \n",
       "4  1521.939941             380.484985     7   лето  \n",
       "\n",
       "[5 rows x 32 columns]"
      ]
     },
     "metadata": {},
     "output_type": "display_data"
    }
   ],
   "source": [
    "display(filtered_df.info())\n",
    "display(filtered_df.head())"
   ]
  },
  {
   "cell_type": "code",
   "execution_count": 37,
   "metadata": {},
   "outputs": [
    {
     "name": "stdout",
     "output_type": "stream",
     "text": [
      "Было удалено 0.98% строк\n"
     ]
    }
   ],
   "source": [
    "count_del_str = (merged_df.shape[0] - filtered_df.shape[0]) / merged_df.shape[0] * 100\n",
    "print(f\"Было удалено {count_del_str:.2f}% строк\")"
   ]
  },
  {
   "cell_type": "markdown",
   "metadata": {},
   "source": [
    "На данном этапе было сделано:\n",
    "- Были объеденены три датафрейма в один. Сейчас он содержит **287752** строк и **32** столбца. В т.ч. 4 новых: `revenue_rub`, `one_ticket_revenue_rub`, `month` и `season`. Мы удалили менее **1%** данных.\n",
    "- Изучили значения в ключевых столбцах. Кроме столбца `days_since_prev`, данные не содержат пропусков.\n",
    "- Удалили дубликаты.\n",
    "- Было проведено преобразование типов данных и понижение разрядности в столбцах с числовыми типами данных."
   ]
  },
  {
   "cell_type": "markdown",
   "metadata": {},
   "source": [
    "<div class=\"alert alert-block alert-danger\">✍\n",
    "    \n",
    "\n",
    "__Комментарий от ревьюера №1__\n",
    "\n",
    "    \n",
    "Давай дополнительно еще рассчитаем долю срезанных данных"
   ]
  },
  {
   "cell_type": "markdown",
   "metadata": {},
   "source": [
    "<div class=\"alert alert-info\"> <b>Комментарии студента:</b> Добавила.</div>"
   ]
  },
  {
   "cell_type": "markdown",
   "metadata": {},
   "source": [
    "<div class=\"alert alert-block alert-success\">✔️\n",
    "    \n",
    "\n",
    "__Комментарий от ревьюера №2__\n",
    "\n",
    "Отлично, реализован корректный вывод об основных изменениях, а также посчитаны потери данных."
   ]
  },
  {
   "cell_type": "markdown",
   "metadata": {},
   "source": [
    "## Исследовательский анализ данных\n",
    "\n",
    "Теперь преступим к исследовательскому анализу данных. \n",
    "\n",
    "На этом этапе мы изучим распределение заказов по сегментам и их сезонные изменения. Изучим осеннюю активность пользователей , а также популярность событий и партнеров."
   ]
  },
  {
   "cell_type": "markdown",
   "metadata": {},
   "source": [
    "### Анализ распределения заказов по сегментам и их сезонные изменения\n",
    "Анализ дашборда показал, что в данных наблюдается сезонность — осенью количество заказов увеличивается. На этой стадии исследовательского анализа изучим изменения пользовательской активности или пользовательского интереса в связи с сезонностью."
   ]
  },
  {
   "cell_type": "code",
   "execution_count": 40,
   "metadata": {
    "scrolled": false
   },
   "outputs": [
    {
     "data": {
      "image/png": "[encoded data removed]",
      "text/plain": [
       "<Figure size 864x432 with 1 Axes>"
      ]
     },
     "metadata": {
      "needs_background": "light"
     },
     "output_type": "display_data"
    }
   ],
   "source": [
    "# строим график количества заказов по месяцам\n",
    "plt.figure(figsize=(12, 6))\n",
    "monthly_orders = filtered_df.groupby('month')['order_id'].count().reset_index()\n",
    "sns.lineplot(x='month', y='order_id', data=monthly_orders, marker='o')\n",
    "\n",
    "plt.title('Динамика количества заказов по месяцам 2024 года')\n",
    "plt.xlabel('Месяц')\n",
    "plt.ylabel('Количество заказов')\n",
    "plt.xticks(range(6,11))\n",
    "\n",
    "plt.grid(True)\n",
    "plt.show()"
   ]
  },
  {
   "cell_type": "markdown",
   "metadata": {},
   "source": [
    "<div class=\"alert alert-block alert-danger\">✍\n",
    "    \n",
    "\n",
    "__Комментарий от ревьюера №1__\n",
    "\n",
    "    \n",
    "отображаешь месяцы без заказов"
   ]
  },
  {
   "cell_type": "markdown",
   "metadata": {},
   "source": [
    "<div class=\"alert alert-info\"> <b>Комментарии студента:</b> Исправила.</div>"
   ]
  },
  {
   "cell_type": "markdown",
   "metadata": {},
   "source": [
    "<div class=\"alert alert-block alert-success\">✔️\n",
    "    \n",
    "\n",
    "__Комментарий от ревьюера №2__\n",
    "Учтено"
   ]
  },
  {
   "cell_type": "markdown",
   "metadata": {},
   "source": [
    "На графике видно, что есть устойчивый тренд на увеличение количества покупок к осени."
   ]
  },
  {
   "cell_type": "code",
   "execution_count": 26,
   "metadata": {},
   "outputs": [
    {
     "data": {
      "image/png": "[encoded data removed]",
      "text/plain": [
       "<Figure size 864x432 with 1 Axes>"
      ]
     },
     "metadata": {
      "needs_background": "light"
     },
     "output_type": "display_data"
    },
    {
     "data": {
      "image/png": "[encoded data removed]",
      "text/plain": [
       "<Figure size 864x432 with 1 Axes>"
      ]
     },
     "metadata": {
      "needs_background": "light"
     },
     "output_type": "display_data"
    },
    {
     "data": {
      "image/png": "[encoded data removed]",
      "text/plain": [
       "<Figure size 864x432 with 1 Axes>"
      ]
     },
     "metadata": {
      "needs_background": "light"
     },
     "output_type": "display_data"
    }
   ],
   "source": [
    "def plot_seasonal_distribution(df, feature, title):\n",
    "    # фильтруем данные по сезонам\n",
    "    seasonal_df = df[df['season'].isin(['лето', 'осень'])]\n",
    "    \n",
    "    pivot = pd.crosstab(\n",
    "        index=seasonal_df[feature], \n",
    "        columns=seasonal_df['season'], \n",
    "        normalize='columns'\n",
    "    ).mul(100).round(2).reset_index()\n",
    "    \n",
    "    melted = pivot.melt(id_vars=feature, var_name='Сезон', value_name='Доля')\n",
    "    \n",
    "    # создаем график\n",
    "    plt.figure(figsize=(12, 6))\n",
    "    sns.barplot(\n",
    "        x='Доля', \n",
    "        y=feature, \n",
    "        hue='Сезон', \n",
    "        data=melted,\n",
    "        palette=['#8FBC8F', '#FFA07A'],\n",
    "        orient='h')\n",
    "    \n",
    "    # настройки отображения\n",
    "    plt.title(f'Распределение заказов по {title}\\nлето vs осень', pad=20)\n",
    "    plt.xlabel('Доля заказов, %', labelpad=10)\n",
    "    plt.ylabel('')\n",
    "    plt.grid(axis='x', linestyle='--', alpha=0.7)\n",
    "    plt.legend(title='Сезон', frameon=True)\n",
    "    plt.tight_layout()\n",
    "    plt.show()\n",
    "\n",
    "plot_seasonal_distribution(filtered_df, 'event_type_main', 'типам мероприятий')\n",
    "plot_seasonal_distribution(filtered_df, 'device_type_canonical', 'типам устройств')\n",
    "plot_seasonal_distribution(filtered_df, 'age_limit', 'возрастным категориям')"
   ]
  },
  {
   "cell_type": "markdown",
   "metadata": {},
   "source": [
    "Распределение заказов по типам мероприятий:\n",
    "- летом больше покупают билетов на **концерты, выставки, стендап и другое**;\n",
    "- осенью же пользуются большей популярностью такие категории, как **спорт, театр и елки**. \n",
    "\n",
    "Распределение заказов по типам устройств:\n",
    "- летом с мобильных устройств больше заказывают билетов, чем осенью. А на мобильных устройствах ситуация противоположная.\n",
    "\n",
    "Распределение заказов по возрастным категориям:\n",
    "- Летом более популярны следующие категории: **6+, 16+ и 18+**. \n",
    "- Осенью же лидирует следующие категории: **0+ и 12+**.\n",
    "\n",
    "Распределение вполне логично, объяснятся все сезонностью мероприятий. Напримир, летом проходит больше концертов, а на елки в основном покупают билеты осенью."
   ]
  },
  {
   "cell_type": "markdown",
   "metadata": {},
   "source": [
    "<div class=\"alert alert-block alert-success\">✔️\n",
    "    \n",
    "\n",
    "__Комментарий от ревьюера №1__\n",
    "\n",
    "Да, можно также заметить, что с июня по октябрь отмечается устойчивый рост количества заказов по различным сегментам. "
   ]
  },
  {
   "cell_type": "code",
   "execution_count": 27,
   "metadata": {},
   "outputs": [
    {
     "data": {
      "image/png": "[encoded data removed]",
      "text/plain": [
       "<Figure size 864x576 with 2 Axes>"
      ]
     },
     "metadata": {
      "needs_background": "light"
     },
     "output_type": "display_data"
    }
   ],
   "source": [
    "# фильтруем данные\n",
    "summer_autumn = filtered_df[filtered_df['season'].isin(['лето', 'осень'])]\n",
    "\n",
    "# расчет средней цены\n",
    "avg_price = summer_autumn.pivot_table(\n",
    "    index='event_type_main',\n",
    "    columns='season',\n",
    "    values='one_ticket_revenue_rub',\n",
    "    aggfunc='mean')\n",
    "\n",
    "# расчет изменения цены\n",
    "avg_price['change_%'] = ((avg_price['осень'] - avg_price['лето']) / avg_price['лето'] * 100).round(1)\n",
    "\n",
    "# сортируем данные\n",
    "avg_price = avg_price.sort_values('change_%', ascending=False)\n",
    "\n",
    "# создаем график\n",
    "plt.figure(figsize=(12, 8))\n",
    "\n",
    "# средние цены\n",
    "plt.subplot(2, 1, 1)\n",
    "sns.barplot(x=avg_price.index, y='лето', data=avg_price, color='green', label='Лето')\n",
    "sns.barplot(x=avg_price.index, y='осень', data=avg_price, color='orange', alpha=0.7, label='Осень')\n",
    "plt.title('Средняя цена билета')\n",
    "plt.ylabel('Рубли')\n",
    "plt.xticks(rotation=45)\n",
    "plt.legend()\n",
    "\n",
    "# изменения\n",
    "plt.subplot(2, 1, 2)\n",
    "sns.barplot(x=avg_price.index, y='change_%', data=avg_price, palette=['green' if x > 0 else 'red' for x in avg_price['change_%']])\n",
    "plt.axhline(0, color='black', linestyle='--')\n",
    "plt.title('Изменение цены осенью')\n",
    "plt.ylabel('Изменения %')\n",
    "plt.xlabel('Тип мероприятия')\n",
    "plt.xticks(rotation=45)\n",
    "\n",
    "plt.tight_layout()\n",
    "plt.show()"
   ]
  },
  {
   "cell_type": "markdown",
   "metadata": {},
   "source": [
    "Мы видим, что цена на билеты летом выше **(кроме стендапа и выставок)**. Особенно цена билета на концерт отличается.\n",
    "\n",
    "Что касается стендапа - тут цена на билет в зависимости от сезона не отличается. Цена на билеты на выставки растет с наступлением осени. Осень чаще проходят более крупные выставки с дорогими билетами."
   ]
  },
  {
   "cell_type": "markdown",
   "metadata": {},
   "source": [
    "<div class=\"alert alert-block alert-danger\">✍\n",
    "    \n",
    "\n",
    "__Комментарий от ревьюера №1__\n",
    "\n",
    "    \n",
    "`device_type_canonical` и `age_limit` также нужно исследовать с помощью долей."
   ]
  },
  {
   "cell_type": "markdown",
   "metadata": {},
   "source": [
    "<div class=\"alert alert-info\"> <b>Комментарии студента:</b> Не понимаю, что ты имеешь ввиду. Я же проводила исследования для осеннего и летнего периодо в разрезе `device_type_canonical` и `age_limit` с помощью долей.</div>"
   ]
  },
  {
   "cell_type": "markdown",
   "metadata": {},
   "source": [
    "<div class=\"alert alert-block alert-success\">✔️\n",
    "    \n",
    "\n",
    "__Комментарий от ревьюера №2__\n",
    "\n",
    "Прошу прощения, возможно на прошлой итерации графики не отобразились("
   ]
  },
  {
   "cell_type": "markdown",
   "metadata": {},
   "source": [
    "### Осенняя активность пользователей\n",
    "\n",
    "Изучим активность пользователей осенью 2024 года. "
   ]
  },
  {
   "cell_type": "code",
   "execution_count": 28,
   "metadata": {
    "scrolled": false
   },
   "outputs": [
    {
     "data": {
      "image/png": "[encoded data removed]",
      "text/plain": [
       "<Figure size 1008x1152 with 4 Axes>"
      ]
     },
     "metadata": {
      "needs_background": "light"
     },
     "output_type": "display_data"
    }
   ],
   "source": [
    "# фильтруем даныне за осень\n",
    "autumn_data = filtered_df[filtered_df['season'] == 'осень']\n",
    "\n",
    "# создаем свфодную таблицу\n",
    "daily_stats = autumn_data.groupby(pd.Grouper(key='created_dt_msk', freq='D')).agg(\n",
    "    total_orders=('order_id', 'count'),\n",
    "    dau=('user_id', 'nunique'),\n",
    "    avg_ticket_price=('one_ticket_revenue_rub', 'mean')\n",
    ").reset_index()\n",
    "\n",
    "daily_stats['orders_per_user'] = daily_stats['total_orders'] / daily_stats['dau']\n",
    "\n",
    "# строим график\n",
    "plt.figure(figsize=(14, 16))\n",
    "metrics = ['total_orders', 'dau', 'orders_per_user', 'avg_ticket_price']\n",
    "titles = [\n",
    "    'Общее число заказов', \n",
    "    'Активные пользователи (DAU)', \n",
    "    'Заказов на пользователя', \n",
    "    'Средняя стоимость билета']\n",
    "\n",
    "for i, metric in enumerate(metrics, 1):\n",
    "    plt.subplot(4, 1, i)\n",
    "    sns.lineplot(\n",
    "        data=daily_stats, \n",
    "        x='created_dt_msk', \n",
    "        y=metric, \n",
    "        color='#2ecc71' if i < 3 else '#e74c3c',\n",
    "        linewidth=2)\n",
    "    \n",
    "    plt.title(f'{titles[i-1]} по дням', pad=15, fontsize=14)\n",
    "    plt.xlabel('Дата', fontsize=12)\n",
    "    plt.ylabel('Значение' if i == 1 else '', fontsize=12)\n",
    "    plt.grid(True, alpha=0.3)\n",
    "    plt.fill_between(\n",
    "        daily_stats['created_dt_msk'], \n",
    "        daily_stats[metric], \n",
    "        alpha=0.1, \n",
    "        color='#3498db')\n",
    "    \n",
    "    weekends = daily_stats[daily_stats['created_dt_msk'].dt.dayofweek >= 5]['created_dt_msk']\n",
    "    for date in weekends:\n",
    "        plt.axvspan(date, date + pd.Timedelta(days=1), color='#f1c40f', alpha=0.1)\n",
    "\n",
    "plt.tight_layout()\n",
    "plt.show()"
   ]
  },
  {
   "cell_type": "markdown",
   "metadata": {},
   "source": [
    "Что можно отметить:\n",
    "- На графиках мы можем наблюдать, что происходят свсплески заказаов по вторникам.\n",
    "- Можно выявить тренд на увеличение числа заказов и активности пользователей к концу октября. \n",
    "- Уменьшение стоимости билетов к концу октября."
   ]
  },
  {
   "cell_type": "markdown",
   "metadata": {},
   "source": [
    "<div class=\"alert alert-block alert-danger\">✍\n",
    "    \n",
    "\n",
    "__Комментарий от ревьюера №1__\n",
    "\n",
    "    \n",
    "Лучше после каждого раздела, графика (или серии тестов) писать вывод по полученным данным с учетом поставленной бизнес задачи - так проще читать проект, поскольку будущим коллегам или заказчику не надо будет самим интерпретировать результаты каждого раздела, теста или графика."
   ]
  },
  {
   "cell_type": "markdown",
   "metadata": {},
   "source": [
    "<div class=\"alert alert-info\"> <b>Комментарии студента:</b> Исправила.</div>"
   ]
  },
  {
   "cell_type": "markdown",
   "metadata": {},
   "source": [
    "<div class=\"alert alert-block alert-success\">✔️\n",
    "    \n",
    "\n",
    "__Комментарий от ревьюера №2__\n",
    "\n",
    "Осенью 2024 года наблюдается положительная динамика: общее число заказов и количество активных пользователей постепенно увеличиваются. Среднее число заказов на одного пользователя остаётся стабильным, с пиками в отдельные дни. Средняя стоимость билета колеблется, но не демонстрирует чёткой тенденции."
   ]
  },
  {
   "cell_type": "code",
   "execution_count": 29,
   "metadata": {},
   "outputs": [
    {
     "data": {
      "image/png": "[encoded data removed]",
      "text/plain": [
       "<Figure size 864x432 with 1 Axes>"
      ]
     },
     "metadata": {
      "needs_background": "light"
     },
     "output_type": "display_data"
    }
   ],
   "source": [
    "# добавляем информацию о дне недели\n",
    "autumn_data['day_of_week'] = autumn_data['created_dt_msk'].dt.day_name()\n",
    "days_order = ['Monday', 'Tuesday', 'Wednesday', 'Thursday', 'Friday', 'Saturday', 'Sunday']\n",
    "autumn_data['day_of_week'] = pd.Categorical(\n",
    "    autumn_data['day_of_week'], \n",
    "    categories=days_order, \n",
    "    ordered=True)\n",
    "\n",
    "# группируем данные по дням недели\n",
    "daily_orders = autumn_data.groupby('day_of_week', observed=True)['order_id']\\\n",
    "                        .count()\\\n",
    "                        .reset_index(name='total_orders')\n",
    "\n",
    "# строим линейный график\n",
    "plt.figure(figsize=(12, 6))\n",
    "sns.lineplot(\n",
    "    data=daily_orders,\n",
    "    x='day_of_week',\n",
    "    y='total_orders',\n",
    "    marker='o',\n",
    "    markersize=8,\n",
    "    linewidth=2.5,\n",
    "    color='#2ecc71')\n",
    "\n",
    "plt.title('Распределение заказов по дням недели', fontsize=14)\n",
    "plt.xlabel('День недели', fontsize=12)\n",
    "plt.ylabel('Общее количество заказов', fontsize=12)\n",
    "plt.xticks(rotation=45)\n",
    "plt.grid(True, linestyle='--', alpha=0.7)\n",
    "\n",
    "plt.tight_layout()\n",
    "plt.show()"
   ]
  },
  {
   "cell_type": "code",
   "execution_count": 30,
   "metadata": {},
   "outputs": [
    {
     "data": {
      "image/png": "[encoded data removed]",
      "text/plain": [
       "<Figure size 1008x576 with 2 Axes>"
      ]
     },
     "metadata": {
      "needs_background": "light"
     },
     "output_type": "display_data"
    }
   ],
   "source": [
    "# строим тепловую карту\n",
    "plt.figure(figsize=(14, 8))\n",
    "\n",
    "# группируем данные по неделям и дням\n",
    "heatmap_data = autumn_data.groupby([\n",
    "    pd.Grouper(key='created_dt_msk', freq='W-MON'),\n",
    "    'day_of_week'\n",
    "])['order_id'].count().unstack()\n",
    "\n",
    "# преобразуем даты\n",
    "heatmap_data.index = heatmap_data.index.strftime('%Y-%m-%d')\n",
    "\n",
    "sns.heatmap(\n",
    "    heatmap_data.T,\n",
    "    cmap='YlGnBu',\n",
    "    annot=True,\n",
    "    fmt='d',\n",
    "    linewidths=0.5,\n",
    "    cbar_kws={'label': 'Количество заказов'})\n",
    "\n",
    "plt.title('Тепловая карта заказов по неделям', fontsize=14)\n",
    "plt.xlabel('Неделя', fontsize=12)\n",
    "plt.ylabel('День недели', fontsize=12)\n",
    "plt.xticks(rotation=45)\n",
    "plt.tight_layout()\n",
    "plt.show()"
   ]
  },
  {
   "cell_type": "markdown",
   "metadata": {},
   "source": [
    "Мы видим, что самый активный день - это вторник. Пятница и четверг также демонстрируют высокую активность, вероятно, это из-за подготовки к выходным. Также наблюдается спад активности к выходным. В понедельник и среду не так много заказов, но все равно выше, чем в выходные.\n",
    "\n",
    "На тепловой карте видно, что некоторые дни отличаются активностью пользователей. Коллегам необходимо изучить с чем это может быть связано. Возможно, это связано с маркетинговой компанией или какими-то конкретными мероприятиями. "
   ]
  },
  {
   "cell_type": "markdown",
   "metadata": {},
   "source": [
    "<div class=\"alert alert-block alert-success\">✔️\n",
    "    \n",
    "\n",
    "__Комментарий от ревьюера №1__\n",
    "\n",
    "Можно выделить явный рабочий ритм, где понедельник–пятница — это дни наибольшей активности, а выходные (суббота и особенно воскресенье) характеризуются спадом активности. А повышенная активность во вторник может быть связана с отложенными заказами после выходных или с внутренними привычками пользователей (например, планирование недели или закупки)."
   ]
  },
  {
   "cell_type": "markdown",
   "metadata": {},
   "source": []
  },
  {
   "cell_type": "markdown",
   "metadata": {},
   "source": [
    "### Популярные события и партнёры\n",
    "\n",
    "Мы изучили изменение популярности событий и пользовательской активности осенью 2024 года. Теперь посмотрим как события распределены по регионам и партнёрам."
   ]
  },
  {
   "cell_type": "code",
   "execution_count": 31,
   "metadata": {
    "scrolled": true
   },
   "outputs": [
    {
     "data": {
      "image/png": "[encoded data removed]",
      "text/plain": [
       "<Figure size 1152x720 with 1 Axes>"
      ]
     },
     "metadata": {
      "needs_background": "light"
     },
     "output_type": "display_data"
    }
   ],
   "source": [
    "# считаем метрики по регионам\n",
    "region_stats = filtered_df.groupby('region_name').agg(\n",
    "    unique_events=('event_id', 'nunique'),\n",
    "    total_orders=('order_id', 'count'),\n",
    "    total_revenue=('revenue_rub', 'sum')\n",
    ").reset_index()\n",
    "\n",
    "# рассчитываем доли\n",
    "total_events = region_stats['unique_events'].sum()\n",
    "total_orders = region_stats['total_orders'].sum()\n",
    "\n",
    "region_stats['event_share'] = region_stats['unique_events'] / total_events * 100\n",
    "region_stats['order_share'] = region_stats['total_orders'] / total_orders * 100\n",
    "\n",
    "# сортируем по уникальным мероприятиям\n",
    "region_stats = region_stats.sort_values('unique_events', ascending=False).reset_index(drop=True)\n",
    "\n",
    "# строим график\n",
    "plt.figure(figsize=(16, 10))\n",
    "sns.set_style(\"whitegrid\")\n",
    "\n",
    "plt.subplot(2, 2, 1)\n",
    "sns.barplot(x='unique_events', y='region_name', data=region_stats.head(15), palette='Greens_d')\n",
    "plt.title('Топ-15 регионов по количеству мероприятий')\n",
    "plt.xlabel('Количество уникальных мероприятий')\n",
    "plt.ylabel('Регион')\n",
    "\n",
    "plt.tight_layout()\n",
    "plt.show()"
   ]
  },
  {
   "cell_type": "markdown",
   "metadata": {},
   "source": [
    "<div class=\"alert alert-block alert-success\">✔️\n",
    "    \n",
    "\n",
    "__Комментарий от ревьюера №1__\n",
    "\n",
    "    \n",
    "Верное решение - для признаков с большим количеством уникальных значений стоит визуализировать топ-n значений по частоте, чтобы низкочастотные регионы не смещали акцент в анализе. Молодец!\n"
   ]
  },
  {
   "cell_type": "code",
   "execution_count": 32,
   "metadata": {},
   "outputs": [
    {
     "name": "stdout",
     "output_type": "stream",
     "text": [
      "\n",
      "Топ-5 регионов по разнообразию мероприятий:\n"
     ]
    },
    {
     "data": {
      "text/html": [
       "<div>\n",
       "<style scoped>\n",
       "    .dataframe tbody tr th:only-of-type {\n",
       "        vertical-align: middle;\n",
       "    }\n",
       "\n",
       "    .dataframe tbody tr th {\n",
       "        vertical-align: top;\n",
       "    }\n",
       "\n",
       "    .dataframe thead th {\n",
       "        text-align: right;\n",
       "    }\n",
       "</style>\n",
       "<table border=\"1\" class=\"dataframe\">\n",
       "  <thead>\n",
       "    <tr style=\"text-align: right;\">\n",
       "      <th></th>\n",
       "      <th>region_name</th>\n",
       "      <th>unique_events</th>\n",
       "      <th>event_share</th>\n",
       "    </tr>\n",
       "  </thead>\n",
       "  <tbody>\n",
       "    <tr>\n",
       "      <th>0</th>\n",
       "      <td>Каменевский регион</td>\n",
       "      <td>5935</td>\n",
       "      <td>26.544121</td>\n",
       "    </tr>\n",
       "    <tr>\n",
       "      <th>1</th>\n",
       "      <td>Североярская область</td>\n",
       "      <td>3800</td>\n",
       "      <td>16.995393</td>\n",
       "    </tr>\n",
       "    <tr>\n",
       "      <th>2</th>\n",
       "      <td>Широковская область</td>\n",
       "      <td>1232</td>\n",
       "      <td>5.510085</td>\n",
       "    </tr>\n",
       "    <tr>\n",
       "      <th>3</th>\n",
       "      <td>Светополянский округ</td>\n",
       "      <td>1075</td>\n",
       "      <td>4.807907</td>\n",
       "    </tr>\n",
       "    <tr>\n",
       "      <th>4</th>\n",
       "      <td>Речиновская область</td>\n",
       "      <td>702</td>\n",
       "      <td>3.139675</td>\n",
       "    </tr>\n",
       "  </tbody>\n",
       "</table>\n",
       "</div>"
      ],
      "text/plain": [
       "            region_name  unique_events  event_share\n",
       "0    Каменевский регион           5935    26.544121\n",
       "1  Североярская область           3800    16.995393\n",
       "2   Широковская область           1232     5.510085\n",
       "3  Светополянский округ           1075     4.807907\n",
       "4   Речиновская область            702     3.139675"
      ]
     },
     "metadata": {},
     "output_type": "display_data"
    },
    {
     "name": "stdout",
     "output_type": "stream",
     "text": [
      "\n",
      "Топ-5 регионов по соотношению мероприятий/заказы:\n"
     ]
    },
    {
     "data": {
      "text/html": [
       "<div>\n",
       "<style scoped>\n",
       "    .dataframe tbody tr th:only-of-type {\n",
       "        vertical-align: middle;\n",
       "    }\n",
       "\n",
       "    .dataframe tbody tr th {\n",
       "        vertical-align: top;\n",
       "    }\n",
       "\n",
       "    .dataframe thead th {\n",
       "        text-align: right;\n",
       "    }\n",
       "</style>\n",
       "<table border=\"1\" class=\"dataframe\">\n",
       "  <thead>\n",
       "    <tr style=\"text-align: right;\">\n",
       "      <th></th>\n",
       "      <th>region_name</th>\n",
       "      <th>events_per_order</th>\n",
       "    </tr>\n",
       "  </thead>\n",
       "  <tbody>\n",
       "    <tr>\n",
       "      <th>3</th>\n",
       "      <td>Светополянский округ</td>\n",
       "      <td>0.143295</td>\n",
       "    </tr>\n",
       "    <tr>\n",
       "      <th>4</th>\n",
       "      <td>Речиновская область</td>\n",
       "      <td>0.112015</td>\n",
       "    </tr>\n",
       "    <tr>\n",
       "      <th>1</th>\n",
       "      <td>Североярская область</td>\n",
       "      <td>0.086879</td>\n",
       "    </tr>\n",
       "    <tr>\n",
       "      <th>2</th>\n",
       "      <td>Широковская область</td>\n",
       "      <td>0.076195</td>\n",
       "    </tr>\n",
       "    <tr>\n",
       "      <th>0</th>\n",
       "      <td>Каменевский регион</td>\n",
       "      <td>0.066191</td>\n",
       "    </tr>\n",
       "  </tbody>\n",
       "</table>\n",
       "</div>"
      ],
      "text/plain": [
       "            region_name  events_per_order\n",
       "3  Светополянский округ          0.143295\n",
       "4   Речиновская область          0.112015\n",
       "1  Североярская область          0.086879\n",
       "2   Широковская область          0.076195\n",
       "0    Каменевский регион          0.066191"
      ]
     },
     "metadata": {},
     "output_type": "display_data"
    }
   ],
   "source": [
    "# регионы с наибольшим разнообразием\n",
    "region_stats['events_per_order'] = region_stats['unique_events'] / region_stats['total_orders']\n",
    "top_regions = region_stats.head()\n",
    "top_regions = top_regions.sort_values('events_per_order', ascending=False)\n",
    "\n",
    "print(\"\\nТоп-5 регионов по разнообразию мероприятий:\")\n",
    "display(region_stats[['region_name', 'unique_events', 'event_share']].head(5))\n",
    "\n",
    "print(\"\\nТоп-5 регионов по соотношению мероприятий/заказы:\")\n",
    "display(top_regions[['region_name', 'events_per_order']].head(5))"
   ]
  },
  {
   "cell_type": "markdown",
   "metadata": {},
   "source": [
    "Безусловный лидер по количеству уникальных мероприятий - **Каменевский регион**. На первом месте среди регионов по соотношению мероприятий/заказы находится **Светополянский округ**."
   ]
  },
  {
   "cell_type": "code",
   "execution_count": 33,
   "metadata": {},
   "outputs": [
    {
     "data": {
      "image/png": "[encoded data removed]",
      "text/plain": [
       "<Figure size 1152x720 with 1 Axes>"
      ]
     },
     "metadata": {},
     "output_type": "display_data"
    }
   ],
   "source": [
    "partner_stats = filtered_df.groupby('service_name').agg(\n",
    "    unique_events=('event_id', 'nunique'),\n",
    "    total_orders=('order_id', 'count'),\n",
    "    total_revenue=('revenue_rub', 'sum')\n",
    ").reset_index()\n",
    "\n",
    "# сортируем по выручке\n",
    "partner_stats = partner_stats.sort_values('total_revenue', ascending=False)\n",
    "\n",
    "# строим график\n",
    "plt.figure(figsize=(16, 10))\n",
    "sns.set_style(\"whitegrid\")\n",
    "colors = sns.color_palette(\"husl\", 3)\n",
    "\n",
    "# топ-10 партнеров по выручке\n",
    "plt.subplot(2, 2, 1)\n",
    "sns.barplot(\n",
    "    x='total_revenue', \n",
    "    y='service_name', \n",
    "    data=partner_stats.head(10),\n",
    "    palette='Blues_r')\n",
    "\n",
    "plt.title('Топ-10 партнеров по выручке', fontsize=14)\n",
    "plt.xlabel('Выручка, руб.', fontsize=12)\n",
    "plt.ylabel('Партнер', fontsize=12)\n",
    "\n",
    "plt.tight_layout()\n",
    "plt.show()"
   ]
  },
  {
   "cell_type": "code",
   "execution_count": 34,
   "metadata": {},
   "outputs": [
    {
     "data": {
      "image/png": "[encoded data removed]",
      "text/plain": [
       "<Figure size 1152x720 with 1 Axes>"
      ]
     },
     "metadata": {},
     "output_type": "display_data"
    }
   ],
   "source": [
    "# сортируем по заказам\n",
    "partner_statss = partner_stats.sort_values('total_orders', ascending=False)\n",
    "\n",
    "# топ-10 партнеров по количеству заказов\n",
    "plt.figure(figsize=(16, 10))\n",
    "plt.subplot(2, 2, 2)\n",
    "sns.barplot(\n",
    "    x='total_orders', \n",
    "    y='service_name', \n",
    "    data=partner_statss.head(10),\n",
    "    palette='Greens_r'\n",
    ")\n",
    "\n",
    "plt.title('Топ-10 партнеров по заказам', fontsize=14)\n",
    "plt.xlabel('Количество заказов', fontsize=12)\n",
    "plt.ylabel('')\n",
    "\n",
    "plt.tight_layout()\n",
    "plt.show()"
   ]
  },
  {
   "cell_type": "markdown",
   "metadata": {},
   "source": [
    "Что касается партнеров:\n",
    "- **Мой билет** хоть и находится на четвертом месте по количеству заказов, но он лидирует по выручке. Из плюсов: заказы более премиальные.\n",
    "- **Билет без проблем** лидирует по числу заказов. Занимает второе место по выручке. Из плюсов: популярность партнера.\n",
    "- Рекомендую рассмотреть расширение сотрудничества с этими партнерами. Возможно, запустить рекламную акцию, которая будет стимулировать продажи у этих партнеров."
   ]
  },
  {
   "cell_type": "markdown",
   "metadata": {},
   "source": [
    "<div class=\"alert alert-block alert-success\">✔️\n",
    "    \n",
    "\n",
    "__Комментарий от ревьюера №1__\n",
    "\n",
    "    \n",
    "«Билеты без проблем» — лидер по охвату, но проигрывает по доле мероприятий"
   ]
  },
  {
   "cell_type": "markdown",
   "metadata": {},
   "source": [
    "## Статистический анализ данных\n",
    "\n",
    "На данном этапе мы проверим две гипотезы, которые предполагают большую активность пользователей мобильных устройств:\n",
    "- Среднее количество заказов на одного пользователя мобильного приложения выше по сравнению с пользователями стационарных устройств.\n",
    "- Среднее время между заказами пользователей мобильных приложений выше по сравнению с пользователями стационарных устройств.\n",
    "\n",
    "Будем использовать данные только за осенний период."
   ]
  },
  {
   "cell_type": "code",
   "execution_count": 35,
   "metadata": {},
   "outputs": [
    {
     "name": "stdout",
     "output_type": "stream",
     "text": [
      "Количество пользователей в обеих группах: 3249\n"
     ]
    }
   ],
   "source": [
    "# разделяем на группы\n",
    "mobile_users = set(autumn_data[autumn_data['device_type_canonical'] == 'mobile']['user_id'])\n",
    "desktop_users = set(autumn_data[autumn_data['device_type_canonical'] == 'desktop']['user_id'])\n",
    "\n",
    "common_users = mobile_users & desktop_users\n",
    "\n",
    "if len(common_users) == 0:\n",
    "    print(f'Нет пользователей, которые попали в обе группы одновременно.')\n",
    "else:\n",
    "    print(f'Количество пользователей в обеих группах: {len(common_users)}')"
   ]
  },
  {
   "cell_type": "code",
   "execution_count": 36,
   "metadata": {
    "scrolled": true
   },
   "outputs": [
    {
     "name": "stdout",
     "output_type": "stream",
     "text": [
      "Всего было удалено 134160 дубликатов\n"
     ]
    }
   ],
   "source": [
    "# преобразуем пересечение в список\n",
    "common_users_list = list(common_users)\n",
    "# удаляем всех пользователей, которые есть в обеих группах\n",
    "autumn_data_cleaned = autumn_data[~autumn_data['user_id'].isin(common_users_list)]\n",
    "duplicat = autumn_data.shape[0] - autumn_data_cleaned.shape[0]\n",
    "print(f'Всего было удалено {duplicat} дубликатов')"
   ]
  },
  {
   "cell_type": "markdown",
   "metadata": {},
   "source": [
    "Необходимо проверить количество пользователей в каждой из групп."
   ]
  },
  {
   "cell_type": "code",
   "execution_count": 37,
   "metadata": {},
   "outputs": [
    {
     "name": "stdout",
     "output_type": "stream",
     "text": [
      "Количество пользователей в группе А: 31279, а количество пользователей в группе В: 3191\n",
      "Процентная разница: 89.80%\n"
     ]
    }
   ],
   "source": [
    "# разделение данных на две группы\n",
    "mobile_count = autumn_data_cleaned[autumn_data_cleaned['device_type_canonical'] == 'mobile'].shape[0]\n",
    "desktop_count = autumn_data_cleaned[autumn_data_cleaned['device_type_canonical'] == 'desktop'].shape[0]\n",
    "\n",
    "per_diff = 100 * abs(mobile_count - desktop_count) / mobile_count\n",
    "\n",
    "print(f'Количество пользователей в группе А: {mobile_count}, а количество пользователей в группе В: {desktop_count}')\n",
    "print(f'Процентная разница: {per_diff:.2f}%')"
   ]
  },
  {
   "cell_type": "markdown",
   "metadata": {},
   "source": [
    "Гипотеза 1:\n",
    "\n",
    "- H₀: Среднее количество заказов на одного пользователя мобильного приложения не отличается по сравнению с пользователями стационарных устройств.\n",
    "- H₁: Среднее количество заказов на одного пользователя мобильного приложения выше по сравнению с пользователями стационарных устройств."
   ]
  },
  {
   "cell_type": "markdown",
   "metadata": {},
   "source": [
    "<div class=\"alert alert-block alert-success\">✔️\n",
    "    \n",
    "\n",
    "__Комментарий от ревьюера №1__\n",
    "\n",
    "    \n",
    "Верная интерпретация нулевой и альтернативной гипотезы"
   ]
  },
  {
   "cell_type": "code",
   "execution_count": 38,
   "metadata": {
    "scrolled": true
   },
   "outputs": [
    {
     "name": "stdout",
     "output_type": "stream",
     "text": [
      "\n",
      "Тест Левена (равенство дисперсий): p-value = 0.0000 (не равны)\n"
     ]
    }
   ],
   "source": [
    "# делим на группы\n",
    "mobile_orders = autumn_data_cleaned[autumn_data_cleaned['device_type_canonical'] == 'mobile'].groupby('user_id')['order_id'].count()\n",
    "desktop_orders = autumn_data_cleaned[autumn_data_cleaned['device_type_canonical'] == 'desktop'].groupby('user_id')['order_id'].count()\n",
    "\n",
    "# проверяем равенства дисперсий\n",
    "_, p_levene = stats.levene(mobile_orders, desktop_orders)\n",
    "\n",
    "print(f\"\\nТест Левена (равенство дисперсий): p-value = {p_levene:.4f} {'(равны)' if p_levene > 0.05 else '(не равны)'}\")"
   ]
  },
  {
   "cell_type": "markdown",
   "metadata": {},
   "source": [
    "Дисперсии **не равны**, а от явных выбросов мы уже чистили данные. Буду применять тест Уэлча."
   ]
  },
  {
   "cell_type": "markdown",
   "metadata": {},
   "source": [
    "<div class=\"alert alert-block alert-success\">✔️\n",
    "    \n",
    "\n",
    "__Комментарий от ревьюера №1__\n",
    "\n",
    "    \n",
    "Обосновано"
   ]
  },
  {
   "cell_type": "code",
   "execution_count": 39,
   "metadata": {},
   "outputs": [
    {
     "name": "stdout",
     "output_type": "stream",
     "text": [
      "p-value: 0.00000\n",
      "Отвергаем нулевую гипотезу: Среднее количество заказов на одного пользователя мобильного приложения значимо выше.\n"
     ]
    }
   ],
   "source": [
    "# применяем t-тест Уэлча\n",
    "t_stat, p_value = stats.ttest_ind(mobile_orders, desktop_orders, equal_var=False, alternative='greater')\n",
    "\n",
    "print(f\"p-value: {p_value:.5f}\")\n",
    "\n",
    "if p_value < 0.05:\n",
    "    print(\"Отвергаем нулевую гипотезу: Среднее количество заказов на одного пользователя мобильного приложения значимо выше.\")\n",
    "else:\n",
    "    print(\"Не отвергаем нулевую гипотезу: Нет значимых различий.\")"
   ]
  },
  {
   "cell_type": "markdown",
   "metadata": {},
   "source": [
    "Как можно было наблюдать на графиках - количество заказов пользователя мобильного приложения выше. Теперь это подтвердил t-тест Уэлча. Мы отвергаем нулевую гипотезу."
   ]
  },
  {
   "cell_type": "markdown",
   "metadata": {},
   "source": [
    "Гипотеза 2:\n",
    "\n",
    "- H₀: Среднее время между заказами пользователей мобильных приложений не отличается по сравнению с пользователями стационарных устройств.\n",
    "- H₁: Среднее время между заказами пользователей мобильных приложений выше по сравнению с пользователями стационарных устройств."
   ]
  },
  {
   "cell_type": "markdown",
   "metadata": {},
   "source": []
  },
  {
   "cell_type": "code",
   "execution_count": 40,
   "metadata": {
    "scrolled": true
   },
   "outputs": [
    {
     "name": "stdout",
     "output_type": "stream",
     "text": [
      "\n",
      "Тест Левена (равенство дисперсий): p-value = 0.0830 (равны)\n"
     ]
    }
   ],
   "source": [
    "# делим на группы\n",
    "mobile_time = autumn_data_cleaned[autumn_data_cleaned['device_type_canonical'] == 'mobile'].groupby('user_id')['days_since_prev'].mean()\n",
    "desktop_time = autumn_data_cleaned[autumn_data_cleaned['device_type_canonical'] == 'desktop'].groupby('user_id')['days_since_prev'].mean()\n",
    "\n",
    "# проверяем равенства дисперсий\n",
    "_, p_levene = stats.levene(mobile_time, desktop_time)\n",
    "\n",
    "print(f\"\\nТест Левена (равенство дисперсий): p-value = {p_levene:.4f} {'(равны)' if p_levene > 0.05 else '(не равны)'}\")"
   ]
  },
  {
   "cell_type": "markdown",
   "metadata": {},
   "source": [
    "Теперь проверим на выбросы."
   ]
  },
  {
   "cell_type": "code",
   "execution_count": 41,
   "metadata": {
    "scrolled": false
   },
   "outputs": [
    {
     "data": {
      "image/png": "[encoded data removed]",
      "text/plain": [
       "<Figure size 1296x576 with 1 Axes>"
      ]
     },
     "metadata": {},
     "output_type": "display_data"
    }
   ],
   "source": [
    "mobile_time_val = autumn_data_cleaned[autumn_data_cleaned['device_type_canonical'] == 'mobile']['days_since_prev'].values\n",
    "desktop_time_val = autumn_data_cleaned[autumn_data_cleaned['device_type_canonical'] == 'desktop']['days_since_prev'].values\n",
    "\n",
    "# строим график\n",
    "plt.figure(figsize=(18, 8))\n",
    "plt.boxplot(\n",
    "    [mobile_time_val, desktop_time_val], \n",
    "    labels=['Mobile', 'Desktop'],\n",
    "    vert=True,\n",
    "    patch_artist=True,\n",
    "    showfliers=True)\n",
    "\n",
    "plt.title('Распределение времени между заказами пользователей', fontsize=14)\n",
    "plt.xlabel('Платформа', fontsize=12)\n",
    "plt.ylabel('Дни', fontsize=12)\n",
    "plt.grid(axis='y', linestyle='--', alpha=0.7)\n",
    "\n",
    "plt.show()\n"
   ]
  },
  {
   "cell_type": "markdown",
   "metadata": {},
   "source": [
    "Дисперсии равны и в данных присутсвуют выбросы. Из-за этого будем применять тест Манна-Уитни, ведь он более устойчив к выбросам."
   ]
  },
  {
   "cell_type": "code",
   "execution_count": 42,
   "metadata": {},
   "outputs": [
    {
     "name": "stdout",
     "output_type": "stream",
     "text": [
      "p-value: 0.00000\n",
      "Отвергаем нулевую гипотезу: Среднее время между заказами пользователей мобильных приложений значимо выше.\n"
     ]
    }
   ],
   "source": [
    "# применяем теста Манна-Уитни\n",
    "u_stat, p_value = stats.mannwhitneyu(mobile_time, desktop_time, alternative='greater')\n",
    "\n",
    "print(f\"p-value: {p_value:.5f}\")\n",
    "\n",
    "if p_value < 0.05:\n",
    "    print(\"Отвергаем нулевую гипотезу: Среднее время между заказами пользователей мобильных приложений значимо выше.\")\n",
    "else:\n",
    "    print(\"Не отвергаем нулевую гипотезу: Нет значимых различий.\")"
   ]
  },
  {
   "cell_type": "markdown",
   "metadata": {},
   "source": [
    "Мы отвергаем нулевую гипотезу. Среднее время между заказами пользователей мобильных приложений значимо выше. Это подтвердил тест Манна-Уитни."
   ]
  },
  {
   "cell_type": "markdown",
   "metadata": {},
   "source": [
    "<div class=\"alert alert-block alert-success\">✔️\n",
    "    \n",
    "\n",
    "__Комментарий от ревьюера №1__\n",
    "\n",
    "Методологически проверка гипотез проведена верно и наглядный вывод результатов. Так держать!\n",
    "</div>"
   ]
  },
  {
   "cell_type": "markdown",
   "metadata": {},
   "source": [
    "## Общий вывод и рекомендации"
   ]
  },
  {
   "cell_type": "markdown",
   "metadata": {},
   "source": [
    "В этом проекте мы работали с тремя датасетами: \n",
    "- `final_tickets_orders_df.csv` - включает информацию обо всех заказах билетов, совершённых с двух типов устройств — мобильных и стационарных. \n",
    "- `final_tickets_events_df` - содержит информацию о событиях, включая город и регион события, а также информацию о площадке проведения мероприятия.\n",
    "- `final_tickets_tenge_df.csv` - содержит информацию о курсе тенге к российскому рублю за 2024 год. Значения в рублях представлено для 100 тенге.\n",
    "\n",
    "Далее мы объединили все в один датафрейм и провели предобработку данных.\n",
    "При изучении данных пропуски были выявлены только в столбце `days_since_prev`. Они там возникли в связи с особенностью формирования столбца. Было принято решение заменить пропуски на `0`.\n",
    "\n",
    "Далее был проведен исследовательский анализ данных. \n",
    "Основное, что было выявлено:\n",
    "- Есть устойчивый тренд на увеличение количества покупок к осени.\n",
    "- Летом больше покупают билетов на концерты, выставки, стендап и другое. Также в этот период с мобильных устройств больше заказывают билетов, чем осенью. А на мобильных устройствах ситуация противоположная. Летом более популярны следующие категории: 6+, 16+ и 18+.\n",
    "- Осенью же пользуются большей популярностью такие категории, как спорт, театр и елки. Лидирует в этот период следующие категории: 0+ и 12+.\n",
    "- Самый активный день - это вторник. К выходным активность падает.\n",
    "- Безусловный лидер по количеству уникальных мероприятий - **Каменевский регион**. На первом месте среди регионов по соотношению мероприятий/заказы находится **Светополянский округ**.\n",
    "- **Мой билет** хоть и находится на четвертом месте по количеству заказов, но он лидирует по выручке. Из плюсов: заказы более премиальные.\n",
    "- **Билет без проблем** лидирует по числу заказов. Занимает второе место по выручке. Из плюсов: популярность партнера.\n",
    "\n",
    "После чего мы проверили две гипотезы, которые предполагают большую активность пользователей мобильных устройств:\n",
    "- Среднее количество заказов на одного пользователя мобильного приложения выше по сравнению с пользователями стационарных устройств.\n",
    "- Среднее время между заказами пользователей мобильных приложений выше по сравнению с пользователями стационарных устройств.\n",
    "\n",
    "В первом случае, мы использовали тест Уэлча, т.к. дисперсии у выборок были не равны и от выбросов мы избавились. \n",
    "Во втором случае, мы использовали тест Манна-Уитни, ведь он более устойчив к выбросам.\n",
    "В обоих случаях мы отвергли нулевую гипотезу. Статистически подтвердили большую активность пользователей мобильных устройств."
   ]
  },
  {
   "cell_type": "markdown",
   "metadata": {},
   "source": [
    "Рекомендации:\n",
    "- Коллегам стоит обратить внимание на резкое увеличение покупок в некоторые дни. Провести дополнительное исследование о причинах.\n",
    "- Рассмотреть расширение сотрудничества с **Мой билет** и **Билет без проблем**, т.к. они являются лидерами по выручке и количеству заказов. Возможно, запустить рекламную акцию, которая будет стимулировать продажи у этих партнеров.\n",
    "- Т.к. мы статистически подтвердили большую активность пользователей мобильных устройств, рекомендую углубленно поработать с пользователями мобильных устройств. Поработать с интерфейсом мобильного приложения или внедрить рекламную компанию, нацеленную на увеличение билетов в заказе."
   ]
  },
  {
   "cell_type": "markdown",
   "metadata": {},
   "source": [
    "<div class=\"alert alert-block alert-success\">✔️\n",
    "    \n",
    "\n",
    "__Комментарий от ревьюера №1__\n",
    "\n",
    "В итоговом выводе отражены результаты исследовательской части, есть интерпретация тестов, а также рекомендации по развитию сервиса - отлично!"
   ]
  },
  {
   "cell_type": "markdown",
   "metadata": {},
   "source": []
  },
  {
   "cell_type": "markdown",
   "metadata": {},
   "source": [
    "<div style=\"border:solid blue 3px; padding: 20px\">\n",
    "<div class=\"alert alert-block alert-success\">✔️\n",
    "    \n",
    "\n",
    "__Коментарий от ревьюера №2__\n",
    "\n",
    "Татьяна, все замечания учтены - проект принят!\n",
    "\n",
    "\n",
    "Всё чудно😊. Твой проект так и просится на github =)   \n",
    "    \n",
    "Поздравляю с успешным завершением проекта 😊👍\n",
    "И желаю успехов в новых работах 😊\n",
    "    \n",
    "---\n",
    "    \n",
    "От себя хочу порекомендовать тебе отличный метариал по статистике. \n",
    "    \n",
    "* Курс \"Вероятность и статистика\" | Глеб Михайлов (free): https://www.youtube.com/playlist?list=PLQJ7ptkRY-xbHLLI66KdscKp_FJt0FsIi\n",
    "    \n",
    "* Методы обнаружения выбросов: https://youtu.be/TOK7Kq7x0yc\n",
    "    \n",
    "\n",
    "</div>"
   ]
  }
 ],
 "metadata": {
  "ExecuteTimeLog": [
   {
    "duration": 420,
    "start_time": "2025-05-19T18:39:00.927Z"
   },
   {
    "duration": 1837,
    "start_time": "2025-05-19T18:42:12.104Z"
   },
   {
    "duration": 133,
    "start_time": "2025-05-19T18:43:22.411Z"
   },
   {
    "duration": 4,
    "start_time": "2025-05-19T18:50:20.530Z"
   },
   {
    "duration": 2,
    "start_time": "2025-05-19T18:50:58.842Z"
   },
   {
    "duration": 4,
    "start_time": "2025-05-19T18:51:02.786Z"
   },
   {
    "duration": 4,
    "start_time": "2025-05-19T18:53:35.704Z"
   },
   {
    "duration": 5,
    "start_time": "2025-05-19T18:53:58.514Z"
   },
   {
    "duration": 4,
    "start_time": "2025-05-19T18:55:40.101Z"
   },
   {
    "duration": 5,
    "start_time": "2025-05-19T18:55:44.826Z"
   },
   {
    "duration": 279,
    "start_time": "2025-05-19T18:55:54.409Z"
   },
   {
    "duration": 4,
    "start_time": "2025-05-19T18:56:01.789Z"
   },
   {
    "duration": 28,
    "start_time": "2025-05-19T19:50:36.655Z"
   },
   {
    "duration": 16,
    "start_time": "2025-05-19T19:51:01.914Z"
   },
   {
    "duration": 69,
    "start_time": "2025-05-19T19:56:21.950Z"
   },
   {
    "duration": 51,
    "start_time": "2025-05-20T15:19:44.544Z"
   },
   {
    "duration": 404,
    "start_time": "2025-05-20T15:19:49.151Z"
   },
   {
    "duration": 1879,
    "start_time": "2025-05-20T15:19:49.557Z"
   },
   {
    "duration": 129,
    "start_time": "2025-05-20T15:19:51.438Z"
   },
   {
    "duration": 5,
    "start_time": "2025-05-20T15:19:51.569Z"
   },
   {
    "duration": 57,
    "start_time": "2025-05-20T15:19:51.575Z"
   },
   {
    "duration": 18,
    "start_time": "2025-05-20T15:19:51.634Z"
   },
   {
    "duration": 141,
    "start_time": "2025-05-20T15:19:51.654Z"
   },
   {
    "duration": 3,
    "start_time": "2025-05-20T15:56:20.116Z"
   },
   {
    "duration": 3,
    "start_time": "2025-05-20T15:56:54.302Z"
   },
   {
    "duration": 4,
    "start_time": "2025-05-20T15:58:25.423Z"
   },
   {
    "duration": 5,
    "start_time": "2025-05-20T16:01:50.959Z"
   },
   {
    "duration": 3,
    "start_time": "2025-05-20T16:01:51.474Z"
   },
   {
    "duration": 249,
    "start_time": "2025-05-20T16:04:46.580Z"
   },
   {
    "duration": 76,
    "start_time": "2025-05-20T16:04:58.256Z"
   },
   {
    "duration": 25,
    "start_time": "2025-05-20T16:05:51.293Z"
   },
   {
    "duration": 413,
    "start_time": "2025-05-20T16:09:50.092Z"
   },
   {
    "duration": 160,
    "start_time": "2025-05-20T16:09:55.701Z"
   },
   {
    "duration": 133,
    "start_time": "2025-05-20T16:13:07.378Z"
   },
   {
    "duration": 307,
    "start_time": "2025-05-20T16:14:03.103Z"
   },
   {
    "duration": 375,
    "start_time": "2025-05-20T16:15:30.069Z"
   },
   {
    "duration": 41,
    "start_time": "2025-05-20T16:33:38.193Z"
   },
   {
    "duration": 196,
    "start_time": "2025-05-20T16:33:48.011Z"
   },
   {
    "duration": 13,
    "start_time": "2025-05-20T16:33:50.355Z"
   },
   {
    "duration": 361,
    "start_time": "2025-05-20T16:34:27.616Z"
   },
   {
    "duration": 19,
    "start_time": "2025-05-20T16:35:15.759Z"
   },
   {
    "duration": 186,
    "start_time": "2025-05-20T16:38:40.019Z"
   },
   {
    "duration": 6,
    "start_time": "2025-05-20T16:40:00.971Z"
   },
   {
    "duration": 14,
    "start_time": "2025-05-20T16:40:06.008Z"
   },
   {
    "duration": 25,
    "start_time": "2025-05-20T16:40:19.635Z"
   },
   {
    "duration": 24,
    "start_time": "2025-05-20T16:43:48.797Z"
   },
   {
    "duration": 13,
    "start_time": "2025-05-20T16:44:01.658Z"
   },
   {
    "duration": 1030,
    "start_time": "2025-05-20T16:44:19.065Z"
   },
   {
    "duration": 14,
    "start_time": "2025-05-20T16:44:25.905Z"
   },
   {
    "duration": 334,
    "start_time": "2025-05-20T16:45:22.348Z"
   },
   {
    "duration": 303,
    "start_time": "2025-05-20T16:51:06.001Z"
   },
   {
    "duration": 259,
    "start_time": "2025-05-20T16:51:10.844Z"
   },
   {
    "duration": 235,
    "start_time": "2025-05-20T16:51:16.727Z"
   },
   {
    "duration": 3,
    "start_time": "2025-05-20T17:14:36.294Z"
   },
   {
    "duration": 178,
    "start_time": "2025-05-20T17:16:25.319Z"
   },
   {
    "duration": 7,
    "start_time": "2025-05-20T17:18:53.297Z"
   },
   {
    "duration": 226,
    "start_time": "2025-05-20T17:19:01.178Z"
   },
   {
    "duration": 106,
    "start_time": "2025-05-20T17:19:33.497Z"
   },
   {
    "duration": 4,
    "start_time": "2025-05-20T17:19:45.311Z"
   },
   {
    "duration": 23,
    "start_time": "2025-05-20T17:23:44.290Z"
   },
   {
    "duration": 27,
    "start_time": "2025-05-20T17:29:40.049Z"
   },
   {
    "duration": 207,
    "start_time": "2025-05-20T17:30:55.821Z"
   },
   {
    "duration": 24,
    "start_time": "2025-05-20T17:31:45.183Z"
   },
   {
    "duration": 4,
    "start_time": "2025-05-20T17:33:26.486Z"
   },
   {
    "duration": 28,
    "start_time": "2025-05-20T17:33:59.401Z"
   },
   {
    "duration": 30,
    "start_time": "2025-05-20T17:36:23.689Z"
   },
   {
    "duration": 187,
    "start_time": "2025-05-20T17:40:28.200Z"
   },
   {
    "duration": 191,
    "start_time": "2025-05-20T17:40:33.352Z"
   },
   {
    "duration": 709,
    "start_time": "2025-05-20T17:40:49.873Z"
   },
   {
    "duration": 1925,
    "start_time": "2025-05-20T17:40:50.584Z"
   },
   {
    "duration": 149,
    "start_time": "2025-05-20T17:40:52.511Z"
   },
   {
    "duration": 5,
    "start_time": "2025-05-20T17:40:52.665Z"
   },
   {
    "duration": 113,
    "start_time": "2025-05-20T17:40:52.671Z"
   },
   {
    "duration": 36,
    "start_time": "2025-05-20T17:40:52.786Z"
   },
   {
    "duration": 50,
    "start_time": "2025-05-20T17:40:52.824Z"
   },
   {
    "duration": 30,
    "start_time": "2025-05-20T17:40:52.876Z"
   },
   {
    "duration": 75,
    "start_time": "2025-05-20T17:40:52.908Z"
   },
   {
    "duration": 208,
    "start_time": "2025-05-20T17:40:52.986Z"
   },
   {
    "duration": 229,
    "start_time": "2025-05-20T17:40:53.196Z"
   },
   {
    "duration": 248,
    "start_time": "2025-05-20T17:40:53.426Z"
   },
   {
    "duration": 161,
    "start_time": "2025-05-20T17:40:53.675Z"
   },
   {
    "duration": 221,
    "start_time": "2025-05-20T17:40:53.838Z"
   },
   {
    "duration": 234,
    "start_time": "2025-05-20T17:40:54.062Z"
   },
   {
    "duration": 19,
    "start_time": "2025-05-20T18:35:16.585Z"
   },
   {
    "duration": 19,
    "start_time": "2025-05-20T18:37:27.957Z"
   },
   {
    "duration": 16,
    "start_time": "2025-05-20T18:39:26.737Z"
   },
   {
    "duration": 75,
    "start_time": "2025-05-20T18:40:56.304Z"
   },
   {
    "duration": 71,
    "start_time": "2025-05-20T18:41:17.731Z"
   },
   {
    "duration": 83,
    "start_time": "2025-05-20T18:41:29.023Z"
   },
   {
    "duration": 639,
    "start_time": "2025-05-20T18:42:28.926Z"
   },
   {
    "duration": 556,
    "start_time": "2025-05-20T18:42:53.749Z"
   },
   {
    "duration": 23,
    "start_time": "2025-05-20T18:43:57.930Z"
   },
   {
    "duration": 20,
    "start_time": "2025-05-20T18:44:18.334Z"
   },
   {
    "duration": 19,
    "start_time": "2025-05-20T18:44:48.044Z"
   },
   {
    "duration": 6,
    "start_time": "2025-05-20T18:45:20.033Z"
   },
   {
    "duration": 24,
    "start_time": "2025-05-20T18:45:53.614Z"
   },
   {
    "duration": 21,
    "start_time": "2025-05-20T18:47:32.837Z"
   },
   {
    "duration": 322,
    "start_time": "2025-05-20T18:59:00.717Z"
   },
   {
    "duration": 502,
    "start_time": "2025-05-20T18:59:27.680Z"
   },
   {
    "duration": 1961,
    "start_time": "2025-05-20T18:59:34.992Z"
   },
   {
    "duration": 5096,
    "start_time": "2025-05-20T19:00:06.990Z"
   },
   {
    "duration": 5091,
    "start_time": "2025-05-20T19:02:54.969Z"
   },
   {
    "duration": 3828,
    "start_time": "2025-05-20T19:06:29.935Z"
   },
   {
    "duration": 444,
    "start_time": "2025-05-20T19:08:02.542Z"
   },
   {
    "duration": 4,
    "start_time": "2025-05-20T19:12:06.469Z"
   },
   {
    "duration": 253,
    "start_time": "2025-05-20T19:12:18.343Z"
   },
   {
    "duration": 466,
    "start_time": "2025-05-20T19:12:31.901Z"
   },
   {
    "duration": 369,
    "start_time": "2025-05-20T19:33:00.008Z"
   },
   {
    "duration": 580,
    "start_time": "2025-05-20T19:37:13.909Z"
   },
   {
    "duration": 492,
    "start_time": "2025-05-20T19:37:28.154Z"
   },
   {
    "duration": 496,
    "start_time": "2025-05-20T19:38:23.676Z"
   },
   {
    "duration": 657,
    "start_time": "2025-05-20T19:39:04.687Z"
   },
   {
    "duration": 496,
    "start_time": "2025-05-20T19:39:27.080Z"
   },
   {
    "duration": 460,
    "start_time": "2025-05-20T19:40:23.557Z"
   },
   {
    "duration": 8,
    "start_time": "2025-05-20T19:43:41.692Z"
   },
   {
    "duration": 9,
    "start_time": "2025-05-20T19:43:56.320Z"
   },
   {
    "duration": 9,
    "start_time": "2025-05-20T19:44:05.313Z"
   },
   {
    "duration": 3,
    "start_time": "2025-05-20T19:44:18.412Z"
   },
   {
    "duration": 180,
    "start_time": "2025-05-20T19:44:31.940Z"
   },
   {
    "duration": 339,
    "start_time": "2025-05-20T19:46:45.079Z"
   },
   {
    "duration": 517,
    "start_time": "2025-05-20T19:47:03.132Z"
   },
   {
    "duration": 85,
    "start_time": "2025-05-20T20:22:55.894Z"
   },
   {
    "duration": 22,
    "start_time": "2025-05-20T20:23:39.059Z"
   },
   {
    "duration": 5,
    "start_time": "2025-05-20T20:28:45.334Z"
   },
   {
    "duration": 27,
    "start_time": "2025-05-20T20:29:00.576Z"
   },
   {
    "duration": 73,
    "start_time": "2025-05-20T20:29:31.904Z"
   },
   {
    "duration": 187,
    "start_time": "2025-05-20T20:31:35.796Z"
   },
   {
    "duration": 94,
    "start_time": "2025-05-20T20:32:44.006Z"
   },
   {
    "duration": 27,
    "start_time": "2025-05-20T20:35:21.794Z"
   },
   {
    "duration": 205,
    "start_time": "2025-05-20T20:35:22.349Z"
   },
   {
    "duration": 29,
    "start_time": "2025-05-20T20:35:43.247Z"
   },
   {
    "duration": 194,
    "start_time": "2025-05-20T20:35:43.691Z"
   },
   {
    "duration": 30,
    "start_time": "2025-05-20T20:35:58.791Z"
   },
   {
    "duration": 192,
    "start_time": "2025-05-20T20:35:59.234Z"
   },
   {
    "duration": 162,
    "start_time": "2025-05-20T20:36:19.575Z"
   },
   {
    "duration": 1594,
    "start_time": "2025-05-21T14:33:48.778Z"
   },
   {
    "duration": 2234,
    "start_time": "2025-05-21T14:33:50.374Z"
   },
   {
    "duration": 129,
    "start_time": "2025-05-21T14:33:52.610Z"
   },
   {
    "duration": 5,
    "start_time": "2025-05-21T14:33:52.742Z"
   },
   {
    "duration": 31,
    "start_time": "2025-05-21T14:33:52.769Z"
   },
   {
    "duration": 19,
    "start_time": "2025-05-21T14:33:52.802Z"
   },
   {
    "duration": 3,
    "start_time": "2025-05-21T14:33:52.822Z"
   },
   {
    "duration": 3,
    "start_time": "2025-05-21T14:33:52.827Z"
   },
   {
    "duration": 4,
    "start_time": "2025-05-21T14:33:52.871Z"
   },
   {
    "duration": 161,
    "start_time": "2025-05-21T14:33:52.876Z"
   },
   {
    "duration": 160,
    "start_time": "2025-05-21T14:33:53.039Z"
   },
   {
    "duration": 246,
    "start_time": "2025-05-21T14:33:53.201Z"
   },
   {
    "duration": 185,
    "start_time": "2025-05-21T14:33:53.547Z"
   },
   {
    "duration": 217,
    "start_time": "2025-05-21T14:33:53.734Z"
   },
   {
    "duration": 487,
    "start_time": "2025-05-21T14:33:54.104Z"
   },
   {
    "duration": 4286,
    "start_time": "2025-05-21T14:33:54.593Z"
   },
   {
    "duration": 719,
    "start_time": "2025-05-21T14:33:58.881Z"
   },
   {
    "duration": 26,
    "start_time": "2025-05-21T14:33:59.602Z"
   },
   {
    "duration": 6,
    "start_time": "2025-05-21T14:33:59.630Z"
   },
   {
    "duration": 48,
    "start_time": "2025-05-21T14:33:59.638Z"
   },
   {
    "duration": 87,
    "start_time": "2025-05-21T14:33:59.688Z"
   },
   {
    "duration": 235,
    "start_time": "2025-05-21T14:33:59.777Z"
   },
   {
    "duration": 228,
    "start_time": "2025-05-21T14:34:00.013Z"
   },
   {
    "duration": 108,
    "start_time": "2025-05-21T15:03:22.644Z"
   },
   {
    "duration": 188,
    "start_time": "2025-05-21T15:03:29.244Z"
   },
   {
    "duration": 274,
    "start_time": "2025-05-21T15:05:45.140Z"
   },
   {
    "duration": 204,
    "start_time": "2025-05-21T15:06:06.698Z"
   },
   {
    "duration": 1232,
    "start_time": "2025-05-21T16:17:00.456Z"
   },
   {
    "duration": 138,
    "start_time": "2025-05-21T16:18:12.190Z"
   },
   {
    "duration": 1112,
    "start_time": "2025-05-21T16:18:18.542Z"
   },
   {
    "duration": 445,
    "start_time": "2025-05-21T16:22:26.391Z"
   },
   {
    "duration": 1603,
    "start_time": "2025-05-21T16:27:31.270Z"
   },
   {
    "duration": 1482,
    "start_time": "2025-05-21T16:30:11.569Z"
   },
   {
    "duration": 1452,
    "start_time": "2025-05-21T16:30:18.297Z"
   },
   {
    "duration": 1542,
    "start_time": "2025-05-21T18:56:53.552Z"
   },
   {
    "duration": 919,
    "start_time": "2025-05-21T19:17:13.470Z"
   },
   {
    "duration": 730,
    "start_time": "2025-05-21T19:17:46.654Z"
   },
   {
    "duration": 844,
    "start_time": "2025-05-21T19:19:45.194Z"
   },
   {
    "duration": 2004,
    "start_time": "2025-05-21T19:36:42.057Z"
   },
   {
    "duration": 3207,
    "start_time": "2025-05-21T19:54:49.602Z"
   },
   {
    "duration": 2395,
    "start_time": "2025-05-21T20:00:50.665Z"
   },
   {
    "duration": 2553,
    "start_time": "2025-05-21T20:04:04.020Z"
   },
   {
    "duration": 7822,
    "start_time": "2025-05-21T20:04:55.081Z"
   },
   {
    "duration": 2558,
    "start_time": "2025-05-21T20:06:29.818Z"
   },
   {
    "duration": 2760,
    "start_time": "2025-05-21T20:07:26.985Z"
   },
   {
    "duration": 530,
    "start_time": "2025-05-21T20:08:22.919Z"
   },
   {
    "duration": 1889,
    "start_time": "2025-05-21T20:08:27.144Z"
   },
   {
    "duration": 337,
    "start_time": "2025-05-21T20:09:12.857Z"
   },
   {
    "duration": 498,
    "start_time": "2025-05-21T20:09:38.768Z"
   },
   {
    "duration": 561,
    "start_time": "2025-05-21T20:09:59.038Z"
   },
   {
    "duration": 470,
    "start_time": "2025-05-21T20:10:07.727Z"
   },
   {
    "duration": 531,
    "start_time": "2025-05-21T20:11:26.812Z"
   },
   {
    "duration": 450,
    "start_time": "2025-05-21T20:11:39.643Z"
   },
   {
    "duration": 495,
    "start_time": "2025-05-21T20:11:48.782Z"
   },
   {
    "duration": 13,
    "start_time": "2025-05-21T20:14:31.494Z"
   },
   {
    "duration": 8,
    "start_time": "2025-05-21T20:15:03.779Z"
   },
   {
    "duration": 197,
    "start_time": "2025-05-21T20:39:02.338Z"
   },
   {
    "duration": 18,
    "start_time": "2025-05-21T20:42:50.391Z"
   },
   {
    "duration": 1186,
    "start_time": "2025-05-21T20:43:28.075Z"
   },
   {
    "duration": 588,
    "start_time": "2025-05-21T20:45:14.848Z"
   },
   {
    "duration": 595,
    "start_time": "2025-05-21T20:45:33.537Z"
   },
   {
    "duration": 932,
    "start_time": "2025-05-21T20:45:43.559Z"
   },
   {
    "duration": 1216,
    "start_time": "2025-05-21T20:46:06.322Z"
   },
   {
    "duration": 17,
    "start_time": "2025-05-21T20:46:19.297Z"
   },
   {
    "duration": 1195,
    "start_time": "2025-05-21T20:46:21.491Z"
   },
   {
    "duration": 735,
    "start_time": "2025-05-21T20:47:23.344Z"
   },
   {
    "duration": 392,
    "start_time": "2025-05-21T20:47:29.455Z"
   },
   {
    "duration": 403,
    "start_time": "2025-05-21T20:47:44.304Z"
   },
   {
    "duration": 865,
    "start_time": "2025-05-21T20:48:01.313Z"
   },
   {
    "duration": 514,
    "start_time": "2025-05-21T20:48:09.376Z"
   },
   {
    "duration": 501,
    "start_time": "2025-05-21T20:49:52.013Z"
   },
   {
    "duration": 3,
    "start_time": "2025-05-21T21:28:01.021Z"
   },
   {
    "duration": 11,
    "start_time": "2025-05-21T21:34:17.694Z"
   },
   {
    "duration": 129,
    "start_time": "2025-05-21T21:34:31.584Z"
   },
   {
    "duration": 217,
    "start_time": "2025-05-21T21:35:02.378Z"
   },
   {
    "duration": 803,
    "start_time": "2025-05-21T21:35:46.844Z"
   },
   {
    "duration": 734,
    "start_time": "2025-05-21T21:36:31.815Z"
   },
   {
    "duration": 122,
    "start_time": "2025-05-21T21:37:09.946Z"
   },
   {
    "duration": 261,
    "start_time": "2025-05-21T21:37:50.051Z"
   },
   {
    "duration": 144,
    "start_time": "2025-05-21T21:40:43.973Z"
   },
   {
    "duration": 23,
    "start_time": "2025-05-21T21:42:02.337Z"
   },
   {
    "duration": 22,
    "start_time": "2025-05-21T21:46:19.981Z"
   },
   {
    "duration": 31,
    "start_time": "2025-05-21T21:53:04.399Z"
   },
   {
    "duration": 27,
    "start_time": "2025-05-21T21:53:25.511Z"
   },
   {
    "duration": 220,
    "start_time": "2025-05-21T22:09:59.389Z"
   },
   {
    "duration": 176,
    "start_time": "2025-05-21T22:13:04.344Z"
   },
   {
    "duration": 94,
    "start_time": "2025-05-21T22:18:16.581Z"
   },
   {
    "duration": 94,
    "start_time": "2025-05-21T22:21:01.796Z"
   },
   {
    "duration": 37,
    "start_time": "2025-05-21T22:21:57.181Z"
   },
   {
    "duration": 34,
    "start_time": "2025-05-21T22:22:29.281Z"
   },
   {
    "duration": 35,
    "start_time": "2025-05-21T22:22:50.341Z"
   },
   {
    "duration": 6,
    "start_time": "2025-05-21T22:34:03.439Z"
   },
   {
    "duration": 24,
    "start_time": "2025-05-21T22:55:59.436Z"
   },
   {
    "duration": 38,
    "start_time": "2025-05-21T22:56:15.822Z"
   },
   {
    "duration": 36,
    "start_time": "2025-05-21T22:56:59.585Z"
   },
   {
    "duration": 54,
    "start_time": "2025-05-21T23:03:24.547Z"
   },
   {
    "duration": 198,
    "start_time": "2025-05-21T23:03:26.149Z"
   },
   {
    "duration": 31,
    "start_time": "2025-05-21T23:04:29.749Z"
   },
   {
    "duration": 216,
    "start_time": "2025-05-21T23:04:31.718Z"
   },
   {
    "duration": 1309,
    "start_time": "2025-05-21T23:06:02.728Z"
   },
   {
    "duration": 2407,
    "start_time": "2025-05-21T23:06:04.040Z"
   },
   {
    "duration": 127,
    "start_time": "2025-05-21T23:06:06.449Z"
   },
   {
    "duration": 6,
    "start_time": "2025-05-21T23:06:06.578Z"
   },
   {
    "duration": 38,
    "start_time": "2025-05-21T23:06:06.586Z"
   },
   {
    "duration": 46,
    "start_time": "2025-05-21T23:06:06.626Z"
   },
   {
    "duration": 191,
    "start_time": "2025-05-21T23:06:06.674Z"
   },
   {
    "duration": 9,
    "start_time": "2025-05-21T23:06:06.866Z"
   },
   {
    "duration": 81,
    "start_time": "2025-05-21T23:06:06.877Z"
   },
   {
    "duration": 236,
    "start_time": "2025-05-21T23:06:06.961Z"
   },
   {
    "duration": 156,
    "start_time": "2025-05-21T23:06:07.199Z"
   },
   {
    "duration": 245,
    "start_time": "2025-05-21T23:06:07.356Z"
   },
   {
    "duration": 168,
    "start_time": "2025-05-21T23:06:07.603Z"
   },
   {
    "duration": 53,
    "start_time": "2025-05-21T23:06:07.773Z"
   },
   {
    "duration": 206,
    "start_time": "2025-05-21T23:06:07.828Z"
   },
   {
    "duration": 461,
    "start_time": "2025-05-21T23:06:08.036Z"
   },
   {
    "duration": 4283,
    "start_time": "2025-05-21T23:06:08.499Z"
   },
   {
    "duration": 734,
    "start_time": "2025-05-21T23:06:12.784Z"
   },
   {
    "duration": 43,
    "start_time": "2025-05-21T23:06:13.520Z"
   },
   {
    "duration": 7,
    "start_time": "2025-05-21T23:06:13.565Z"
   },
   {
    "duration": 31,
    "start_time": "2025-05-21T23:06:13.574Z"
   },
   {
    "duration": 96,
    "start_time": "2025-05-21T23:06:13.607Z"
   },
   {
    "duration": 258,
    "start_time": "2025-05-21T23:06:13.705Z"
   },
   {
    "duration": 221,
    "start_time": "2025-05-21T23:06:13.965Z"
   },
   {
    "duration": 216,
    "start_time": "2025-05-21T23:06:14.187Z"
   },
   {
    "duration": 1684,
    "start_time": "2025-05-21T23:06:14.405Z"
   },
   {
    "duration": 691,
    "start_time": "2025-05-21T23:06:16.091Z"
   },
   {
    "duration": 1981,
    "start_time": "2025-05-21T23:06:16.785Z"
   },
   {
    "duration": 509,
    "start_time": "2025-05-21T23:06:18.768Z"
   },
   {
    "duration": 2019,
    "start_time": "2025-05-21T23:06:19.279Z"
   },
   {
    "duration": 501,
    "start_time": "2025-05-21T23:06:21.300Z"
   },
   {
    "duration": 124,
    "start_time": "2025-05-21T23:06:21.803Z"
   },
   {
    "duration": 0,
    "start_time": "2025-05-21T23:06:21.929Z"
   },
   {
    "duration": 0,
    "start_time": "2025-05-21T23:06:21.930Z"
   },
   {
    "duration": 0,
    "start_time": "2025-05-21T23:06:21.931Z"
   },
   {
    "duration": 0,
    "start_time": "2025-05-21T23:06:21.933Z"
   },
   {
    "duration": 0,
    "start_time": "2025-05-21T23:06:21.934Z"
   },
   {
    "duration": 0,
    "start_time": "2025-05-21T23:06:21.935Z"
   },
   {
    "duration": 0,
    "start_time": "2025-05-21T23:06:21.936Z"
   },
   {
    "duration": 15,
    "start_time": "2025-05-21T23:07:58.429Z"
   },
   {
    "duration": 21,
    "start_time": "2025-05-21T23:08:04.268Z"
   },
   {
    "duration": 13,
    "start_time": "2025-05-21T23:08:41.625Z"
   },
   {
    "duration": 20,
    "start_time": "2025-05-21T23:09:33.842Z"
   },
   {
    "duration": 17,
    "start_time": "2025-05-21T23:09:48.322Z"
   },
   {
    "duration": 19,
    "start_time": "2025-05-21T23:10:09.146Z"
   },
   {
    "duration": 19,
    "start_time": "2025-05-21T23:10:31.741Z"
   },
   {
    "duration": 19,
    "start_time": "2025-05-21T23:10:47.028Z"
   },
   {
    "duration": 19,
    "start_time": "2025-05-21T23:11:00.314Z"
   },
   {
    "duration": 19,
    "start_time": "2025-05-21T23:11:06.269Z"
   },
   {
    "duration": 137,
    "start_time": "2025-05-21T23:11:07.441Z"
   },
   {
    "duration": 21,
    "start_time": "2025-05-21T23:11:10.064Z"
   },
   {
    "duration": 21,
    "start_time": "2025-05-21T23:11:11.911Z"
   },
   {
    "duration": 36,
    "start_time": "2025-05-21T23:11:13.725Z"
   },
   {
    "duration": 7,
    "start_time": "2025-05-21T23:11:14.977Z"
   },
   {
    "duration": 38,
    "start_time": "2025-05-21T23:11:17.083Z"
   },
   {
    "duration": 36,
    "start_time": "2025-05-21T23:11:18.118Z"
   },
   {
    "duration": 618,
    "start_time": "2025-05-21T23:16:23.488Z"
   },
   {
    "duration": 38,
    "start_time": "2025-05-21T23:16:30.158Z"
   },
   {
    "duration": 25,
    "start_time": "2025-05-21T23:19:05.597Z"
   },
   {
    "duration": 81,
    "start_time": "2025-05-21T23:19:48.245Z"
   },
   {
    "duration": 170,
    "start_time": "2025-05-21T23:19:58.145Z"
   },
   {
    "duration": 197,
    "start_time": "2025-05-21T23:20:06.534Z"
   },
   {
    "duration": 181,
    "start_time": "2025-05-21T23:20:11.500Z"
   },
   {
    "duration": 851,
    "start_time": "2025-05-21T23:20:59.741Z"
   },
   {
    "duration": 170,
    "start_time": "2025-05-21T23:21:30.557Z"
   },
   {
    "duration": 210,
    "start_time": "2025-05-21T23:23:06.647Z"
   },
   {
    "duration": 3,
    "start_time": "2025-05-21T23:25:18.006Z"
   },
   {
    "duration": 14,
    "start_time": "2025-05-21T23:28:54.719Z"
   },
   {
    "duration": 13,
    "start_time": "2025-05-21T23:30:06.803Z"
   },
   {
    "duration": 6,
    "start_time": "2025-05-21T23:30:50.162Z"
   },
   {
    "duration": 4,
    "start_time": "2025-05-21T23:31:42.512Z"
   },
   {
    "duration": 6,
    "start_time": "2025-05-21T23:32:51.110Z"
   },
   {
    "duration": 12,
    "start_time": "2025-05-21T23:34:16.382Z"
   },
   {
    "duration": 13,
    "start_time": "2025-05-21T23:36:41.933Z"
   },
   {
    "duration": 2179,
    "start_time": "2025-05-21T23:46:39.082Z"
   },
   {
    "duration": 398,
    "start_time": "2025-05-21T23:47:09.386Z"
   },
   {
    "duration": 1136,
    "start_time": "2025-05-21T23:47:24.572Z"
   },
   {
    "duration": 1275,
    "start_time": "2025-05-21T23:55:39.454Z"
   },
   {
    "duration": 923,
    "start_time": "2025-05-21T23:57:42.743Z"
   },
   {
    "duration": 351,
    "start_time": "2025-05-21T23:57:44.812Z"
   },
   {
    "duration": 388,
    "start_time": "2025-05-21T23:58:08.240Z"
   },
   {
    "duration": 351,
    "start_time": "2025-05-21T23:58:32.604Z"
   },
   {
    "duration": 355,
    "start_time": "2025-05-22T00:00:21.693Z"
   },
   {
    "duration": 403,
    "start_time": "2025-05-22T00:01:13.160Z"
   },
   {
    "duration": 376,
    "start_time": "2025-05-22T00:02:10.888Z"
   },
   {
    "duration": 14,
    "start_time": "2025-05-22T00:04:42.045Z"
   },
   {
    "duration": 19,
    "start_time": "2025-05-22T00:04:50.281Z"
   },
   {
    "duration": 1498,
    "start_time": "2025-05-22T06:35:57.937Z"
   },
   {
    "duration": 1895,
    "start_time": "2025-05-22T06:35:59.439Z"
   },
   {
    "duration": 125,
    "start_time": "2025-05-22T06:36:01.336Z"
   },
   {
    "duration": 5,
    "start_time": "2025-05-22T06:36:01.463Z"
   },
   {
    "duration": 97,
    "start_time": "2025-05-22T06:36:01.470Z"
   },
   {
    "duration": 37,
    "start_time": "2025-05-22T06:36:01.569Z"
   },
   {
    "duration": 27,
    "start_time": "2025-05-22T06:36:01.608Z"
   },
   {
    "duration": 37,
    "start_time": "2025-05-22T06:36:01.637Z"
   },
   {
    "duration": 35,
    "start_time": "2025-05-22T06:36:01.676Z"
   },
   {
    "duration": 204,
    "start_time": "2025-05-22T06:36:01.714Z"
   },
   {
    "duration": 163,
    "start_time": "2025-05-22T06:36:01.920Z"
   },
   {
    "duration": 255,
    "start_time": "2025-05-22T06:36:02.086Z"
   },
   {
    "duration": 166,
    "start_time": "2025-05-22T06:36:02.343Z"
   },
   {
    "duration": 59,
    "start_time": "2025-05-22T06:36:02.511Z"
   },
   {
    "duration": 244,
    "start_time": "2025-05-22T06:36:02.572Z"
   },
   {
    "duration": 489,
    "start_time": "2025-05-22T06:36:02.818Z"
   },
   {
    "duration": 4396,
    "start_time": "2025-05-22T06:36:03.309Z"
   },
   {
    "duration": 748,
    "start_time": "2025-05-22T06:36:07.708Z"
   },
   {
    "duration": 26,
    "start_time": "2025-05-22T06:36:08.457Z"
   },
   {
    "duration": 13,
    "start_time": "2025-05-22T06:36:08.484Z"
   },
   {
    "duration": 44,
    "start_time": "2025-05-22T06:36:08.499Z"
   },
   {
    "duration": 80,
    "start_time": "2025-05-22T06:36:08.545Z"
   },
   {
    "duration": 261,
    "start_time": "2025-05-22T06:36:08.638Z"
   },
   {
    "duration": 239,
    "start_time": "2025-05-22T06:36:08.901Z"
   },
   {
    "duration": 219,
    "start_time": "2025-05-22T06:36:09.142Z"
   },
   {
    "duration": 1643,
    "start_time": "2025-05-22T06:36:09.362Z"
   },
   {
    "duration": 756,
    "start_time": "2025-05-22T06:36:11.007Z"
   },
   {
    "duration": 1927,
    "start_time": "2025-05-22T06:36:11.769Z"
   },
   {
    "duration": 430,
    "start_time": "2025-05-22T06:36:13.698Z"
   },
   {
    "duration": 1161,
    "start_time": "2025-05-22T06:36:14.129Z"
   },
   {
    "duration": 591,
    "start_time": "2025-05-22T06:36:15.292Z"
   },
   {
    "duration": 22,
    "start_time": "2025-05-22T06:36:15.885Z"
   },
   {
    "duration": 432,
    "start_time": "2025-05-22T06:36:15.909Z"
   },
   {
    "duration": 377,
    "start_time": "2025-05-22T06:36:16.343Z"
   },
   {
    "duration": 85,
    "start_time": "2025-05-22T06:36:16.722Z"
   },
   {
    "duration": 34,
    "start_time": "2025-05-22T06:36:16.809Z"
   },
   {
    "duration": 78,
    "start_time": "2025-05-22T06:36:16.845Z"
   },
   {
    "duration": 66,
    "start_time": "2025-05-22T06:36:16.925Z"
   },
   {
    "duration": 6,
    "start_time": "2025-05-22T06:36:16.992Z"
   },
   {
    "duration": 93,
    "start_time": "2025-05-22T06:36:17.000Z"
   },
   {
    "duration": 202,
    "start_time": "2025-05-22T06:36:17.095Z"
   },
   {
    "duration": 13,
    "start_time": "2025-05-22T06:36:17.299Z"
   },
   {
    "duration": 1447,
    "start_time": "2025-05-22T16:11:51.467Z"
   },
   {
    "duration": 1778,
    "start_time": "2025-05-22T16:11:54.313Z"
   },
   {
    "duration": 124,
    "start_time": "2025-05-22T16:11:56.092Z"
   },
   {
    "duration": 5,
    "start_time": "2025-05-22T16:11:56.308Z"
   },
   {
    "duration": 31,
    "start_time": "2025-05-22T16:11:57.124Z"
   },
   {
    "duration": 19,
    "start_time": "2025-05-22T16:11:59.371Z"
   },
   {
    "duration": 4,
    "start_time": "2025-05-22T16:12:09.308Z"
   },
   {
    "duration": 3,
    "start_time": "2025-05-22T16:12:09.561Z"
   },
   {
    "duration": 3,
    "start_time": "2025-05-22T16:12:09.752Z"
   },
   {
    "duration": 147,
    "start_time": "2025-05-22T16:12:10.119Z"
   },
   {
    "duration": 139,
    "start_time": "2025-05-22T16:12:10.305Z"
   },
   {
    "duration": 209,
    "start_time": "2025-05-22T16:12:10.530Z"
   },
   {
    "duration": 148,
    "start_time": "2025-05-22T16:12:10.938Z"
   },
   {
    "duration": 46,
    "start_time": "2025-05-22T16:12:11.118Z"
   },
   {
    "duration": 210,
    "start_time": "2025-05-22T16:12:11.305Z"
   },
   {
    "duration": 455,
    "start_time": "2025-05-22T16:12:12.080Z"
   },
   {
    "duration": 4436,
    "start_time": "2025-05-22T16:12:15.372Z"
   },
   {
    "duration": 703,
    "start_time": "2025-05-22T16:12:19.810Z"
   },
   {
    "duration": 23,
    "start_time": "2025-05-22T16:12:22.721Z"
   },
   {
    "duration": 6,
    "start_time": "2025-05-22T16:12:22.980Z"
   },
   {
    "duration": 28,
    "start_time": "2025-05-22T16:12:23.275Z"
   },
   {
    "duration": 76,
    "start_time": "2025-05-22T16:12:23.793Z"
   },
   {
    "duration": 254,
    "start_time": "2025-05-22T16:12:26.428Z"
   },
   {
    "duration": 219,
    "start_time": "2025-05-22T16:12:27.168Z"
   },
   {
    "duration": 4,
    "start_time": "2025-05-22T16:15:12.828Z"
   },
   {
    "duration": 4,
    "start_time": "2025-05-22T16:15:18.322Z"
   },
   {
    "duration": 4,
    "start_time": "2025-05-22T16:15:37.512Z"
   },
   {
    "duration": 4,
    "start_time": "2025-05-22T16:15:56.363Z"
   },
   {
    "duration": 4,
    "start_time": "2025-05-22T16:16:05.602Z"
   },
   {
    "duration": 4,
    "start_time": "2025-05-22T16:18:16.537Z"
   },
   {
    "duration": 4,
    "start_time": "2025-05-22T16:18:34.330Z"
   },
   {
    "duration": 4,
    "start_time": "2025-05-22T16:19:30.084Z"
   },
   {
    "duration": 110,
    "start_time": "2025-05-22T16:21:29.698Z"
   },
   {
    "duration": 88,
    "start_time": "2025-05-22T16:21:50.733Z"
   },
   {
    "duration": 77,
    "start_time": "2025-05-22T16:22:03.823Z"
   },
   {
    "duration": 4,
    "start_time": "2025-05-22T16:22:08.322Z"
   },
   {
    "duration": 3,
    "start_time": "2025-05-22T16:22:17.382Z"
   },
   {
    "duration": 182,
    "start_time": "2025-05-22T16:26:29.480Z"
   },
   {
    "duration": 171,
    "start_time": "2025-05-22T16:26:47.102Z"
   },
   {
    "duration": 279,
    "start_time": "2025-05-22T16:26:51.821Z"
   },
   {
    "duration": 129,
    "start_time": "2025-05-22T16:27:36.984Z"
   }
  ],
  "colab": {
   "provenance": []
  },
  "kernelspec": {
   "display_name": "Python 3 (ipykernel)",
   "language": "python",
   "name": "python3"
  },
  "language_info": {
   "codemirror_mode": {
    "name": "ipython",
    "version": 3
   },
   "file_extension": ".py",
   "mimetype": "text/x-python",
   "name": "python",
   "nbconvert_exporter": "python",
   "pygments_lexer": "ipython3",
   "version": "3.9.5"
  },
  "toc": {
   "base_numbering": 1,
   "nav_menu": {},
   "number_sections": true,
   "sideBar": true,
   "skip_h1_title": true,
   "title_cell": "Table of Contents",
   "title_sidebar": "Contents",
   "toc_cell": false,
   "toc_position": {},
   "toc_section_display": true,
   "toc_window_display": true
  }
 },
 "nbformat": 4,
 "nbformat_minor": 1
}
